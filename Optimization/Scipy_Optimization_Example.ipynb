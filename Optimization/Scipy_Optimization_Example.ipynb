{
 "cells": [
  {
   "cell_type": "code",
   "execution_count": 1,
   "metadata": {},
   "outputs": [],
   "source": [
    "import datetime as dt"
   ]
  },
  {
   "cell_type": "code",
   "execution_count": 2,
   "metadata": {},
   "outputs": [],
   "source": [
    "import numpy as np"
   ]
  },
  {
   "cell_type": "code",
   "execution_count": 18,
   "metadata": {},
   "outputs": [],
   "source": [
    "import yfinance as yf\n",
    "from yahoofinancials import YahooFinancials"
   ]
  },
  {
   "cell_type": "code",
   "execution_count": 4,
   "metadata": {
    "scrolled": true
   },
   "outputs": [],
   "source": [
    "import matplotlib.pyplot as plt  \n",
    "import pandas as pd  \n",
    "#from util import get_data, plot_data"
   ]
  },
  {
   "cell_type": "code",
   "execution_count": 5,
   "metadata": {},
   "outputs": [],
   "source": [
    "import scipy.optimize as spo\n",
    "import matplotlib.dates as mdates"
   ]
  },
  {
   "cell_type": "code",
   "execution_count": 40,
   "metadata": {},
   "outputs": [],
   "source": [
    "def stocks_price(stocks, start_date, end_date):\n",
    "    dates = pd . date_range ( start_date , end_date )\n",
    "    df_merged = pd.DataFrame (index = dates) \n",
    "    for stock in stocks:\n",
    "        df_temp = yf.download(stock , start=start_date, end=end_date, progress=False)\n",
    "        df_temp = df_temp. rename ( columns ={'Adj Close':stock})\n",
    "        df_temp = df_temp.loc [:, stock]\n",
    "        df_merged = df_merged.join(df_temp , how ='inner')\n",
    "    return df_merged"
   ]
  },
  {
   "cell_type": "code",
   "execution_count": 25,
   "metadata": {},
   "outputs": [],
   "source": [
    "def _neg_sharpe_ratio(allocs, df):\n",
    "    df = df.multiply(allocs)\n",
    "    df = df.sum(axis=1)\n",
    "    df = (df/df.shift(1))  - 1 # find daily returns\n",
    "    df = df.iloc[1:] # remove first row\n",
    "    df_mean = df.mean()\n",
    "    df_std = df.std()\n",
    "    neg_sharpe_ratio = -1*np.sqrt(252)*df_mean/df_std\n",
    "    return neg_sharpe_ratio"
   ]
  },
  {
   "cell_type": "code",
   "execution_count": 19,
   "metadata": {},
   "outputs": [],
   "source": [
    "sd=dt.datetime(2008, 1, 1)  \n",
    "ed=dt.datetime(2009, 1, 1) \n",
    "dates = pd . date_range ( sd , ed )"
   ]
  },
  {
   "cell_type": "code",
   "execution_count": 58,
   "metadata": {},
   "outputs": [],
   "source": [
    "\n",
    "def optimize_portfolio(\n",
    "    sd=dt.datetime(2008, 1, 1),  \n",
    "    ed=dt.datetime(2009, 1, 1),  \n",
    "    syms=[\"SPY\",\"GOOG\", \"AAPL\", \"GLD\", \"XOM\"], \n",
    "    gen_plot=False):\n",
    "    \"\"\"  \n",
    "    This function should find the optimal allocations for a given set of stocks based on maximum Sharpe    \n",
    "    Ratio. The function accept as input a list of symbols as well as start and end dates and return a list of \n",
    "    floats (as a one-dimensional numpy array) that represents the allocations to each of the equities.  \n",
    "    :param sd: A datetime object that represents the start date, defaults   \n",
    "    :type sd: datetime  \n",
    "    :param ed: A datetime object that represents the end date, defaults  \n",
    "    :type ed: datetime  \n",
    "    :param syms: A list of symbols that make up the portfolio \n",
    "    :type syms: list \n",
    "    :param gen_plot: If True, optionally create a plot named plot.png. \n",
    "    :type gen_plot: bool  \n",
    "    :return: A tuple containing the portfolio allocations, cumulative return, average daily returns,  \n",
    "        standard deviation of daily returns, and Sharpe ratio \n",
    "    :rtype: tuple \n",
    "    \"\"\"  \n",
    " \n",
    "    # Read in adjusted closing prices for given symbols, date range  \n",
    "    dates = pd.date_range(sd, ed)  \n",
    "    \n",
    "    prices_all = stocks_price(syms, sd, ed)\n",
    "    \n",
    "    # Filling missing values (if any)\n",
    "    prices_all.fillna(method ='ffill',inplace=True)\n",
    "    prices_all.fillna(method ='bfill',inplace=True)\n",
    "    #\n",
    "    prices = prices_all[syms]  # only portfolio symbols \n",
    "    prices_SPY = prices_all[\"SPY\"]  # only SPY, for comparison later\n",
    "\n",
    "    #prices_SPY = normalize_stocks(prices_SPY)\n",
    "    prices_SPY = prices_all['SPY']  # only SPY, for comparison later\n",
    "\n",
    "\n",
    "    normed = prices / prices.iloc[0] # find normalized prices\n",
    "\n",
    "    stock_count = len(syms)\n",
    "    allocs = [1.0 / stock_count for i in syms]\n",
    "    bounds = tuple((0.0, 1.0) for i in syms)\n",
    "\n",
    "\n",
    "\n",
    "\n",
    "    stock_numbers = len(syms)\n",
    "    \n",
    "    # set starting value for allocation\n",
    "    allocs = [1.0 / stock_numbers for i in syms] # set equal allocation for each stock\n",
    "    # bound for each allocation\n",
    "    bounds = tuple((0.0, 1.0) for i in range(stock_numbers)) # allocation bounds for each stock (0,1)\n",
    "\n",
    "    df = normed.copy()\n",
    "\n",
    "    # check allocation sums to 1\n",
    "    def _check_sum(allocs):\n",
    "        return np.sum(allocs) - 1\n",
    "\n",
    "    # constraints variable:\n",
    "    constraints = ({'type': 'eq', 'fun':_check_sum})\n",
    "\n",
    "    '''minimizing the _neg_sharpe_ratio function with respect to differenct alloc values \n",
    "    while the df is treated as argument (not changed), the Sequential Least Squares Programming \\\n",
    "    method is used for optimization'''\n",
    "    \n",
    "    min_result = spo.minimize(_neg_sharpe_ratio, allocs,args=df,method='SLSQP',bounds=bounds,\n",
    "                              constraints=constraints,options={'disp': False},)\n",
    "\n",
    "\n",
    "    #optimized results:\n",
    "    sharpe_ratio = min_result.fun  # optimised sharpe ratio\n",
    "    allocs = min_result.x  # optimised allocs\n",
    "\n",
    "    # Get daily portfolio value \n",
    "    #port_val = prices_SPY  # add code here to compute daily portfolio values\n",
    "\n",
    "\n",
    "    prices_SPY = prices_SPY / prices_SPY.iloc[0] # normalised SPY\n",
    "\n",
    "    port_val = normed.multiply(allocs)\n",
    "    port_val = port_val.sum(axis=1)\n",
    "    daily_returns = (port_val / port_val.shift(1)) - 1\n",
    "    daily_returns = daily_returns[1:]\n",
    "\n",
    "    # calculating return values:\n",
    "    cr = port_val[-1] / port_val[0] - 1\n",
    "    sr = -sharpe_ratio\n",
    "    sddr = daily_returns.std()\n",
    "    adr = daily_returns.mean()\n",
    "\n",
    "\n",
    "\n",
    "    # Compare daily portfolio value with SPY using a normalized plot  \n",
    "    if gen_plot:  \n",
    "        # add code to plot here  \n",
    "        df_temp = pd.concat(  [port_val, prices_SPY], keys=[\"Optimal Portfolio\", \"SPY\"], axis=1)\n",
    "        ax = df_temp.plot()\n",
    "        plt.ylabel('Normalized Value')\n",
    "        plt.xlabel('Date')\n",
    "        plt.title('Daily Optimal Portfolio Value vs SPY', fontsize=12)\n",
    "        date_form = mdates.DateFormatter('%b-%Y')\n",
    "        ax.xaxis.set_major_formatter(date_form)\n",
    "        plt.grid(axis=\"x\")\n",
    "        plt.grid(axis=\"y\")\n",
    "        plt.savefig('plot')\n",
    "\n",
    "\n",
    "\n",
    "    return (allocs, cr, adr, sddr, sr)"
   ]
  },
  {
   "cell_type": "code",
   "execution_count": 60,
   "metadata": {},
   "outputs": [
    {
     "name": "stdout",
     "output_type": "stream",
     "text": [
      "Start Date: 2020-06-01 00:00:00\n",
      "End Date: 2022-06-01 00:00:00\n",
      "Symbols: ['SPY', 'HAL', 'SLB', 'MSFT']\n",
      "Allocations:[2.81892565e-18 4.40195356e-01 1.68030090e-17 5.59804644e-01]\n",
      "Sharpe Ratio: 1.5755712374523851\n",
      "Volatility (stdev of daily returns): 0.019044087631547236\n",
      "Average Daily Return: 0.0018901572866596619\n",
      "Cumulative Return: 1.3637188304132657\n"
     ]
    },
    {
     "data": {
      "image/png": "[encoded data removed]",
      "text/plain": [
       "<Figure size 432x288 with 1 Axes>"
      ]
     },
     "metadata": {
      "needs_background": "light"
     },
     "output_type": "display_data"
    }
   ],
   "source": [
    "start_date = dt.datetime(2020, 6, 1)\n",
    "end_date = dt.datetime(2022, 6, 1)\n",
    "symbols = ['SPY','HAL', 'SLB', 'MSFT']\n",
    "\n",
    "# Assess the portfolio  \n",
    "(allocations, cr, adr, sddr, sr) = optimize_portfolio(\n",
    "        sd=start_date, ed=end_date, syms=symbols, gen_plot=True) \n",
    "\n",
    "# Print statistics  \n",
    "print(f\"Start Date: {start_date}\")  \n",
    "print(f\"End Date: {end_date}\")  \n",
    "print(f\"Symbols: {symbols}\")  \n",
    "print(f\"Allocations:{allocations}\") \n",
    "print(f\"Sharpe Ratio: {sr}\")  \n",
    "print(f\"Volatility (stdev of daily returns): {sddr}\") \n",
    "print(f\"Average Daily Return: {adr}\")  \n",
    "print(f\"Cumulative Return: {cr}\") "
   ]
  }
 ],
 "metadata": {
  "jupytext": {
   "cell_metadata_filter": "-all",
   "notebook_metadata_filter": "-all",
   "text_representation": {
    "extension": ".py",
    "format_name": "light"
   }
  },
  "kernelspec": {
   "display_name": "Python 3 (ipykernel)",
   "language": "python",
   "name": "python3"
  },
  "language_info": {
   "codemirror_mode": {
    "name": "ipython",
    "version": 3
   },
   "file_extension": ".py",
   "mimetype": "text/x-python",
   "name": "python",
   "nbconvert_exporter": "python",
   "pygments_lexer": "ipython3",
   "version": "3.8.3"
  }
 },
 "nbformat": 4,
 "nbformat_minor": 4
}
