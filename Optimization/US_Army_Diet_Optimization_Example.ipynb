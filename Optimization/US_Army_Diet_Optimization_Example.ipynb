{
 "cells": [
  {
   "cell_type": "code",
   "execution_count": 1,
   "metadata": {},
   "outputs": [
    {
     "name": "stdout",
     "output_type": "stream",
     "text": [
      "Requirement already satisfied: pulp in c:\\users\\homay\\anaconda3\\lib\\site-packages (2.6.0)\n"
     ]
    }
   ],
   "source": [
    "#Part1\n",
    "# load the libraries needed\n",
    "!pip install pulp"
   ]
  },
  {
   "cell_type": "code",
   "execution_count": 2,
   "metadata": {
    "lines_to_next_cell": 2
   },
   "outputs": [],
   "source": [
    "from pulp import *\n",
    "import pandas as pd"
   ]
  },
  {
   "cell_type": "code",
   "execution_count": 3,
   "metadata": {
    "lines_to_next_cell": 2
   },
   "outputs": [],
   "source": [
    "# load the diet data\n",
    "df = pd.read_excel(open('diet.xls','rb'),sheet_name='Sheet1')"
   ]
  },
  {
   "cell_type": "code",
   "execution_count": 4,
   "metadata": {},
   "outputs": [
    {
     "data": {
      "text/html": [
       "<div>\n",
       "<style scoped>\n",
       "    .dataframe tbody tr th:only-of-type {\n",
       "        vertical-align: middle;\n",
       "    }\n",
       "\n",
       "    .dataframe tbody tr th {\n",
       "        vertical-align: top;\n",
       "    }\n",
       "\n",
       "    .dataframe thead th {\n",
       "        text-align: right;\n",
       "    }\n",
       "</style>\n",
       "<table border=\"1\" class=\"dataframe\">\n",
       "  <thead>\n",
       "    <tr style=\"text-align: right;\">\n",
       "      <th></th>\n",
       "      <th>Foods</th>\n",
       "      <th>Price/ Serving</th>\n",
       "      <th>Serving Size</th>\n",
       "      <th>Calories</th>\n",
       "      <th>Cholesterol mg</th>\n",
       "      <th>Total_Fat g</th>\n",
       "      <th>Sodium mg</th>\n",
       "      <th>Carbohydrates g</th>\n",
       "      <th>Dietary_Fiber g</th>\n",
       "      <th>Protein g</th>\n",
       "      <th>Vit_A IU</th>\n",
       "      <th>Vit_C IU</th>\n",
       "      <th>Calcium mg</th>\n",
       "      <th>Iron mg</th>\n",
       "    </tr>\n",
       "  </thead>\n",
       "  <tbody>\n",
       "    <tr>\n",
       "      <th>0</th>\n",
       "      <td>Frozen Broccoli</td>\n",
       "      <td>0.16</td>\n",
       "      <td>10 Oz Pkg</td>\n",
       "      <td>73.8</td>\n",
       "      <td>0.0</td>\n",
       "      <td>0.8</td>\n",
       "      <td>68.2</td>\n",
       "      <td>13.6</td>\n",
       "      <td>8.5</td>\n",
       "      <td>8.0</td>\n",
       "      <td>5867.4</td>\n",
       "      <td>160.2</td>\n",
       "      <td>159.0</td>\n",
       "      <td>2.3</td>\n",
       "    </tr>\n",
       "    <tr>\n",
       "      <th>1</th>\n",
       "      <td>Carrots,Raw</td>\n",
       "      <td>0.07</td>\n",
       "      <td>1/2 Cup Shredded</td>\n",
       "      <td>23.7</td>\n",
       "      <td>0.0</td>\n",
       "      <td>0.1</td>\n",
       "      <td>19.2</td>\n",
       "      <td>5.6</td>\n",
       "      <td>1.6</td>\n",
       "      <td>0.6</td>\n",
       "      <td>15471.0</td>\n",
       "      <td>5.1</td>\n",
       "      <td>14.9</td>\n",
       "      <td>0.3</td>\n",
       "    </tr>\n",
       "    <tr>\n",
       "      <th>2</th>\n",
       "      <td>Celery, Raw</td>\n",
       "      <td>0.04</td>\n",
       "      <td>1 Stalk</td>\n",
       "      <td>6.4</td>\n",
       "      <td>0.0</td>\n",
       "      <td>0.1</td>\n",
       "      <td>34.8</td>\n",
       "      <td>1.5</td>\n",
       "      <td>0.7</td>\n",
       "      <td>0.3</td>\n",
       "      <td>53.6</td>\n",
       "      <td>2.8</td>\n",
       "      <td>16.0</td>\n",
       "      <td>0.2</td>\n",
       "    </tr>\n",
       "    <tr>\n",
       "      <th>3</th>\n",
       "      <td>Frozen Corn</td>\n",
       "      <td>0.18</td>\n",
       "      <td>1/2 Cup</td>\n",
       "      <td>72.2</td>\n",
       "      <td>0.0</td>\n",
       "      <td>0.6</td>\n",
       "      <td>2.5</td>\n",
       "      <td>17.1</td>\n",
       "      <td>2.0</td>\n",
       "      <td>2.5</td>\n",
       "      <td>106.6</td>\n",
       "      <td>5.2</td>\n",
       "      <td>3.3</td>\n",
       "      <td>0.3</td>\n",
       "    </tr>\n",
       "    <tr>\n",
       "      <th>4</th>\n",
       "      <td>Lettuce,Iceberg,Raw</td>\n",
       "      <td>0.02</td>\n",
       "      <td>1 Leaf</td>\n",
       "      <td>2.6</td>\n",
       "      <td>0.0</td>\n",
       "      <td>0.0</td>\n",
       "      <td>1.8</td>\n",
       "      <td>0.4</td>\n",
       "      <td>0.3</td>\n",
       "      <td>0.2</td>\n",
       "      <td>66.0</td>\n",
       "      <td>0.8</td>\n",
       "      <td>3.8</td>\n",
       "      <td>0.1</td>\n",
       "    </tr>\n",
       "  </tbody>\n",
       "</table>\n",
       "</div>"
      ],
      "text/plain": [
       "                 Foods  Price/ Serving      Serving Size  Calories  \\\n",
       "0      Frozen Broccoli            0.16         10 Oz Pkg      73.8   \n",
       "1          Carrots,Raw            0.07  1/2 Cup Shredded      23.7   \n",
       "2          Celery, Raw            0.04           1 Stalk       6.4   \n",
       "3          Frozen Corn            0.18           1/2 Cup      72.2   \n",
       "4  Lettuce,Iceberg,Raw            0.02            1 Leaf       2.6   \n",
       "\n",
       "   Cholesterol mg  Total_Fat g  Sodium mg  Carbohydrates g  Dietary_Fiber g  \\\n",
       "0             0.0          0.8       68.2             13.6              8.5   \n",
       "1             0.0          0.1       19.2              5.6              1.6   \n",
       "2             0.0          0.1       34.8              1.5              0.7   \n",
       "3             0.0          0.6        2.5             17.1              2.0   \n",
       "4             0.0          0.0        1.8              0.4              0.3   \n",
       "\n",
       "   Protein g  Vit_A IU  Vit_C IU  Calcium mg  Iron mg  \n",
       "0        8.0    5867.4     160.2       159.0      2.3  \n",
       "1        0.6   15471.0       5.1        14.9      0.3  \n",
       "2        0.3      53.6       2.8        16.0      0.2  \n",
       "3        2.5     106.6       5.2         3.3      0.3  \n",
       "4        0.2      66.0       0.8         3.8      0.1  "
      ]
     },
     "execution_count": 4,
     "metadata": {},
     "output_type": "execute_result"
    }
   ],
   "source": [
    "# look at the data \n",
    "df.head()"
   ]
  },
  {
   "cell_type": "code",
   "execution_count": 5,
   "metadata": {},
   "outputs": [],
   "source": [
    "# clean data - take first 64 rows not including bottom data\n",
    "data = df[0:64]"
   ]
  },
  {
   "cell_type": "code",
   "execution_count": 6,
   "metadata": {
    "lines_to_next_cell": 2
   },
   "outputs": [],
   "source": [
    "# convert to list \"list within a list\"\n",
    "data = data.values.tolist()"
   ]
  },
  {
   "cell_type": "code",
   "execution_count": 7,
   "metadata": {},
   "outputs": [],
   "source": [
    "# create master foods dictionary\n",
    "foods = [x[0] for x in data]\n",
    "calories = dict([(x[0], float(x[3])) for x in data])\n",
    "cholesterol = dict([(x[0], float(x[4])) for x in data])\n",
    "totalFat = dict([(x[0], float(x[5])) for x in data])\n",
    "sodium = dict([(x[0], float(x[6])) for x in data])\n",
    "carbs = dict([(x[0], float(x[7])) for x in data])\n",
    "fiber = dict([(x[0], float(x[8])) for x in data])\n",
    "protien = dict([(x[0], float(x[9])) for x in data])\n",
    "vitaminA = dict([(x[0], float(x[10])) for x in data])\n",
    "vitaminC = dict([(x[0], float(x[11])) for x in data])\n",
    "calcium = dict([(x[0], float(x[12])) for x in data])\n",
    "iron = dict([(x[0], float(x[13])) for x in data])"
   ]
  },
  {
   "cell_type": "code",
   "execution_count": 8,
   "metadata": {
    "lines_to_next_cell": 2
   },
   "outputs": [],
   "source": [
    "# create list for mins and maxes (all foods)\n",
    "amin = [1500, 30, 20, 800, 130, 125, 60, 1000, 400, 700, 10]\n",
    "amax = [2500, 240, 70, 2000, 450, 250, 100, 10000, 5000, 1500, 40]"
   ]
  },
  {
   "cell_type": "code",
   "execution_count": 9,
   "metadata": {
    "lines_to_next_cell": 2
   },
   "outputs": [],
   "source": [
    "# append collection of contraints for each column \n",
    "B = []\n",
    "for j in range(0,11):\n",
    "    B.append(dict([(x[0], float(x[j+3])) for x in data]))"
   ]
  },
  {
   "cell_type": "code",
   "execution_count": 10,
   "metadata": {
    "lines_to_next_cell": 2
   },
   "outputs": [],
   "source": [
    "# define the cost dictionary\n",
    "cost = dict([(x[0], float(x[1])) for x in data])"
   ]
  },
  {
   "cell_type": "code",
   "execution_count": 11,
   "metadata": {},
   "outputs": [],
   "source": [
    "# create the optimization problem framework - minimization problem\n",
    "problem1 = LpProblem('PuLPTutorial', LpMinimize)"
   ]
  },
  {
   "cell_type": "code",
   "execution_count": 12,
   "metadata": {
    "lines_to_next_cell": 2
   },
   "outputs": [],
   "source": [
    "# define the variables - continous\n",
    "foodVars = LpVariable.dicts(\"foods\", foods,0)"
   ]
  },
  {
   "cell_type": "code",
   "execution_count": 13,
   "metadata": {
    "lines_to_next_cell": 2
   },
   "outputs": [],
   "source": [
    "# dictionary of lp variables \n",
    "x = LpVariable.dicts(\"x\", foods, 0)"
   ]
  },
  {
   "cell_type": "code",
   "execution_count": 14,
   "metadata": {
    "lines_to_next_cell": 2
   },
   "outputs": [],
   "source": [
    "# define the objective function\n",
    "problem1 += lpSum([cost[f] * foodVars[f] for f in foods])"
   ]
  },
  {
   "cell_type": "code",
   "execution_count": 15,
   "metadata": {},
   "outputs": [],
   "source": [
    "# add constraints for all foods\n",
    "for i in range(0,11):\n",
    "    dot_B_x = pulp.lpSum([B[i][j] * foodVars[j] for j in foods])\n",
    "    condition1 = amin[i] <= + dot_B_x\n",
    "    problem1 += condition1"
   ]
  },
  {
   "cell_type": "code",
   "execution_count": 16,
   "metadata": {},
   "outputs": [],
   "source": [
    "for i in range(0,11):\n",
    "    dot_B_x = pulp.lpSum([B[i][j] * foodVars[j] for j in foods])\n",
    "    condition2 = amax[i] >= + dot_B_x\n",
    "    problem1 += condition2"
   ]
  },
  {
   "cell_type": "code",
   "execution_count": 17,
   "metadata": {
    "lines_to_next_cell": 2
   },
   "outputs": [
    {
     "data": {
      "text/plain": [
       "1"
      ]
     },
     "execution_count": 17,
     "metadata": {},
     "output_type": "execute_result"
    }
   ],
   "source": [
    "# solve the optimization problem!\n",
    "problem1.solve()"
   ]
  },
  {
   "cell_type": "code",
   "execution_count": 18,
   "metadata": {},
   "outputs": [
    {
     "name": "stdout",
     "output_type": "stream",
     "text": [
      "Optimization Solution:\n",
      "52.64371 units of foods_Celery,_Raw\n",
      "0.25960653 units of foods_Frozen_Broccoli\n",
      "63.988506 units of foods_Lettuce,Iceberg,Raw\n",
      "2.2929389 units of foods_Oranges\n",
      "0.14184397 units of foods_Poached_Eggs\n",
      "13.869322 units of foods_Popcorn,Air_Popped\n"
     ]
    }
   ],
   "source": [
    "# print the foods of the optimal diet\n",
    "print('Optimization Solution:')\n",
    "for var in problem1.variables():\n",
    "    if var.varValue > 0:\n",
    "        if str(var).find('Chosen'):\n",
    "            print(str(var.varValue) + \" units of \" + str(var))"
   ]
  },
  {
   "cell_type": "code",
   "execution_count": 19,
   "metadata": {},
   "outputs": [
    {
     "name": "stdout",
     "output_type": "stream",
     "text": [
      "Total cost of food = $4.34\n"
     ]
    }
   ],
   "source": [
    "# print the costs of the optimal diet             \n",
    "print(\"Total cost of food = $%.2f\" % value(problem1.objective))"
   ]
  },
  {
   "cell_type": "code",
   "execution_count": 20,
   "metadata": {},
   "outputs": [],
   "source": [
    "# create the optimization problem framework - minimization problem\n",
    "problem2 = LpProblem('PuLPTutorial', LpMinimize)"
   ]
  },
  {
   "cell_type": "code",
   "execution_count": 21,
   "metadata": {
    "lines_to_next_cell": 2
   },
   "outputs": [],
   "source": [
    "# define the variables - binary\n",
    "chosenVars = LpVariable.dicts(\"Chosen\",foods,0,1,\"Binary\")"
   ]
  },
  {
   "cell_type": "code",
   "execution_count": 22,
   "metadata": {
    "lines_to_next_cell": 2
   },
   "outputs": [],
   "source": [
    "# define the objective function\n",
    "problem2 += lpSum([cost[f] * foodVars[f] for f in foods])"
   ]
  },
  {
   "cell_type": "code",
   "execution_count": 23,
   "metadata": {},
   "outputs": [],
   "source": [
    "# add contraints amount greater than .1 or less than large amount - if chosen\n",
    "for f in foods:\n",
    "    problem2 += foodVars[f] <= 10000 * chosenVars[f]\n",
    "    problem2 += foodVars[f] >= .1 * chosenVars[f]"
   ]
  },
  {
   "cell_type": "code",
   "execution_count": 24,
   "metadata": {},
   "outputs": [],
   "source": [
    "# add constraints for all foods\n",
    "for i in range(0,11):\n",
    "    dot_B_x = pulp.lpSum([B[i][j] * foodVars[j] for j in foods])\n",
    "    condition1 = amin[i] <= + dot_B_x\n",
    "    problem2 += condition1"
   ]
  },
  {
   "cell_type": "code",
   "execution_count": 25,
   "metadata": {
    "lines_to_next_cell": 2
   },
   "outputs": [],
   "source": [
    "for i in range(0,11):\n",
    "    dot_B_x = pulp.lpSum([B[i][j] * foodVars[j] for j in foods])\n",
    "    condition2 = amax[i] >= + dot_B_x\n",
    "    problem2 += condition2"
   ]
  },
  {
   "cell_type": "code",
   "execution_count": 26,
   "metadata": {
    "lines_to_next_cell": 2
   },
   "outputs": [],
   "source": [
    "# add contraints to eat at most one of a group of foods    \n",
    "problem2 += chosenVars['Frozen Broccoli'] + \\\n",
    "chosenVars['Celery, Raw'] <= 1, 'At most one Broccoli / Celery'"
   ]
  },
  {
   "cell_type": "code",
   "execution_count": 27,
   "metadata": {},
   "outputs": [],
   "source": [
    "# add contraints that says we require to eat as least 1 from group of food\n",
    "problem2 += chosenVars['Roasted Chicken'] + chosenVars['Poached Eggs'] + \\\n",
    "  chosenVars['Scrambled Eggs'] + chosenVars['Frankfurter, Beef'] + \\\n",
    "  chosenVars['Kielbasa,Prk'] + chosenVars['Hamburger W/Toppings'] + \\\n",
    "  chosenVars['Hotdog, Plain'] + chosenVars['Pork'] + \\\n",
    "  chosenVars['Bologna,Turkey'] + chosenVars['Ham,Sliced,Extralean'] + \\\n",
    "  chosenVars['White Tuna in Water'] \\\n",
    "  >= 3, 'At least three proteins'"
   ]
  },
  {
   "cell_type": "code",
   "execution_count": 28,
   "metadata": {
    "lines_to_next_cell": 2
   },
   "outputs": [
    {
     "data": {
      "text/plain": [
       "1"
      ]
     },
     "execution_count": 28,
     "metadata": {},
     "output_type": "execute_result"
    }
   ],
   "source": [
    "# solve the optimization problem!\n",
    "problem2.solve()"
   ]
  },
  {
   "cell_type": "code",
   "execution_count": 29,
   "metadata": {},
   "outputs": [
    {
     "name": "stdout",
     "output_type": "stream",
     "text": [
      "Optimization Solution:\n",
      "42.399358 units of foods_Celery,_Raw\n",
      "0.1 units of foods_Kielbasa,Prk\n",
      "82.802586 units of foods_Lettuce,Iceberg,Raw\n",
      "3.0771841 units of foods_Oranges\n",
      "1.9429716 units of foods_Peanut_Butter\n",
      "0.1 units of foods_Poached_Eggs\n",
      "13.223294 units of foods_Popcorn,Air_Popped\n",
      "0.1 units of foods_Scrambled_Eggs\n"
     ]
    }
   ],
   "source": [
    "# print the foods of the optimal diet\n",
    "print('Optimization Solution:')\n",
    "for var in problem2.variables():\n",
    "    if var.varValue > 0:\n",
    "        if str(var).find('Chosen'):\n",
    "            print(str(var.varValue) + \" units of \" + str(var))"
   ]
  },
  {
   "cell_type": "code",
   "execution_count": 30,
   "metadata": {},
   "outputs": [
    {
     "name": "stdout",
     "output_type": "stream",
     "text": [
      "Total cost of food = $4.51\n"
     ]
    }
   ],
   "source": [
    "# print the costs of the optimal diet             \n",
    "print(\"Total cost of food = $%.2f\" % value(problem2.objective))"
   ]
  }
 ],
 "metadata": {
  "jupytext": {
   "cell_metadata_filter": "-all",
   "encoding": "# -*- coding: utf-8 -*-",
   "executable": "/usr/bin/env python3",
   "notebook_metadata_filter": "-all",
   "text_representation": {
    "extension": ".py",
    "format_name": "light"
   }
  },
  "kernelspec": {
   "display_name": "Python 3 (ipykernel)",
   "language": "python",
   "name": "python3"
  },
  "language_info": {
   "codemirror_mode": {
    "name": "ipython",
    "version": 3
   },
   "file_extension": ".py",
   "mimetype": "text/x-python",
   "name": "python",
   "nbconvert_exporter": "python",
   "pygments_lexer": "ipython3",
   "version": "3.8.3"
  }
 },
 "nbformat": 4,
 "nbformat_minor": 4
}
