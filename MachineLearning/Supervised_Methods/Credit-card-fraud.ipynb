{
 "cells": [
  {
   "cell_type": "markdown",
   "metadata": {},
   "source": [
    "## Initial Data Exploration"
   ]
  },
  {
   "cell_type": "markdown",
   "metadata": {},
   "source": [
    "The initial data exploration takes a look at the dataset. Since the Time and Amount are the only non-anonymised features, we plot them to gain better understanding of their spread. A count of the fraud and non-fraud cases is done and visualised using barplot. In order to visualise the correlations between features, a heatmap is plotted."
   ]
  },
  {
   "cell_type": "code",
   "execution_count": 3,
   "metadata": {},
   "outputs": [],
   "source": [
    "#importing packages\n",
    "\n",
    "%matplotlib inline\n",
    "import scipy.stats as stats\n",
    "import numpy as np\n",
    "import pandas as pd\n",
    "import matplotlib.pyplot as plt\n",
    "import seaborn as sns\n",
    "plt.style.use('ggplot')"
   ]
  },
  {
   "cell_type": "code",
   "execution_count": 5,
   "metadata": {},
   "outputs": [],
   "source": [
    "#loading data\n",
    "\n",
    "df = pd.read_csv('../../data/creditcard.csv')"
   ]
  },
  {
   "cell_type": "code",
   "execution_count": 3,
   "metadata": {},
   "outputs": [
    {
     "name": "stdout",
     "output_type": "stream",
     "text": [
      "This data frame has 284807 rows and 31 columns.\n"
     ]
    }
   ],
   "source": [
    "#shape of df\n",
    "\n",
    "print('This data frame has {} rows and {} columns.'.format(df.shape[0], df.shape[1]))"
   ]
  },
  {
   "cell_type": "code",
   "execution_count": 4,
   "metadata": {},
   "outputs": [
    {
     "data": {
      "text/html": [
       "<div>\n",
       "<style scoped>\n",
       "    .dataframe tbody tr th:only-of-type {\n",
       "        vertical-align: middle;\n",
       "    }\n",
       "\n",
       "    .dataframe tbody tr th {\n",
       "        vertical-align: top;\n",
       "    }\n",
       "\n",
       "    .dataframe thead th {\n",
       "        text-align: right;\n",
       "    }\n",
       "</style>\n",
       "<table border=\"1\" class=\"dataframe\">\n",
       "  <thead>\n",
       "    <tr style=\"text-align: right;\">\n",
       "      <th></th>\n",
       "      <th>Time</th>\n",
       "      <th>V1</th>\n",
       "      <th>V2</th>\n",
       "      <th>V3</th>\n",
       "      <th>V4</th>\n",
       "      <th>V5</th>\n",
       "      <th>V6</th>\n",
       "      <th>V7</th>\n",
       "      <th>V8</th>\n",
       "      <th>V9</th>\n",
       "      <th>...</th>\n",
       "      <th>V21</th>\n",
       "      <th>V22</th>\n",
       "      <th>V23</th>\n",
       "      <th>V24</th>\n",
       "      <th>V25</th>\n",
       "      <th>V26</th>\n",
       "      <th>V27</th>\n",
       "      <th>V28</th>\n",
       "      <th>Amount</th>\n",
       "      <th>Class</th>\n",
       "    </tr>\n",
       "  </thead>\n",
       "  <tbody>\n",
       "    <tr>\n",
       "      <th>0</th>\n",
       "      <td>0.0</td>\n",
       "      <td>-1.359807</td>\n",
       "      <td>-0.072781</td>\n",
       "      <td>2.536347</td>\n",
       "      <td>1.378155</td>\n",
       "      <td>-0.338321</td>\n",
       "      <td>0.462388</td>\n",
       "      <td>0.239599</td>\n",
       "      <td>0.098698</td>\n",
       "      <td>0.363787</td>\n",
       "      <td>...</td>\n",
       "      <td>-0.018307</td>\n",
       "      <td>0.277838</td>\n",
       "      <td>-0.110474</td>\n",
       "      <td>0.066928</td>\n",
       "      <td>0.128539</td>\n",
       "      <td>-0.189115</td>\n",
       "      <td>0.133558</td>\n",
       "      <td>-0.021053</td>\n",
       "      <td>149.62</td>\n",
       "      <td>0</td>\n",
       "    </tr>\n",
       "    <tr>\n",
       "      <th>1</th>\n",
       "      <td>0.0</td>\n",
       "      <td>1.191857</td>\n",
       "      <td>0.266151</td>\n",
       "      <td>0.166480</td>\n",
       "      <td>0.448154</td>\n",
       "      <td>0.060018</td>\n",
       "      <td>-0.082361</td>\n",
       "      <td>-0.078803</td>\n",
       "      <td>0.085102</td>\n",
       "      <td>-0.255425</td>\n",
       "      <td>...</td>\n",
       "      <td>-0.225775</td>\n",
       "      <td>-0.638672</td>\n",
       "      <td>0.101288</td>\n",
       "      <td>-0.339846</td>\n",
       "      <td>0.167170</td>\n",
       "      <td>0.125895</td>\n",
       "      <td>-0.008983</td>\n",
       "      <td>0.014724</td>\n",
       "      <td>2.69</td>\n",
       "      <td>0</td>\n",
       "    </tr>\n",
       "    <tr>\n",
       "      <th>2</th>\n",
       "      <td>1.0</td>\n",
       "      <td>-1.358354</td>\n",
       "      <td>-1.340163</td>\n",
       "      <td>1.773209</td>\n",
       "      <td>0.379780</td>\n",
       "      <td>-0.503198</td>\n",
       "      <td>1.800499</td>\n",
       "      <td>0.791461</td>\n",
       "      <td>0.247676</td>\n",
       "      <td>-1.514654</td>\n",
       "      <td>...</td>\n",
       "      <td>0.247998</td>\n",
       "      <td>0.771679</td>\n",
       "      <td>0.909412</td>\n",
       "      <td>-0.689281</td>\n",
       "      <td>-0.327642</td>\n",
       "      <td>-0.139097</td>\n",
       "      <td>-0.055353</td>\n",
       "      <td>-0.059752</td>\n",
       "      <td>378.66</td>\n",
       "      <td>0</td>\n",
       "    </tr>\n",
       "    <tr>\n",
       "      <th>3</th>\n",
       "      <td>1.0</td>\n",
       "      <td>-0.966272</td>\n",
       "      <td>-0.185226</td>\n",
       "      <td>1.792993</td>\n",
       "      <td>-0.863291</td>\n",
       "      <td>-0.010309</td>\n",
       "      <td>1.247203</td>\n",
       "      <td>0.237609</td>\n",
       "      <td>0.377436</td>\n",
       "      <td>-1.387024</td>\n",
       "      <td>...</td>\n",
       "      <td>-0.108300</td>\n",
       "      <td>0.005274</td>\n",
       "      <td>-0.190321</td>\n",
       "      <td>-1.175575</td>\n",
       "      <td>0.647376</td>\n",
       "      <td>-0.221929</td>\n",
       "      <td>0.062723</td>\n",
       "      <td>0.061458</td>\n",
       "      <td>123.50</td>\n",
       "      <td>0</td>\n",
       "    </tr>\n",
       "    <tr>\n",
       "      <th>4</th>\n",
       "      <td>2.0</td>\n",
       "      <td>-1.158233</td>\n",
       "      <td>0.877737</td>\n",
       "      <td>1.548718</td>\n",
       "      <td>0.403034</td>\n",
       "      <td>-0.407193</td>\n",
       "      <td>0.095921</td>\n",
       "      <td>0.592941</td>\n",
       "      <td>-0.270533</td>\n",
       "      <td>0.817739</td>\n",
       "      <td>...</td>\n",
       "      <td>-0.009431</td>\n",
       "      <td>0.798278</td>\n",
       "      <td>-0.137458</td>\n",
       "      <td>0.141267</td>\n",
       "      <td>-0.206010</td>\n",
       "      <td>0.502292</td>\n",
       "      <td>0.219422</td>\n",
       "      <td>0.215153</td>\n",
       "      <td>69.99</td>\n",
       "      <td>0</td>\n",
       "    </tr>\n",
       "  </tbody>\n",
       "</table>\n",
       "<p>5 rows × 31 columns</p>\n",
       "</div>"
      ],
      "text/plain": [
       "   Time        V1        V2        V3        V4        V5        V6        V7  \\\n",
       "0   0.0 -1.359807 -0.072781  2.536347  1.378155 -0.338321  0.462388  0.239599   \n",
       "1   0.0  1.191857  0.266151  0.166480  0.448154  0.060018 -0.082361 -0.078803   \n",
       "2   1.0 -1.358354 -1.340163  1.773209  0.379780 -0.503198  1.800499  0.791461   \n",
       "3   1.0 -0.966272 -0.185226  1.792993 -0.863291 -0.010309  1.247203  0.237609   \n",
       "4   2.0 -1.158233  0.877737  1.548718  0.403034 -0.407193  0.095921  0.592941   \n",
       "\n",
       "         V8        V9  ...       V21       V22       V23       V24       V25  \\\n",
       "0  0.098698  0.363787  ... -0.018307  0.277838 -0.110474  0.066928  0.128539   \n",
       "1  0.085102 -0.255425  ... -0.225775 -0.638672  0.101288 -0.339846  0.167170   \n",
       "2  0.247676 -1.514654  ...  0.247998  0.771679  0.909412 -0.689281 -0.327642   \n",
       "3  0.377436 -1.387024  ... -0.108300  0.005274 -0.190321 -1.175575  0.647376   \n",
       "4 -0.270533  0.817739  ... -0.009431  0.798278 -0.137458  0.141267 -0.206010   \n",
       "\n",
       "        V26       V27       V28  Amount  Class  \n",
       "0 -0.189115  0.133558 -0.021053  149.62      0  \n",
       "1  0.125895 -0.008983  0.014724    2.69      0  \n",
       "2 -0.139097 -0.055353 -0.059752  378.66      0  \n",
       "3 -0.221929  0.062723  0.061458  123.50      0  \n",
       "4  0.502292  0.219422  0.215153   69.99      0  \n",
       "\n",
       "[5 rows x 31 columns]"
      ]
     },
     "execution_count": 4,
     "metadata": {},
     "output_type": "execute_result"
    }
   ],
   "source": [
    "#data\n",
    "\n",
    "df.head(5)"
   ]
  },
  {
   "cell_type": "code",
   "execution_count": 5,
   "metadata": {},
   "outputs": [
    {
     "data": {
      "text/html": [
       "<div>\n",
       "<style scoped>\n",
       "    .dataframe tbody tr th:only-of-type {\n",
       "        vertical-align: middle;\n",
       "    }\n",
       "\n",
       "    .dataframe tbody tr th {\n",
       "        vertical-align: top;\n",
       "    }\n",
       "\n",
       "    .dataframe thead th {\n",
       "        text-align: right;\n",
       "    }\n",
       "</style>\n",
       "<table border=\"1\" class=\"dataframe\">\n",
       "  <thead>\n",
       "    <tr style=\"text-align: right;\">\n",
       "      <th></th>\n",
       "      <th>Time</th>\n",
       "      <th>V1</th>\n",
       "      <th>V2</th>\n",
       "      <th>V3</th>\n",
       "      <th>V4</th>\n",
       "      <th>V5</th>\n",
       "      <th>V6</th>\n",
       "      <th>V7</th>\n",
       "      <th>V8</th>\n",
       "      <th>V9</th>\n",
       "      <th>...</th>\n",
       "      <th>V21</th>\n",
       "      <th>V22</th>\n",
       "      <th>V23</th>\n",
       "      <th>V24</th>\n",
       "      <th>V25</th>\n",
       "      <th>V26</th>\n",
       "      <th>V27</th>\n",
       "      <th>V28</th>\n",
       "      <th>Amount</th>\n",
       "      <th>Class</th>\n",
       "    </tr>\n",
       "  </thead>\n",
       "  <tbody>\n",
       "    <tr>\n",
       "      <th>count</th>\n",
       "      <td>284807.000000</td>\n",
       "      <td>2.848070e+05</td>\n",
       "      <td>2.848070e+05</td>\n",
       "      <td>2.848070e+05</td>\n",
       "      <td>2.848070e+05</td>\n",
       "      <td>2.848070e+05</td>\n",
       "      <td>2.848070e+05</td>\n",
       "      <td>2.848070e+05</td>\n",
       "      <td>2.848070e+05</td>\n",
       "      <td>2.848070e+05</td>\n",
       "      <td>...</td>\n",
       "      <td>2.848070e+05</td>\n",
       "      <td>2.848070e+05</td>\n",
       "      <td>2.848070e+05</td>\n",
       "      <td>2.848070e+05</td>\n",
       "      <td>2.848070e+05</td>\n",
       "      <td>2.848070e+05</td>\n",
       "      <td>2.848070e+05</td>\n",
       "      <td>2.848070e+05</td>\n",
       "      <td>284807.000000</td>\n",
       "      <td>284807.000000</td>\n",
       "    </tr>\n",
       "    <tr>\n",
       "      <th>mean</th>\n",
       "      <td>94813.859575</td>\n",
       "      <td>1.165980e-15</td>\n",
       "      <td>3.416908e-16</td>\n",
       "      <td>-1.373150e-15</td>\n",
       "      <td>2.086869e-15</td>\n",
       "      <td>9.604066e-16</td>\n",
       "      <td>1.490107e-15</td>\n",
       "      <td>-5.556467e-16</td>\n",
       "      <td>1.177556e-16</td>\n",
       "      <td>-2.406455e-15</td>\n",
       "      <td>...</td>\n",
       "      <td>1.656562e-16</td>\n",
       "      <td>-3.444850e-16</td>\n",
       "      <td>2.578648e-16</td>\n",
       "      <td>4.471968e-15</td>\n",
       "      <td>5.340915e-16</td>\n",
       "      <td>1.687098e-15</td>\n",
       "      <td>-3.666453e-16</td>\n",
       "      <td>-1.220404e-16</td>\n",
       "      <td>88.349619</td>\n",
       "      <td>0.001727</td>\n",
       "    </tr>\n",
       "    <tr>\n",
       "      <th>std</th>\n",
       "      <td>47488.145955</td>\n",
       "      <td>1.958696e+00</td>\n",
       "      <td>1.651309e+00</td>\n",
       "      <td>1.516255e+00</td>\n",
       "      <td>1.415869e+00</td>\n",
       "      <td>1.380247e+00</td>\n",
       "      <td>1.332271e+00</td>\n",
       "      <td>1.237094e+00</td>\n",
       "      <td>1.194353e+00</td>\n",
       "      <td>1.098632e+00</td>\n",
       "      <td>...</td>\n",
       "      <td>7.345240e-01</td>\n",
       "      <td>7.257016e-01</td>\n",
       "      <td>6.244603e-01</td>\n",
       "      <td>6.056471e-01</td>\n",
       "      <td>5.212781e-01</td>\n",
       "      <td>4.822270e-01</td>\n",
       "      <td>4.036325e-01</td>\n",
       "      <td>3.300833e-01</td>\n",
       "      <td>250.120109</td>\n",
       "      <td>0.041527</td>\n",
       "    </tr>\n",
       "    <tr>\n",
       "      <th>min</th>\n",
       "      <td>0.000000</td>\n",
       "      <td>-5.640751e+01</td>\n",
       "      <td>-7.271573e+01</td>\n",
       "      <td>-4.832559e+01</td>\n",
       "      <td>-5.683171e+00</td>\n",
       "      <td>-1.137433e+02</td>\n",
       "      <td>-2.616051e+01</td>\n",
       "      <td>-4.355724e+01</td>\n",
       "      <td>-7.321672e+01</td>\n",
       "      <td>-1.343407e+01</td>\n",
       "      <td>...</td>\n",
       "      <td>-3.483038e+01</td>\n",
       "      <td>-1.093314e+01</td>\n",
       "      <td>-4.480774e+01</td>\n",
       "      <td>-2.836627e+00</td>\n",
       "      <td>-1.029540e+01</td>\n",
       "      <td>-2.604551e+00</td>\n",
       "      <td>-2.256568e+01</td>\n",
       "      <td>-1.543008e+01</td>\n",
       "      <td>0.000000</td>\n",
       "      <td>0.000000</td>\n",
       "    </tr>\n",
       "    <tr>\n",
       "      <th>25%</th>\n",
       "      <td>54201.500000</td>\n",
       "      <td>-9.203734e-01</td>\n",
       "      <td>-5.985499e-01</td>\n",
       "      <td>-8.903648e-01</td>\n",
       "      <td>-8.486401e-01</td>\n",
       "      <td>-6.915971e-01</td>\n",
       "      <td>-7.682956e-01</td>\n",
       "      <td>-5.540759e-01</td>\n",
       "      <td>-2.086297e-01</td>\n",
       "      <td>-6.430976e-01</td>\n",
       "      <td>...</td>\n",
       "      <td>-2.283949e-01</td>\n",
       "      <td>-5.423504e-01</td>\n",
       "      <td>-1.618463e-01</td>\n",
       "      <td>-3.545861e-01</td>\n",
       "      <td>-3.171451e-01</td>\n",
       "      <td>-3.269839e-01</td>\n",
       "      <td>-7.083953e-02</td>\n",
       "      <td>-5.295979e-02</td>\n",
       "      <td>5.600000</td>\n",
       "      <td>0.000000</td>\n",
       "    </tr>\n",
       "    <tr>\n",
       "      <th>50%</th>\n",
       "      <td>84692.000000</td>\n",
       "      <td>1.810880e-02</td>\n",
       "      <td>6.548556e-02</td>\n",
       "      <td>1.798463e-01</td>\n",
       "      <td>-1.984653e-02</td>\n",
       "      <td>-5.433583e-02</td>\n",
       "      <td>-2.741871e-01</td>\n",
       "      <td>4.010308e-02</td>\n",
       "      <td>2.235804e-02</td>\n",
       "      <td>-5.142873e-02</td>\n",
       "      <td>...</td>\n",
       "      <td>-2.945017e-02</td>\n",
       "      <td>6.781943e-03</td>\n",
       "      <td>-1.119293e-02</td>\n",
       "      <td>4.097606e-02</td>\n",
       "      <td>1.659350e-02</td>\n",
       "      <td>-5.213911e-02</td>\n",
       "      <td>1.342146e-03</td>\n",
       "      <td>1.124383e-02</td>\n",
       "      <td>22.000000</td>\n",
       "      <td>0.000000</td>\n",
       "    </tr>\n",
       "    <tr>\n",
       "      <th>75%</th>\n",
       "      <td>139320.500000</td>\n",
       "      <td>1.315642e+00</td>\n",
       "      <td>8.037239e-01</td>\n",
       "      <td>1.027196e+00</td>\n",
       "      <td>7.433413e-01</td>\n",
       "      <td>6.119264e-01</td>\n",
       "      <td>3.985649e-01</td>\n",
       "      <td>5.704361e-01</td>\n",
       "      <td>3.273459e-01</td>\n",
       "      <td>5.971390e-01</td>\n",
       "      <td>...</td>\n",
       "      <td>1.863772e-01</td>\n",
       "      <td>5.285536e-01</td>\n",
       "      <td>1.476421e-01</td>\n",
       "      <td>4.395266e-01</td>\n",
       "      <td>3.507156e-01</td>\n",
       "      <td>2.409522e-01</td>\n",
       "      <td>9.104512e-02</td>\n",
       "      <td>7.827995e-02</td>\n",
       "      <td>77.165000</td>\n",
       "      <td>0.000000</td>\n",
       "    </tr>\n",
       "    <tr>\n",
       "      <th>max</th>\n",
       "      <td>172792.000000</td>\n",
       "      <td>2.454930e+00</td>\n",
       "      <td>2.205773e+01</td>\n",
       "      <td>9.382558e+00</td>\n",
       "      <td>1.687534e+01</td>\n",
       "      <td>3.480167e+01</td>\n",
       "      <td>7.330163e+01</td>\n",
       "      <td>1.205895e+02</td>\n",
       "      <td>2.000721e+01</td>\n",
       "      <td>1.559499e+01</td>\n",
       "      <td>...</td>\n",
       "      <td>2.720284e+01</td>\n",
       "      <td>1.050309e+01</td>\n",
       "      <td>2.252841e+01</td>\n",
       "      <td>4.584549e+00</td>\n",
       "      <td>7.519589e+00</td>\n",
       "      <td>3.517346e+00</td>\n",
       "      <td>3.161220e+01</td>\n",
       "      <td>3.384781e+01</td>\n",
       "      <td>25691.160000</td>\n",
       "      <td>1.000000</td>\n",
       "    </tr>\n",
       "  </tbody>\n",
       "</table>\n",
       "<p>8 rows × 31 columns</p>\n",
       "</div>"
      ],
      "text/plain": [
       "                Time            V1            V2            V3            V4  \\\n",
       "count  284807.000000  2.848070e+05  2.848070e+05  2.848070e+05  2.848070e+05   \n",
       "mean    94813.859575  1.165980e-15  3.416908e-16 -1.373150e-15  2.086869e-15   \n",
       "std     47488.145955  1.958696e+00  1.651309e+00  1.516255e+00  1.415869e+00   \n",
       "min         0.000000 -5.640751e+01 -7.271573e+01 -4.832559e+01 -5.683171e+00   \n",
       "25%     54201.500000 -9.203734e-01 -5.985499e-01 -8.903648e-01 -8.486401e-01   \n",
       "50%     84692.000000  1.810880e-02  6.548556e-02  1.798463e-01 -1.984653e-02   \n",
       "75%    139320.500000  1.315642e+00  8.037239e-01  1.027196e+00  7.433413e-01   \n",
       "max    172792.000000  2.454930e+00  2.205773e+01  9.382558e+00  1.687534e+01   \n",
       "\n",
       "                 V5            V6            V7            V8            V9  \\\n",
       "count  2.848070e+05  2.848070e+05  2.848070e+05  2.848070e+05  2.848070e+05   \n",
       "mean   9.604066e-16  1.490107e-15 -5.556467e-16  1.177556e-16 -2.406455e-15   \n",
       "std    1.380247e+00  1.332271e+00  1.237094e+00  1.194353e+00  1.098632e+00   \n",
       "min   -1.137433e+02 -2.616051e+01 -4.355724e+01 -7.321672e+01 -1.343407e+01   \n",
       "25%   -6.915971e-01 -7.682956e-01 -5.540759e-01 -2.086297e-01 -6.430976e-01   \n",
       "50%   -5.433583e-02 -2.741871e-01  4.010308e-02  2.235804e-02 -5.142873e-02   \n",
       "75%    6.119264e-01  3.985649e-01  5.704361e-01  3.273459e-01  5.971390e-01   \n",
       "max    3.480167e+01  7.330163e+01  1.205895e+02  2.000721e+01  1.559499e+01   \n",
       "\n",
       "       ...           V21           V22           V23           V24  \\\n",
       "count  ...  2.848070e+05  2.848070e+05  2.848070e+05  2.848070e+05   \n",
       "mean   ...  1.656562e-16 -3.444850e-16  2.578648e-16  4.471968e-15   \n",
       "std    ...  7.345240e-01  7.257016e-01  6.244603e-01  6.056471e-01   \n",
       "min    ... -3.483038e+01 -1.093314e+01 -4.480774e+01 -2.836627e+00   \n",
       "25%    ... -2.283949e-01 -5.423504e-01 -1.618463e-01 -3.545861e-01   \n",
       "50%    ... -2.945017e-02  6.781943e-03 -1.119293e-02  4.097606e-02   \n",
       "75%    ...  1.863772e-01  5.285536e-01  1.476421e-01  4.395266e-01   \n",
       "max    ...  2.720284e+01  1.050309e+01  2.252841e+01  4.584549e+00   \n",
       "\n",
       "                V25           V26           V27           V28         Amount  \\\n",
       "count  2.848070e+05  2.848070e+05  2.848070e+05  2.848070e+05  284807.000000   \n",
       "mean   5.340915e-16  1.687098e-15 -3.666453e-16 -1.220404e-16      88.349619   \n",
       "std    5.212781e-01  4.822270e-01  4.036325e-01  3.300833e-01     250.120109   \n",
       "min   -1.029540e+01 -2.604551e+00 -2.256568e+01 -1.543008e+01       0.000000   \n",
       "25%   -3.171451e-01 -3.269839e-01 -7.083953e-02 -5.295979e-02       5.600000   \n",
       "50%    1.659350e-02 -5.213911e-02  1.342146e-03  1.124383e-02      22.000000   \n",
       "75%    3.507156e-01  2.409522e-01  9.104512e-02  7.827995e-02      77.165000   \n",
       "max    7.519589e+00  3.517346e+00  3.161220e+01  3.384781e+01   25691.160000   \n",
       "\n",
       "               Class  \n",
       "count  284807.000000  \n",
       "mean        0.001727  \n",
       "std         0.041527  \n",
       "min         0.000000  \n",
       "25%         0.000000  \n",
       "50%         0.000000  \n",
       "75%         0.000000  \n",
       "max         1.000000  \n",
       "\n",
       "[8 rows x 31 columns]"
      ]
     },
     "execution_count": 5,
     "metadata": {},
     "output_type": "execute_result"
    }
   ],
   "source": [
    "df.describe()"
   ]
  },
  {
   "cell_type": "code",
   "execution_count": 6,
   "metadata": {},
   "outputs": [
    {
     "name": "stdout",
     "output_type": "stream",
     "text": [
      "<class 'pandas.core.frame.DataFrame'>\n",
      "RangeIndex: 284807 entries, 0 to 284806\n",
      "Data columns (total 31 columns):\n",
      " #   Column  Non-Null Count   Dtype  \n",
      "---  ------  --------------   -----  \n",
      " 0   Time    284807 non-null  float64\n",
      " 1   V1      284807 non-null  float64\n",
      " 2   V2      284807 non-null  float64\n",
      " 3   V3      284807 non-null  float64\n",
      " 4   V4      284807 non-null  float64\n",
      " 5   V5      284807 non-null  float64\n",
      " 6   V6      284807 non-null  float64\n",
      " 7   V7      284807 non-null  float64\n",
      " 8   V8      284807 non-null  float64\n",
      " 9   V9      284807 non-null  float64\n",
      " 10  V10     284807 non-null  float64\n",
      " 11  V11     284807 non-null  float64\n",
      " 12  V12     284807 non-null  float64\n",
      " 13  V13     284807 non-null  float64\n",
      " 14  V14     284807 non-null  float64\n",
      " 15  V15     284807 non-null  float64\n",
      " 16  V16     284807 non-null  float64\n",
      " 17  V17     284807 non-null  float64\n",
      " 18  V18     284807 non-null  float64\n",
      " 19  V19     284807 non-null  float64\n",
      " 20  V20     284807 non-null  float64\n",
      " 21  V21     284807 non-null  float64\n",
      " 22  V22     284807 non-null  float64\n",
      " 23  V23     284807 non-null  float64\n",
      " 24  V24     284807 non-null  float64\n",
      " 25  V25     284807 non-null  float64\n",
      " 26  V26     284807 non-null  float64\n",
      " 27  V27     284807 non-null  float64\n",
      " 28  V28     284807 non-null  float64\n",
      " 29  Amount  284807 non-null  float64\n",
      " 30  Class   284807 non-null  int64  \n",
      "dtypes: float64(30), int64(1)\n",
      "memory usage: 67.4 MB\n"
     ]
    }
   ],
   "source": [
    "df.info()"
   ]
  },
  {
   "cell_type": "code",
   "execution_count": 7,
   "metadata": {},
   "outputs": [
    {
     "name": "stderr",
     "output_type": "stream",
     "text": [
      "C:\\Users\\homay\\anaconda3\\lib\\site-packages\\seaborn\\distributions.py:2551: FutureWarning: `distplot` is a deprecated function and will be removed in a future version. Please adapt your code to use either `displot` (a figure-level function with similar flexibility) or `histplot` (an axes-level function for histograms).\n",
      "  warnings.warn(msg, FutureWarning)\n"
     ]
    },
    {
     "data": {
      "text/plain": [
       "<AxesSubplot:title={'center':'Distribution of Time Attribute'}, xlabel='Time', ylabel='Density'>"
      ]
     },
     "execution_count": 7,
     "metadata": {},
     "output_type": "execute_result"
    },
    {
     "data": {
      "image/png": "[encoded data removed]",
      "text/plain": [
       "<Figure size 720x576 with 1 Axes>"
      ]
     },
     "metadata": {},
     "output_type": "display_data"
    }
   ],
   "source": [
    "#visualizations of time and amount\n",
    "\n",
    "plt.figure(figsize=(10,8))\n",
    "plt.title('Distribution of Time Attribute')\n",
    "sns.distplot(df.Time, hist=True,color='#388E3C')"
   ]
  },
  {
   "cell_type": "code",
   "execution_count": 8,
   "metadata": {},
   "outputs": [
    {
     "name": "stderr",
     "output_type": "stream",
     "text": [
      "C:\\Users\\homay\\anaconda3\\lib\\site-packages\\seaborn\\distributions.py:2551: FutureWarning: `distplot` is a deprecated function and will be removed in a future version. Please adapt your code to use either `displot` (a figure-level function with similar flexibility) or `histplot` (an axes-level function for histograms).\n",
      "  warnings.warn(msg, FutureWarning)\n"
     ]
    },
    {
     "data": {
      "text/plain": [
       "<AxesSubplot:title={'center':'Amount Attribute Distribution'}, xlabel='Amount', ylabel='Density'>"
      ]
     },
     "execution_count": 8,
     "metadata": {},
     "output_type": "execute_result"
    },
    {
     "data": {
      "image/png": "[encoded data removed]",
      "text/plain": [
       "<Figure size 720x576 with 1 Axes>"
      ]
     },
     "metadata": {},
     "output_type": "display_data"
    }
   ],
   "source": [
    "plt.figure(figsize=(10,8))\n",
    "plt.title('Amount Attribute Distribution')\n",
    "sns.distplot(df.Amount,color='#388E3C')"
   ]
  },
  {
   "cell_type": "code",
   "execution_count": 9,
   "metadata": {},
   "outputs": [
    {
     "name": "stdout",
     "output_type": "stream",
     "text": [
      "There were 284315 non-fraudulent transactions (99.827%) and 492 fraudulent transactions (0.173%).\n"
     ]
    }
   ],
   "source": [
    "#count of fraud vs. normal transactions \n",
    "\n",
    "counts = df.Class.value_counts()\n",
    "normal = counts[0]\n",
    "fraudulent = counts[1]\n",
    "perc_normal = (normal/(normal+fraudulent))*100\n",
    "perc_fraudulent = (fraudulent/(normal+fraudulent))*100\n",
    "print('There were {} non-fraudulent transactions ({:.3f}%) and {} fraudulent transactions ({:.3f}%).'.format(normal, perc_normal, fraudulent, perc_fraudulent))"
   ]
  },
  {
   "cell_type": "code",
   "execution_count": 10,
   "metadata": {
    "scrolled": true
   },
   "outputs": [
    {
     "data": {
      "text/plain": [
       "Text(0.5, 0, 'Class (0:Non-Fraudulent, 1:Fraudulent)')"
      ]
     },
     "execution_count": 10,
     "metadata": {},
     "output_type": "execute_result"
    },
    {
     "data": {
      "image/png": "[encoded data removed]",
      "text/plain": [
       "<Figure size 720x576 with 1 Axes>"
      ]
     },
     "metadata": {},
     "output_type": "display_data"
    }
   ],
   "source": [
    "plt.figure(figsize=(10,8))\n",
    "sns.barplot(x=counts.index, y=counts)\n",
    "sns.set(style=\"whitegrid\", color_codes=True)\n",
    "pal = sns.color_palette(\"Greens_d\", len(counts))\n",
    "plt.title('Count of Fraudulent vs. Non-Fraudulent Transactions')\n",
    "plt.ylabel('Count')\n",
    "plt.xlabel('Class (0:Non-Fraudulent, 1:Fraudulent)')"
   ]
  },
  {
   "cell_type": "code",
   "execution_count": 11,
   "metadata": {},
   "outputs": [
    {
     "data": {
      "text/plain": [
       "Text(0.5, 1.0, 'Heatmap of Correlation')"
      ]
     },
     "execution_count": 11,
     "metadata": {},
     "output_type": "execute_result"
    },
    {
     "data": {
      "image/png": "[encoded data removed]",
      "text/plain": [
       "<Figure size 864x720 with 2 Axes>"
      ]
     },
     "metadata": {},
     "output_type": "display_data"
    }
   ],
   "source": [
    "#finding correlation between columns and plotting heatmap\n",
    "\n",
    "corr = df.corr()\n",
    "plt.figure(figsize=(12,10))\n",
    "heat = sns.heatmap(data=corr,xticklabels=corr.columns,yticklabels=corr.columns,linewidths=.1,cmap=\"Reds\")\n",
    "plt.title('Heatmap of Correlation')"
   ]
  },
  {
   "cell_type": "markdown",
   "metadata": {},
   "source": [
    "## Log10 of  Amount and Time, instead of Scaling"
   ]
  },
  {
   "cell_type": "markdown",
   "metadata": {},
   "source": [
    "### as per our discussuion, tried the log10 of Amount and Time features instead of scaling "
   ]
  },
  {
   "cell_type": "code",
   "execution_count": 6,
   "metadata": {},
   "outputs": [],
   "source": [
    "def safe_log10(X):\n",
    "    resulted_log10=[]\n",
    "    for x in X:\n",
    "        if x <= 0:\n",
    "            resulted_log10.append(0.0)\n",
    "        else:\n",
    "            resulted_log10.append(np.log10(x))\n",
    "            \n",
    "        \n",
    "    return resulted_log10"
   ]
  },
  {
   "cell_type": "code",
   "execution_count": 7,
   "metadata": {},
   "outputs": [],
   "source": [
    "Log10_time = safe_log10(df['Time'].tolist())"
   ]
  },
  {
   "cell_type": "code",
   "execution_count": 8,
   "metadata": {},
   "outputs": [],
   "source": [
    "df['Log10_Time']=Log10_time"
   ]
  },
  {
   "cell_type": "code",
   "execution_count": 9,
   "metadata": {},
   "outputs": [
    {
     "name": "stderr",
     "output_type": "stream",
     "text": [
      "C:\\Users\\homay\\anaconda3\\lib\\site-packages\\seaborn\\distributions.py:2551: FutureWarning: `distplot` is a deprecated function and will be removed in a future version. Please adapt your code to use either `displot` (a figure-level function with similar flexibility) or `histplot` (an axes-level function for histograms).\n",
      "  warnings.warn(msg, FutureWarning)\n"
     ]
    },
    {
     "data": {
      "text/plain": [
       "<AxesSubplot:title={'center':'Distribution of Log10_Time Attribute'}, xlabel='Log10_Time', ylabel='Density'>"
      ]
     },
     "execution_count": 9,
     "metadata": {},
     "output_type": "execute_result"
    },
    {
     "data": {
      "image/png": "[encoded data removed]",
      "text/plain": [
       "<Figure size 720x576 with 1 Axes>"
      ]
     },
     "metadata": {},
     "output_type": "display_data"
    }
   ],
   "source": [
    "plt.figure(figsize=(10,8))\n",
    "plt.title('Distribution of Log10_Time Attribute')\n",
    "sns.distplot(df['Log10_Time'], hist=True,color='#388E3C')"
   ]
  },
  {
   "cell_type": "code",
   "execution_count": 10,
   "metadata": {},
   "outputs": [],
   "source": [
    "Log10_Amount = safe_log10(df['Amount'].tolist())"
   ]
  },
  {
   "cell_type": "code",
   "execution_count": 11,
   "metadata": {},
   "outputs": [],
   "source": [
    "df['Log10_Amount']=Log10_Amount"
   ]
  },
  {
   "cell_type": "code",
   "execution_count": 12,
   "metadata": {
    "scrolled": true
   },
   "outputs": [
    {
     "name": "stderr",
     "output_type": "stream",
     "text": [
      "C:\\Users\\homay\\anaconda3\\lib\\site-packages\\seaborn\\distributions.py:2551: FutureWarning: `distplot` is a deprecated function and will be removed in a future version. Please adapt your code to use either `displot` (a figure-level function with similar flexibility) or `histplot` (an axes-level function for histograms).\n",
      "  warnings.warn(msg, FutureWarning)\n"
     ]
    },
    {
     "data": {
      "text/plain": [
       "<AxesSubplot:title={'center':'Distribution of Log10_Amount Attribute'}, xlabel='Log10_Amount', ylabel='Density'>"
      ]
     },
     "execution_count": 12,
     "metadata": {},
     "output_type": "execute_result"
    },
    {
     "data": {
      "image/png": "[encoded data removed]",
      "text/plain": [
       "<Figure size 720x576 with 1 Axes>"
      ]
     },
     "metadata": {},
     "output_type": "display_data"
    }
   ],
   "source": [
    "plt.figure(figsize=(10,8))\n",
    "plt.title('Distribution of Log10_Amount Attribute')\n",
    "sns.distplot(df['Log10_Amount'], hist=True,color='#388E3C')"
   ]
  },
  {
   "cell_type": "code",
   "execution_count": 20,
   "metadata": {},
   "outputs": [],
   "source": [
    "df.drop(['Amount', 'Time'], axis=1, inplace=True)"
   ]
  },
  {
   "cell_type": "markdown",
   "metadata": {},
   "source": [
    "X = df.drop('Class', axis=1)\n",
    "y = df['Class']"
   ]
  },
  {
   "cell_type": "code",
   "execution_count": 61,
   "metadata": {},
   "outputs": [
    {
     "data": {
      "text/plain": [
       "4920      1\n",
       "6108      1\n",
       "6329      1\n",
       "6331      1\n",
       "6334      1\n",
       "         ..\n",
       "183659    0\n",
       "131185    0\n",
       "173862    0\n",
       "158153    0\n",
       "252659    0\n",
       "Name: Class, Length: 830, dtype: int64"
      ]
     },
     "execution_count": 61,
     "metadata": {},
     "output_type": "execute_result"
    }
   ],
   "source": [
    "y"
   ]
  },
  {
   "cell_type": "markdown",
   "metadata": {},
   "source": [
    "### Random Undersampling"
   ]
  },
  {
   "cell_type": "markdown",
   "metadata": {},
   "source": [
    "The present dataset is highly imbalanced with the fraud cases forming an extremely small percentage of the whole. This poses a problem in training the algorithms. To deal with this problem, the technique of random undersampling - removal of samples from majority class, is used. "
   ]
  },
  {
   "cell_type": "code",
   "execution_count": 39,
   "metadata": {
    "scrolled": false
   },
   "outputs": [
    {
     "data": {
      "text/plain": [
       "Text(0.5, 0, 'Class (0:Non-Fraudulent, 1:Fraudulent)')"
      ]
     },
     "execution_count": 39,
     "metadata": {},
     "output_type": "execute_result"
    },
    {
     "data": {
      "image/png": "[encoded data removed]",
      "text/plain": [
       "<Figure size 576x432 with 1 Axes>"
      ]
     },
     "metadata": {},
     "output_type": "display_data"
    }
   ],
   "source": [
    "\n",
    "# undersampling with 1:1 ratio of legal and fraud transactions\n",
    "\n",
    "frauds_Nu = len(df[df['Class'] == 1])\n",
    "non_fraud_indices = df[df.Class == 0].index\n",
    "random_indices = np.random.choice(non_fraud_indices,frauds_Nu, replace=False)\n",
    "fraud_indices = df[df.Class == 1].index\n",
    "under_sample_indices = np.concatenate([fraud_indices,random_indices])\n",
    "under_sample = df.loc[under_sample_indices]\n",
    "\n",
    "\n",
    "\n",
    "new_counts = under_sample.Class.value_counts()\n",
    "plt.figure(figsize=(8,6))\n",
    "sns.barplot(x=new_counts.index, y=new_counts ,palette=\"rocket\")\n",
    "plt.title('Count of Frauds vs. Non-Frauds Transactions In the Subsample')\n",
    "plt.ylabel('Count')\n",
    "plt.xlabel('Class (0:Non-Fraudulent, 1:Fraudulent)')"
   ]
  },
  {
   "cell_type": "code",
   "execution_count": 98,
   "metadata": {},
   "outputs": [
    {
     "data": {
      "text/plain": [
       "984"
      ]
     },
     "execution_count": 98,
     "metadata": {},
     "output_type": "execute_result"
    }
   ],
   "source": [
    "len(under_sample)\n"
   ]
  },
  {
   "cell_type": "markdown",
   "metadata": {},
   "source": [
    "### Outlier Detection and Removal"
   ]
  },
  {
   "cell_type": "markdown",
   "metadata": {},
   "source": [
    "Here, features with high negative correlation and high positive correlation are identified. We then remove the outliers that lies outside 2.5 times the IQR in an attempt to eliminate the effect of outliers."
   ]
  },
  {
   "cell_type": "code",
   "execution_count": 22,
   "metadata": {},
   "outputs": [],
   "source": [
    "# correlation between features in the subsample\n",
    "\n",
    "corr = under_sample.corr()\n",
    "corr = corr[['Class']]"
   ]
  },
  {
   "cell_type": "code",
   "execution_count": 23,
   "metadata": {},
   "outputs": [
    {
     "data": {
      "text/html": [
       "<div>\n",
       "<style scoped>\n",
       "    .dataframe tbody tr th:only-of-type {\n",
       "        vertical-align: middle;\n",
       "    }\n",
       "\n",
       "    .dataframe tbody tr th {\n",
       "        vertical-align: top;\n",
       "    }\n",
       "\n",
       "    .dataframe thead th {\n",
       "        text-align: right;\n",
       "    }\n",
       "</style>\n",
       "<table border=\"1\" class=\"dataframe\">\n",
       "  <thead>\n",
       "    <tr style=\"text-align: right;\">\n",
       "      <th></th>\n",
       "      <th>Class</th>\n",
       "    </tr>\n",
       "  </thead>\n",
       "  <tbody>\n",
       "    <tr>\n",
       "      <th>V3</th>\n",
       "      <td>-0.567199</td>\n",
       "    </tr>\n",
       "    <tr>\n",
       "      <th>V9</th>\n",
       "      <td>-0.563596</td>\n",
       "    </tr>\n",
       "    <tr>\n",
       "      <th>V10</th>\n",
       "      <td>-0.624716</td>\n",
       "    </tr>\n",
       "    <tr>\n",
       "      <th>V12</th>\n",
       "      <td>-0.680864</td>\n",
       "    </tr>\n",
       "    <tr>\n",
       "      <th>V14</th>\n",
       "      <td>-0.749412</td>\n",
       "    </tr>\n",
       "    <tr>\n",
       "      <th>V16</th>\n",
       "      <td>-0.595771</td>\n",
       "    </tr>\n",
       "    <tr>\n",
       "      <th>V17</th>\n",
       "      <td>-0.561708</td>\n",
       "    </tr>\n",
       "  </tbody>\n",
       "</table>\n",
       "</div>"
      ],
      "text/plain": [
       "        Class\n",
       "V3  -0.567199\n",
       "V9  -0.563596\n",
       "V10 -0.624716\n",
       "V12 -0.680864\n",
       "V14 -0.749412\n",
       "V16 -0.595771\n",
       "V17 -0.561708"
      ]
     },
     "execution_count": 23,
     "metadata": {},
     "output_type": "execute_result"
    }
   ],
   "source": [
    "corr[corr.Class < -0.5] # features with high negative correlation"
   ]
  },
  {
   "cell_type": "code",
   "execution_count": 24,
   "metadata": {},
   "outputs": [
    {
     "data": {
      "text/html": [
       "<div>\n",
       "<style scoped>\n",
       "    .dataframe tbody tr th:only-of-type {\n",
       "        vertical-align: middle;\n",
       "    }\n",
       "\n",
       "    .dataframe tbody tr th {\n",
       "        vertical-align: top;\n",
       "    }\n",
       "\n",
       "    .dataframe thead th {\n",
       "        text-align: right;\n",
       "    }\n",
       "</style>\n",
       "<table border=\"1\" class=\"dataframe\">\n",
       "  <thead>\n",
       "    <tr style=\"text-align: right;\">\n",
       "      <th></th>\n",
       "      <th>Class</th>\n",
       "    </tr>\n",
       "  </thead>\n",
       "  <tbody>\n",
       "    <tr>\n",
       "      <th>V4</th>\n",
       "      <td>0.721245</td>\n",
       "    </tr>\n",
       "    <tr>\n",
       "      <th>V11</th>\n",
       "      <td>0.682888</td>\n",
       "    </tr>\n",
       "    <tr>\n",
       "      <th>Class</th>\n",
       "      <td>1.000000</td>\n",
       "    </tr>\n",
       "  </tbody>\n",
       "</table>\n",
       "</div>"
      ],
      "text/plain": [
       "          Class\n",
       "V4     0.721245\n",
       "V11    0.682888\n",
       "Class  1.000000"
      ]
     },
     "execution_count": 24,
     "metadata": {},
     "output_type": "execute_result"
    }
   ],
   "source": [
    "corr[corr.Class > 0.5]  # features with high positive correlation"
   ]
  },
  {
   "cell_type": "code",
   "execution_count": 25,
   "metadata": {},
   "outputs": [
    {
     "data": {
      "image/png": "[encoded data removed]",
      "text/plain": [
       "<Figure size 1872x1152 with 7 Axes>"
      ]
     },
     "metadata": {},
     "output_type": "display_data"
    }
   ],
   "source": [
    "#visualizing the features w high negative correlation\n",
    "f, axes = plt.subplots(nrows=2, ncols=4, figsize=(26,16))\n",
    "\n",
    "f.suptitle('Features With High Negative Correlation', size=35)\n",
    "sns.boxplot(x=\"Class\", y=\"V3\", data=under_sample, palette=\"rocket\", ax=axes[0,0])\n",
    "sns.boxplot(x=\"Class\", y=\"V9\", data=under_sample, palette=\"rocket\", ax=axes[0,1])\n",
    "sns.boxplot(x=\"Class\", y=\"V10\", data=under_sample, palette=\"rocket\" ,ax=axes[0,2])\n",
    "sns.boxplot(x=\"Class\", y=\"V12\", data=under_sample, palette=\"rocket\", ax=axes[0,3])\n",
    "sns.boxplot(x=\"Class\", y=\"V14\", data=under_sample, palette=\"rocket\", ax=axes[1,0])\n",
    "sns.boxplot(x=\"Class\", y=\"V16\", data=under_sample, palette=\"rocket\", ax=axes[1,1])\n",
    "sns.boxplot(x=\"Class\", y=\"V17\", data=under_sample, palette=\"rocket\", ax=axes[1,2])\n",
    "f.delaxes(axes[1,3])"
   ]
  },
  {
   "cell_type": "code",
   "execution_count": 26,
   "metadata": {
    "scrolled": false
   },
   "outputs": [
    {
     "data": {
      "text/plain": [
       "<AxesSubplot:xlabel='Class', ylabel='V11'>"
      ]
     },
     "execution_count": 26,
     "metadata": {},
     "output_type": "execute_result"
    },
    {
     "data": {
      "image/png": "[encoded data removed]",
      "text/plain": [
       "<Figure size 1296x648 with 2 Axes>"
      ]
     },
     "metadata": {},
     "output_type": "display_data"
    }
   ],
   "source": [
    "#visualizing the features w high positive correlation\n",
    "f, axes = plt.subplots(nrows=1, ncols=2, figsize=(18,9))\n",
    "\n",
    "f.suptitle('Features With High Positive Correlation', size=20)\n",
    "sns.boxplot(x=\"Class\", y=\"V4\", data=under_sample,palette=\"rocket\",ax=axes[0])\n",
    "sns.boxplot(x=\"Class\", y=\"V11\", data=under_sample,palette=\"rocket\",ax=axes[1])"
   ]
  },
  {
   "cell_type": "code",
   "execution_count": 40,
   "metadata": {},
   "outputs": [],
   "source": [
    "# removing extreme outliers\n",
    "Q1 = under_sample.quantile(0.25)\n",
    "Q3 = under_sample.quantile(0.75)\n",
    "IQR = Q3 - Q1\n",
    "\n",
    "df2 = under_sample[~((under_sample < (Q1 - 4 * IQR)) |(under_sample > (Q3 + 4 * IQR))).any(axis=1)]\n",
    "\n"
   ]
  },
  {
   "cell_type": "code",
   "execution_count": 41,
   "metadata": {},
   "outputs": [
    {
     "data": {
      "text/html": [
       "<div>\n",
       "<style scoped>\n",
       "    .dataframe tbody tr th:only-of-type {\n",
       "        vertical-align: middle;\n",
       "    }\n",
       "\n",
       "    .dataframe tbody tr th {\n",
       "        vertical-align: top;\n",
       "    }\n",
       "\n",
       "    .dataframe thead th {\n",
       "        text-align: right;\n",
       "    }\n",
       "</style>\n",
       "<table border=\"1\" class=\"dataframe\">\n",
       "  <thead>\n",
       "    <tr style=\"text-align: right;\">\n",
       "      <th></th>\n",
       "      <th>V1</th>\n",
       "      <th>V2</th>\n",
       "      <th>V3</th>\n",
       "      <th>V4</th>\n",
       "      <th>V5</th>\n",
       "      <th>V6</th>\n",
       "      <th>V7</th>\n",
       "      <th>V8</th>\n",
       "      <th>V9</th>\n",
       "      <th>V10</th>\n",
       "      <th>...</th>\n",
       "      <th>V22</th>\n",
       "      <th>V23</th>\n",
       "      <th>V24</th>\n",
       "      <th>V25</th>\n",
       "      <th>V26</th>\n",
       "      <th>V27</th>\n",
       "      <th>V28</th>\n",
       "      <th>Class</th>\n",
       "      <th>Log10_Time</th>\n",
       "      <th>Log10_Amount</th>\n",
       "    </tr>\n",
       "  </thead>\n",
       "  <tbody>\n",
       "    <tr>\n",
       "      <th>4920</th>\n",
       "      <td>-2.303350</td>\n",
       "      <td>1.759247</td>\n",
       "      <td>-0.359745</td>\n",
       "      <td>2.330243</td>\n",
       "      <td>-0.821628</td>\n",
       "      <td>-0.075788</td>\n",
       "      <td>0.562320</td>\n",
       "      <td>-0.399147</td>\n",
       "      <td>-0.238253</td>\n",
       "      <td>-1.525412</td>\n",
       "      <td>...</td>\n",
       "      <td>-0.932391</td>\n",
       "      <td>0.172726</td>\n",
       "      <td>-0.087330</td>\n",
       "      <td>-0.156114</td>\n",
       "      <td>-0.542628</td>\n",
       "      <td>0.039566</td>\n",
       "      <td>-0.153029</td>\n",
       "      <td>1</td>\n",
       "      <td>3.649530</td>\n",
       "      <td>2.380085</td>\n",
       "    </tr>\n",
       "    <tr>\n",
       "      <th>6108</th>\n",
       "      <td>-4.397974</td>\n",
       "      <td>1.358367</td>\n",
       "      <td>-2.592844</td>\n",
       "      <td>2.679787</td>\n",
       "      <td>-1.128131</td>\n",
       "      <td>-1.706536</td>\n",
       "      <td>-3.496197</td>\n",
       "      <td>-0.248778</td>\n",
       "      <td>-0.247768</td>\n",
       "      <td>-4.801637</td>\n",
       "      <td>...</td>\n",
       "      <td>0.176968</td>\n",
       "      <td>-0.436207</td>\n",
       "      <td>-0.053502</td>\n",
       "      <td>0.252405</td>\n",
       "      <td>-0.657488</td>\n",
       "      <td>-0.827136</td>\n",
       "      <td>0.849573</td>\n",
       "      <td>1</td>\n",
       "      <td>3.844229</td>\n",
       "      <td>1.770852</td>\n",
       "    </tr>\n",
       "    <tr>\n",
       "      <th>6329</th>\n",
       "      <td>1.234235</td>\n",
       "      <td>3.019740</td>\n",
       "      <td>-4.304597</td>\n",
       "      <td>4.732795</td>\n",
       "      <td>3.624201</td>\n",
       "      <td>-1.357746</td>\n",
       "      <td>1.713445</td>\n",
       "      <td>-0.496358</td>\n",
       "      <td>-1.282858</td>\n",
       "      <td>-2.447469</td>\n",
       "      <td>...</td>\n",
       "      <td>-0.704181</td>\n",
       "      <td>-0.656805</td>\n",
       "      <td>-1.632653</td>\n",
       "      <td>1.488901</td>\n",
       "      <td>0.566797</td>\n",
       "      <td>-0.010016</td>\n",
       "      <td>0.146793</td>\n",
       "      <td>1</td>\n",
       "      <td>3.876160</td>\n",
       "      <td>0.000000</td>\n",
       "    </tr>\n",
       "    <tr>\n",
       "      <th>6331</th>\n",
       "      <td>0.008430</td>\n",
       "      <td>4.137837</td>\n",
       "      <td>-6.240697</td>\n",
       "      <td>6.675732</td>\n",
       "      <td>0.768307</td>\n",
       "      <td>-3.353060</td>\n",
       "      <td>-1.631735</td>\n",
       "      <td>0.154612</td>\n",
       "      <td>-2.795892</td>\n",
       "      <td>-6.187891</td>\n",
       "      <td>...</td>\n",
       "      <td>-0.608057</td>\n",
       "      <td>-0.539528</td>\n",
       "      <td>0.128940</td>\n",
       "      <td>1.488481</td>\n",
       "      <td>0.507963</td>\n",
       "      <td>0.735822</td>\n",
       "      <td>0.513574</td>\n",
       "      <td>1</td>\n",
       "      <td>3.876564</td>\n",
       "      <td>0.000000</td>\n",
       "    </tr>\n",
       "    <tr>\n",
       "      <th>6334</th>\n",
       "      <td>0.026779</td>\n",
       "      <td>4.132464</td>\n",
       "      <td>-6.560600</td>\n",
       "      <td>6.348557</td>\n",
       "      <td>1.329666</td>\n",
       "      <td>-2.513479</td>\n",
       "      <td>-1.689102</td>\n",
       "      <td>0.303253</td>\n",
       "      <td>-3.139409</td>\n",
       "      <td>-6.045468</td>\n",
       "      <td>...</td>\n",
       "      <td>-0.576752</td>\n",
       "      <td>-0.669605</td>\n",
       "      <td>-0.759908</td>\n",
       "      <td>1.605056</td>\n",
       "      <td>0.540675</td>\n",
       "      <td>0.737040</td>\n",
       "      <td>0.496699</td>\n",
       "      <td>1</td>\n",
       "      <td>3.877083</td>\n",
       "      <td>0.000000</td>\n",
       "    </tr>\n",
       "    <tr>\n",
       "      <th>...</th>\n",
       "      <td>...</td>\n",
       "      <td>...</td>\n",
       "      <td>...</td>\n",
       "      <td>...</td>\n",
       "      <td>...</td>\n",
       "      <td>...</td>\n",
       "      <td>...</td>\n",
       "      <td>...</td>\n",
       "      <td>...</td>\n",
       "      <td>...</td>\n",
       "      <td>...</td>\n",
       "      <td>...</td>\n",
       "      <td>...</td>\n",
       "      <td>...</td>\n",
       "      <td>...</td>\n",
       "      <td>...</td>\n",
       "      <td>...</td>\n",
       "      <td>...</td>\n",
       "      <td>...</td>\n",
       "      <td>...</td>\n",
       "      <td>...</td>\n",
       "    </tr>\n",
       "    <tr>\n",
       "      <th>225591</th>\n",
       "      <td>2.199047</td>\n",
       "      <td>-1.821826</td>\n",
       "      <td>-0.175704</td>\n",
       "      <td>-1.665512</td>\n",
       "      <td>-1.775547</td>\n",
       "      <td>0.315741</td>\n",
       "      <td>-1.986455</td>\n",
       "      <td>0.262901</td>\n",
       "      <td>-0.607081</td>\n",
       "      <td>1.659510</td>\n",
       "      <td>...</td>\n",
       "      <td>0.058760</td>\n",
       "      <td>0.251025</td>\n",
       "      <td>-0.859579</td>\n",
       "      <td>-0.537140</td>\n",
       "      <td>-0.212500</td>\n",
       "      <td>0.055404</td>\n",
       "      <td>-0.047340</td>\n",
       "      <td>0</td>\n",
       "      <td>5.159299</td>\n",
       "      <td>1.476397</td>\n",
       "    </tr>\n",
       "    <tr>\n",
       "      <th>8304</th>\n",
       "      <td>-1.085383</td>\n",
       "      <td>0.507854</td>\n",
       "      <td>0.904237</td>\n",
       "      <td>-1.156567</td>\n",
       "      <td>0.876260</td>\n",
       "      <td>0.263153</td>\n",
       "      <td>0.130753</td>\n",
       "      <td>0.170491</td>\n",
       "      <td>2.246222</td>\n",
       "      <td>-0.766036</td>\n",
       "      <td>...</td>\n",
       "      <td>-0.304902</td>\n",
       "      <td>-0.297577</td>\n",
       "      <td>-1.333377</td>\n",
       "      <td>-0.066861</td>\n",
       "      <td>0.974165</td>\n",
       "      <td>0.224810</td>\n",
       "      <td>0.285037</td>\n",
       "      <td>0</td>\n",
       "      <td>4.044775</td>\n",
       "      <td>0.204120</td>\n",
       "    </tr>\n",
       "    <tr>\n",
       "      <th>264866</th>\n",
       "      <td>-4.593414</td>\n",
       "      <td>4.476370</td>\n",
       "      <td>-3.664740</td>\n",
       "      <td>-1.040246</td>\n",
       "      <td>-1.657097</td>\n",
       "      <td>-0.991106</td>\n",
       "      <td>-1.458040</td>\n",
       "      <td>2.725615</td>\n",
       "      <td>1.137136</td>\n",
       "      <td>2.255989</td>\n",
       "      <td>...</td>\n",
       "      <td>1.011532</td>\n",
       "      <td>0.397845</td>\n",
       "      <td>0.657595</td>\n",
       "      <td>-0.092451</td>\n",
       "      <td>-0.198098</td>\n",
       "      <td>0.998944</td>\n",
       "      <td>0.666975</td>\n",
       "      <td>0</td>\n",
       "      <td>5.208530</td>\n",
       "      <td>0.252853</td>\n",
       "    </tr>\n",
       "    <tr>\n",
       "      <th>245705</th>\n",
       "      <td>-2.080475</td>\n",
       "      <td>-1.172135</td>\n",
       "      <td>0.510592</td>\n",
       "      <td>-1.789195</td>\n",
       "      <td>0.287009</td>\n",
       "      <td>0.234961</td>\n",
       "      <td>0.475441</td>\n",
       "      <td>0.513670</td>\n",
       "      <td>-1.778934</td>\n",
       "      <td>-0.639428</td>\n",
       "      <td>...</td>\n",
       "      <td>-2.293592</td>\n",
       "      <td>0.387370</td>\n",
       "      <td>-1.468056</td>\n",
       "      <td>0.387578</td>\n",
       "      <td>0.140088</td>\n",
       "      <td>-0.213455</td>\n",
       "      <td>-0.179330</td>\n",
       "      <td>0</td>\n",
       "      <td>5.184319</td>\n",
       "      <td>2.403892</td>\n",
       "    </tr>\n",
       "    <tr>\n",
       "      <th>222770</th>\n",
       "      <td>-1.407767</td>\n",
       "      <td>0.442893</td>\n",
       "      <td>1.935879</td>\n",
       "      <td>-2.082142</td>\n",
       "      <td>-0.167389</td>\n",
       "      <td>0.313426</td>\n",
       "      <td>0.277163</td>\n",
       "      <td>-0.224212</td>\n",
       "      <td>1.353489</td>\n",
       "      <td>-0.581084</td>\n",
       "      <td>...</td>\n",
       "      <td>0.097107</td>\n",
       "      <td>-0.341099</td>\n",
       "      <td>0.460869</td>\n",
       "      <td>0.157806</td>\n",
       "      <td>0.558584</td>\n",
       "      <td>-0.944198</td>\n",
       "      <td>-0.106062</td>\n",
       "      <td>0</td>\n",
       "      <td>5.155667</td>\n",
       "      <td>1.607455</td>\n",
       "    </tr>\n",
       "  </tbody>\n",
       "</table>\n",
       "<p>831 rows × 31 columns</p>\n",
       "</div>"
      ],
      "text/plain": [
       "              V1        V2        V3        V4        V5        V6        V7  \\\n",
       "4920   -2.303350  1.759247 -0.359745  2.330243 -0.821628 -0.075788  0.562320   \n",
       "6108   -4.397974  1.358367 -2.592844  2.679787 -1.128131 -1.706536 -3.496197   \n",
       "6329    1.234235  3.019740 -4.304597  4.732795  3.624201 -1.357746  1.713445   \n",
       "6331    0.008430  4.137837 -6.240697  6.675732  0.768307 -3.353060 -1.631735   \n",
       "6334    0.026779  4.132464 -6.560600  6.348557  1.329666 -2.513479 -1.689102   \n",
       "...          ...       ...       ...       ...       ...       ...       ...   \n",
       "225591  2.199047 -1.821826 -0.175704 -1.665512 -1.775547  0.315741 -1.986455   \n",
       "8304   -1.085383  0.507854  0.904237 -1.156567  0.876260  0.263153  0.130753   \n",
       "264866 -4.593414  4.476370 -3.664740 -1.040246 -1.657097 -0.991106 -1.458040   \n",
       "245705 -2.080475 -1.172135  0.510592 -1.789195  0.287009  0.234961  0.475441   \n",
       "222770 -1.407767  0.442893  1.935879 -2.082142 -0.167389  0.313426  0.277163   \n",
       "\n",
       "              V8        V9       V10  ...       V22       V23       V24  \\\n",
       "4920   -0.399147 -0.238253 -1.525412  ... -0.932391  0.172726 -0.087330   \n",
       "6108   -0.248778 -0.247768 -4.801637  ...  0.176968 -0.436207 -0.053502   \n",
       "6329   -0.496358 -1.282858 -2.447469  ... -0.704181 -0.656805 -1.632653   \n",
       "6331    0.154612 -2.795892 -6.187891  ... -0.608057 -0.539528  0.128940   \n",
       "6334    0.303253 -3.139409 -6.045468  ... -0.576752 -0.669605 -0.759908   \n",
       "...          ...       ...       ...  ...       ...       ...       ...   \n",
       "225591  0.262901 -0.607081  1.659510  ...  0.058760  0.251025 -0.859579   \n",
       "8304    0.170491  2.246222 -0.766036  ... -0.304902 -0.297577 -1.333377   \n",
       "264866  2.725615  1.137136  2.255989  ...  1.011532  0.397845  0.657595   \n",
       "245705  0.513670 -1.778934 -0.639428  ... -2.293592  0.387370 -1.468056   \n",
       "222770 -0.224212  1.353489 -0.581084  ...  0.097107 -0.341099  0.460869   \n",
       "\n",
       "             V25       V26       V27       V28  Class  Log10_Time  \\\n",
       "4920   -0.156114 -0.542628  0.039566 -0.153029      1    3.649530   \n",
       "6108    0.252405 -0.657488 -0.827136  0.849573      1    3.844229   \n",
       "6329    1.488901  0.566797 -0.010016  0.146793      1    3.876160   \n",
       "6331    1.488481  0.507963  0.735822  0.513574      1    3.876564   \n",
       "6334    1.605056  0.540675  0.737040  0.496699      1    3.877083   \n",
       "...          ...       ...       ...       ...    ...         ...   \n",
       "225591 -0.537140 -0.212500  0.055404 -0.047340      0    5.159299   \n",
       "8304   -0.066861  0.974165  0.224810  0.285037      0    4.044775   \n",
       "264866 -0.092451 -0.198098  0.998944  0.666975      0    5.208530   \n",
       "245705  0.387578  0.140088 -0.213455 -0.179330      0    5.184319   \n",
       "222770  0.157806  0.558584 -0.944198 -0.106062      0    5.155667   \n",
       "\n",
       "        Log10_Amount  \n",
       "4920        2.380085  \n",
       "6108        1.770852  \n",
       "6329        0.000000  \n",
       "6331        0.000000  \n",
       "6334        0.000000  \n",
       "...              ...  \n",
       "225591      1.476397  \n",
       "8304        0.204120  \n",
       "264866      0.252853  \n",
       "245705      2.403892  \n",
       "222770      1.607455  \n",
       "\n",
       "[831 rows x 31 columns]"
      ]
     },
     "execution_count": 41,
     "metadata": {},
     "output_type": "execute_result"
    }
   ],
   "source": [
    "df2"
   ]
  },
  {
   "cell_type": "code",
   "execution_count": 42,
   "metadata": {},
   "outputs": [
    {
     "name": "stdout",
     "output_type": "stream",
     "text": [
      "We reduced our data size from 984 transactions by 153 transactions to 831 transactions.\n"
     ]
    }
   ],
   "source": [
    "len_after = len(df2)\n",
    "len_before = len(under_sample)\n",
    "len_difference = len(under_sample) - len(df2)\n",
    "print('We reduced our data size from {} transactions by {} transactions to {} transactions.'\n",
    "      .format(len_before, len_difference, len_after))"
   ]
  },
  {
   "cell_type": "code",
   "execution_count": 43,
   "metadata": {},
   "outputs": [],
   "source": [
    "def warn(*args, **kwargs):\n",
    "    pass\n",
    "import warnings\n",
    "warnings.warn = warn"
   ]
  },
  {
   "cell_type": "markdown",
   "metadata": {},
   "source": [
    "### Splitting the data to evaluate performance"
   ]
  },
  {
   "cell_type": "markdown",
   "metadata": {},
   "source": [
    "After removing extreme outliers, the dataset is now split into training set and testing set for further processes."
   ]
  },
  {
   "cell_type": "code",
   "execution_count": 44,
   "metadata": {},
   "outputs": [],
   "source": [
    "X = df2.drop('Class', axis=1)\n",
    "y = df2['Class']\n",
    "\n",
    "from sklearn.model_selection import train_test_split\n",
    "\n",
    "X_under_train, X_test, y_under_train, y_test = train_test_split(X,y,test_size = 0.2, random_state = 42)\n",
    "#X_under_train, y_under_train"
   ]
  },
  {
   "cell_type": "code",
   "execution_count": 45,
   "metadata": {},
   "outputs": [
    {
     "data": {
      "text/html": [
       "<div>\n",
       "<style scoped>\n",
       "    .dataframe tbody tr th:only-of-type {\n",
       "        vertical-align: middle;\n",
       "    }\n",
       "\n",
       "    .dataframe tbody tr th {\n",
       "        vertical-align: top;\n",
       "    }\n",
       "\n",
       "    .dataframe thead th {\n",
       "        text-align: right;\n",
       "    }\n",
       "</style>\n",
       "<table border=\"1\" class=\"dataframe\">\n",
       "  <thead>\n",
       "    <tr style=\"text-align: right;\">\n",
       "      <th></th>\n",
       "      <th>V1</th>\n",
       "      <th>V2</th>\n",
       "      <th>V3</th>\n",
       "      <th>V4</th>\n",
       "      <th>V5</th>\n",
       "      <th>V6</th>\n",
       "      <th>V7</th>\n",
       "      <th>V8</th>\n",
       "      <th>V9</th>\n",
       "      <th>V10</th>\n",
       "      <th>...</th>\n",
       "      <th>V21</th>\n",
       "      <th>V22</th>\n",
       "      <th>V23</th>\n",
       "      <th>V24</th>\n",
       "      <th>V25</th>\n",
       "      <th>V26</th>\n",
       "      <th>V27</th>\n",
       "      <th>V28</th>\n",
       "      <th>Log10_Time</th>\n",
       "      <th>Log10_Amount</th>\n",
       "    </tr>\n",
       "  </thead>\n",
       "  <tbody>\n",
       "    <tr>\n",
       "      <th>4920</th>\n",
       "      <td>-2.303350</td>\n",
       "      <td>1.759247</td>\n",
       "      <td>-0.359745</td>\n",
       "      <td>2.330243</td>\n",
       "      <td>-0.821628</td>\n",
       "      <td>-0.075788</td>\n",
       "      <td>0.562320</td>\n",
       "      <td>-0.399147</td>\n",
       "      <td>-0.238253</td>\n",
       "      <td>-1.525412</td>\n",
       "      <td>...</td>\n",
       "      <td>-0.294166</td>\n",
       "      <td>-0.932391</td>\n",
       "      <td>0.172726</td>\n",
       "      <td>-0.087330</td>\n",
       "      <td>-0.156114</td>\n",
       "      <td>-0.542628</td>\n",
       "      <td>0.039566</td>\n",
       "      <td>-0.153029</td>\n",
       "      <td>3.649530</td>\n",
       "      <td>2.380085</td>\n",
       "    </tr>\n",
       "    <tr>\n",
       "      <th>6108</th>\n",
       "      <td>-4.397974</td>\n",
       "      <td>1.358367</td>\n",
       "      <td>-2.592844</td>\n",
       "      <td>2.679787</td>\n",
       "      <td>-1.128131</td>\n",
       "      <td>-1.706536</td>\n",
       "      <td>-3.496197</td>\n",
       "      <td>-0.248778</td>\n",
       "      <td>-0.247768</td>\n",
       "      <td>-4.801637</td>\n",
       "      <td>...</td>\n",
       "      <td>0.573574</td>\n",
       "      <td>0.176968</td>\n",
       "      <td>-0.436207</td>\n",
       "      <td>-0.053502</td>\n",
       "      <td>0.252405</td>\n",
       "      <td>-0.657488</td>\n",
       "      <td>-0.827136</td>\n",
       "      <td>0.849573</td>\n",
       "      <td>3.844229</td>\n",
       "      <td>1.770852</td>\n",
       "    </tr>\n",
       "    <tr>\n",
       "      <th>6329</th>\n",
       "      <td>1.234235</td>\n",
       "      <td>3.019740</td>\n",
       "      <td>-4.304597</td>\n",
       "      <td>4.732795</td>\n",
       "      <td>3.624201</td>\n",
       "      <td>-1.357746</td>\n",
       "      <td>1.713445</td>\n",
       "      <td>-0.496358</td>\n",
       "      <td>-1.282858</td>\n",
       "      <td>-2.447469</td>\n",
       "      <td>...</td>\n",
       "      <td>-0.379068</td>\n",
       "      <td>-0.704181</td>\n",
       "      <td>-0.656805</td>\n",
       "      <td>-1.632653</td>\n",
       "      <td>1.488901</td>\n",
       "      <td>0.566797</td>\n",
       "      <td>-0.010016</td>\n",
       "      <td>0.146793</td>\n",
       "      <td>3.876160</td>\n",
       "      <td>0.000000</td>\n",
       "    </tr>\n",
       "    <tr>\n",
       "      <th>6331</th>\n",
       "      <td>0.008430</td>\n",
       "      <td>4.137837</td>\n",
       "      <td>-6.240697</td>\n",
       "      <td>6.675732</td>\n",
       "      <td>0.768307</td>\n",
       "      <td>-3.353060</td>\n",
       "      <td>-1.631735</td>\n",
       "      <td>0.154612</td>\n",
       "      <td>-2.795892</td>\n",
       "      <td>-6.187891</td>\n",
       "      <td>...</td>\n",
       "      <td>0.364514</td>\n",
       "      <td>-0.608057</td>\n",
       "      <td>-0.539528</td>\n",
       "      <td>0.128940</td>\n",
       "      <td>1.488481</td>\n",
       "      <td>0.507963</td>\n",
       "      <td>0.735822</td>\n",
       "      <td>0.513574</td>\n",
       "      <td>3.876564</td>\n",
       "      <td>0.000000</td>\n",
       "    </tr>\n",
       "    <tr>\n",
       "      <th>6334</th>\n",
       "      <td>0.026779</td>\n",
       "      <td>4.132464</td>\n",
       "      <td>-6.560600</td>\n",
       "      <td>6.348557</td>\n",
       "      <td>1.329666</td>\n",
       "      <td>-2.513479</td>\n",
       "      <td>-1.689102</td>\n",
       "      <td>0.303253</td>\n",
       "      <td>-3.139409</td>\n",
       "      <td>-6.045468</td>\n",
       "      <td>...</td>\n",
       "      <td>0.370509</td>\n",
       "      <td>-0.576752</td>\n",
       "      <td>-0.669605</td>\n",
       "      <td>-0.759908</td>\n",
       "      <td>1.605056</td>\n",
       "      <td>0.540675</td>\n",
       "      <td>0.737040</td>\n",
       "      <td>0.496699</td>\n",
       "      <td>3.877083</td>\n",
       "      <td>0.000000</td>\n",
       "    </tr>\n",
       "    <tr>\n",
       "      <th>...</th>\n",
       "      <td>...</td>\n",
       "      <td>...</td>\n",
       "      <td>...</td>\n",
       "      <td>...</td>\n",
       "      <td>...</td>\n",
       "      <td>...</td>\n",
       "      <td>...</td>\n",
       "      <td>...</td>\n",
       "      <td>...</td>\n",
       "      <td>...</td>\n",
       "      <td>...</td>\n",
       "      <td>...</td>\n",
       "      <td>...</td>\n",
       "      <td>...</td>\n",
       "      <td>...</td>\n",
       "      <td>...</td>\n",
       "      <td>...</td>\n",
       "      <td>...</td>\n",
       "      <td>...</td>\n",
       "      <td>...</td>\n",
       "      <td>...</td>\n",
       "    </tr>\n",
       "    <tr>\n",
       "      <th>225591</th>\n",
       "      <td>2.199047</td>\n",
       "      <td>-1.821826</td>\n",
       "      <td>-0.175704</td>\n",
       "      <td>-1.665512</td>\n",
       "      <td>-1.775547</td>\n",
       "      <td>0.315741</td>\n",
       "      <td>-1.986455</td>\n",
       "      <td>0.262901</td>\n",
       "      <td>-0.607081</td>\n",
       "      <td>1.659510</td>\n",
       "      <td>...</td>\n",
       "      <td>-0.137920</td>\n",
       "      <td>0.058760</td>\n",
       "      <td>0.251025</td>\n",
       "      <td>-0.859579</td>\n",
       "      <td>-0.537140</td>\n",
       "      <td>-0.212500</td>\n",
       "      <td>0.055404</td>\n",
       "      <td>-0.047340</td>\n",
       "      <td>5.159299</td>\n",
       "      <td>1.476397</td>\n",
       "    </tr>\n",
       "    <tr>\n",
       "      <th>8304</th>\n",
       "      <td>-1.085383</td>\n",
       "      <td>0.507854</td>\n",
       "      <td>0.904237</td>\n",
       "      <td>-1.156567</td>\n",
       "      <td>0.876260</td>\n",
       "      <td>0.263153</td>\n",
       "      <td>0.130753</td>\n",
       "      <td>0.170491</td>\n",
       "      <td>2.246222</td>\n",
       "      <td>-0.766036</td>\n",
       "      <td>...</td>\n",
       "      <td>-0.304590</td>\n",
       "      <td>-0.304902</td>\n",
       "      <td>-0.297577</td>\n",
       "      <td>-1.333377</td>\n",
       "      <td>-0.066861</td>\n",
       "      <td>0.974165</td>\n",
       "      <td>0.224810</td>\n",
       "      <td>0.285037</td>\n",
       "      <td>4.044775</td>\n",
       "      <td>0.204120</td>\n",
       "    </tr>\n",
       "    <tr>\n",
       "      <th>264866</th>\n",
       "      <td>-4.593414</td>\n",
       "      <td>4.476370</td>\n",
       "      <td>-3.664740</td>\n",
       "      <td>-1.040246</td>\n",
       "      <td>-1.657097</td>\n",
       "      <td>-0.991106</td>\n",
       "      <td>-1.458040</td>\n",
       "      <td>2.725615</td>\n",
       "      <td>1.137136</td>\n",
       "      <td>2.255989</td>\n",
       "      <td>...</td>\n",
       "      <td>0.318541</td>\n",
       "      <td>1.011532</td>\n",
       "      <td>0.397845</td>\n",
       "      <td>0.657595</td>\n",
       "      <td>-0.092451</td>\n",
       "      <td>-0.198098</td>\n",
       "      <td>0.998944</td>\n",
       "      <td>0.666975</td>\n",
       "      <td>5.208530</td>\n",
       "      <td>0.252853</td>\n",
       "    </tr>\n",
       "    <tr>\n",
       "      <th>245705</th>\n",
       "      <td>-2.080475</td>\n",
       "      <td>-1.172135</td>\n",
       "      <td>0.510592</td>\n",
       "      <td>-1.789195</td>\n",
       "      <td>0.287009</td>\n",
       "      <td>0.234961</td>\n",
       "      <td>0.475441</td>\n",
       "      <td>0.513670</td>\n",
       "      <td>-1.778934</td>\n",
       "      <td>-0.639428</td>\n",
       "      <td>...</td>\n",
       "      <td>-0.617697</td>\n",
       "      <td>-2.293592</td>\n",
       "      <td>0.387370</td>\n",
       "      <td>-1.468056</td>\n",
       "      <td>0.387578</td>\n",
       "      <td>0.140088</td>\n",
       "      <td>-0.213455</td>\n",
       "      <td>-0.179330</td>\n",
       "      <td>5.184319</td>\n",
       "      <td>2.403892</td>\n",
       "    </tr>\n",
       "    <tr>\n",
       "      <th>222770</th>\n",
       "      <td>-1.407767</td>\n",
       "      <td>0.442893</td>\n",
       "      <td>1.935879</td>\n",
       "      <td>-2.082142</td>\n",
       "      <td>-0.167389</td>\n",
       "      <td>0.313426</td>\n",
       "      <td>0.277163</td>\n",
       "      <td>-0.224212</td>\n",
       "      <td>1.353489</td>\n",
       "      <td>-0.581084</td>\n",
       "      <td>...</td>\n",
       "      <td>0.019213</td>\n",
       "      <td>0.097107</td>\n",
       "      <td>-0.341099</td>\n",
       "      <td>0.460869</td>\n",
       "      <td>0.157806</td>\n",
       "      <td>0.558584</td>\n",
       "      <td>-0.944198</td>\n",
       "      <td>-0.106062</td>\n",
       "      <td>5.155667</td>\n",
       "      <td>1.607455</td>\n",
       "    </tr>\n",
       "  </tbody>\n",
       "</table>\n",
       "<p>831 rows × 30 columns</p>\n",
       "</div>"
      ],
      "text/plain": [
       "              V1        V2        V3        V4        V5        V6        V7  \\\n",
       "4920   -2.303350  1.759247 -0.359745  2.330243 -0.821628 -0.075788  0.562320   \n",
       "6108   -4.397974  1.358367 -2.592844  2.679787 -1.128131 -1.706536 -3.496197   \n",
       "6329    1.234235  3.019740 -4.304597  4.732795  3.624201 -1.357746  1.713445   \n",
       "6331    0.008430  4.137837 -6.240697  6.675732  0.768307 -3.353060 -1.631735   \n",
       "6334    0.026779  4.132464 -6.560600  6.348557  1.329666 -2.513479 -1.689102   \n",
       "...          ...       ...       ...       ...       ...       ...       ...   \n",
       "225591  2.199047 -1.821826 -0.175704 -1.665512 -1.775547  0.315741 -1.986455   \n",
       "8304   -1.085383  0.507854  0.904237 -1.156567  0.876260  0.263153  0.130753   \n",
       "264866 -4.593414  4.476370 -3.664740 -1.040246 -1.657097 -0.991106 -1.458040   \n",
       "245705 -2.080475 -1.172135  0.510592 -1.789195  0.287009  0.234961  0.475441   \n",
       "222770 -1.407767  0.442893  1.935879 -2.082142 -0.167389  0.313426  0.277163   \n",
       "\n",
       "              V8        V9       V10  ...       V21       V22       V23  \\\n",
       "4920   -0.399147 -0.238253 -1.525412  ... -0.294166 -0.932391  0.172726   \n",
       "6108   -0.248778 -0.247768 -4.801637  ...  0.573574  0.176968 -0.436207   \n",
       "6329   -0.496358 -1.282858 -2.447469  ... -0.379068 -0.704181 -0.656805   \n",
       "6331    0.154612 -2.795892 -6.187891  ...  0.364514 -0.608057 -0.539528   \n",
       "6334    0.303253 -3.139409 -6.045468  ...  0.370509 -0.576752 -0.669605   \n",
       "...          ...       ...       ...  ...       ...       ...       ...   \n",
       "225591  0.262901 -0.607081  1.659510  ... -0.137920  0.058760  0.251025   \n",
       "8304    0.170491  2.246222 -0.766036  ... -0.304590 -0.304902 -0.297577   \n",
       "264866  2.725615  1.137136  2.255989  ...  0.318541  1.011532  0.397845   \n",
       "245705  0.513670 -1.778934 -0.639428  ... -0.617697 -2.293592  0.387370   \n",
       "222770 -0.224212  1.353489 -0.581084  ...  0.019213  0.097107 -0.341099   \n",
       "\n",
       "             V24       V25       V26       V27       V28  Log10_Time  \\\n",
       "4920   -0.087330 -0.156114 -0.542628  0.039566 -0.153029    3.649530   \n",
       "6108   -0.053502  0.252405 -0.657488 -0.827136  0.849573    3.844229   \n",
       "6329   -1.632653  1.488901  0.566797 -0.010016  0.146793    3.876160   \n",
       "6331    0.128940  1.488481  0.507963  0.735822  0.513574    3.876564   \n",
       "6334   -0.759908  1.605056  0.540675  0.737040  0.496699    3.877083   \n",
       "...          ...       ...       ...       ...       ...         ...   \n",
       "225591 -0.859579 -0.537140 -0.212500  0.055404 -0.047340    5.159299   \n",
       "8304   -1.333377 -0.066861  0.974165  0.224810  0.285037    4.044775   \n",
       "264866  0.657595 -0.092451 -0.198098  0.998944  0.666975    5.208530   \n",
       "245705 -1.468056  0.387578  0.140088 -0.213455 -0.179330    5.184319   \n",
       "222770  0.460869  0.157806  0.558584 -0.944198 -0.106062    5.155667   \n",
       "\n",
       "        Log10_Amount  \n",
       "4920        2.380085  \n",
       "6108        1.770852  \n",
       "6329        0.000000  \n",
       "6331        0.000000  \n",
       "6334        0.000000  \n",
       "...              ...  \n",
       "225591      1.476397  \n",
       "8304        0.204120  \n",
       "264866      0.252853  \n",
       "245705      2.403892  \n",
       "222770      1.607455  \n",
       "\n",
       "[831 rows x 30 columns]"
      ]
     },
     "execution_count": 45,
     "metadata": {},
     "output_type": "execute_result"
    }
   ],
   "source": [
    "X"
   ]
  },
  {
   "cell_type": "markdown",
   "metadata": {},
   "source": [
    "## Classification Algorithms"
   ]
  },
  {
   "cell_type": "markdown",
   "metadata": {},
   "source": [
    "### Parameter Tuning"
   ]
  },
  {
   "cell_type": "markdown",
   "metadata": {},
   "source": [
    "Three algorithms - Logistic Regression, Support Vector Machine and Random Forest are used to solve the problem. A comparative study is then followed by evaluating each algorithm with respect to selected performance metrics.\n",
    "Simple logistic regression is used. For the parameters of Support Vector Machine and Random Forest, Grid Search technique is employed to tune the parameters."
   ]
  },
  {
   "cell_type": "code",
   "execution_count": 24,
   "metadata": {},
   "outputs": [],
   "source": [
    "#importing relevant packages\n",
    "\n",
    "from sklearn.linear_model import LogisticRegression\n",
    "from sklearn.ensemble import RandomForestClassifier\n",
    "from sklearn.model_selection import GridSearchCV\n",
    "from sklearn.svm import SVC\n",
    "\n",
    "from sklearn.metrics import recall_score\n",
    "from sklearn.metrics import accuracy_score\n",
    "from sklearn.metrics import roc_auc_score\n",
    "from sklearn.metrics import f1_score\n",
    "from sklearn.metrics import precision_score\n",
    "\n"
   ]
  },
  {
   "cell_type": "code",
   "execution_count": 156,
   "metadata": {},
   "outputs": [
    {
     "name": "stdout",
     "output_type": "stream",
     "text": [
      "{'C': 10, 'gamma': 0.01}\n"
     ]
    }
   ],
   "source": [
    "# paramter tuning for Support Vector Machine\n",
    "\n",
    "def svc_param_selection(X, y):\n",
    "    Cs = [0.001, 0.01, 0.1, 1, 10]\n",
    "    gammas = [0.001, 0.01, 0.1, 1]\n",
    "    param_grid = {'C': Cs, 'gamma' : gammas}\n",
    "    grid_search = GridSearchCV(SVC(kernel='rbf'), param_grid)\n",
    "    grid_search.fit(X, y)\n",
    "    grid_search.best_params_\n",
    "    return grid_search.best_params_\n",
    "\n",
    "best_params_svm = svc_param_selection(X_train,y_train)\n",
    "\n",
    "print(best_params_svm)\n",
    "\n"
   ]
  },
  {
   "cell_type": "code",
   "execution_count": 16,
   "metadata": {},
   "outputs": [],
   "source": [
    "best_params_svm={'C': 10, 'gamma': 0.01}"
   ]
  },
  {
   "cell_type": "code",
   "execution_count": 33,
   "metadata": {},
   "outputs": [
    {
     "name": "stdout",
     "output_type": "stream",
     "text": [
      "{'bootstrap': True, 'max_depth': 90, 'max_features': 3, 'min_samples_leaf': 3, 'min_samples_split': 12, 'n_estimators': 100}\n"
     ]
    }
   ],
   "source": [
    "# parameter tuning for Random Forest\n",
    "\n",
    "def rf_param_selection(X, y):\n",
    "    param_grid = {\n",
    "    'bootstrap': [True],\n",
    "    'max_depth': [80, 90, 100, 110],\n",
    "    'max_features': [2, 3],\n",
    "    'min_samples_leaf': [3, 4, 5],\n",
    "    'min_samples_split': [8, 10, 12],\n",
    "    'n_estimators': [100, 200, 300, 1000]}\n",
    "\n",
    "    grid_search = GridSearchCV(RandomForestClassifier(), param_grid)\n",
    "    grid_search.fit(X, y)\n",
    "    grid_search.best_params_\n",
    "    return grid_search.best_params_\n",
    "\n",
    "best_params = rf_param_selection(X_train,y_train)\n",
    "\n",
    "print(best_params)\n",
    "\n"
   ]
  },
  {
   "cell_type": "code",
   "execution_count": 17,
   "metadata": {},
   "outputs": [],
   "source": [
    "best_params = {'bootstrap': True, 'max_depth': 90, 'max_features': 3, 'min_samples_leaf': 3, 'min_samples_split': 12, 'n_estimators': 100}"
   ]
  },
  {
   "cell_type": "markdown",
   "metadata": {},
   "source": [
    "### Evaluating Algorithms"
   ]
  },
  {
   "cell_type": "markdown",
   "metadata": {},
   "source": [
    "The evaluation and comparison of algorithms is performed using K-fold cross validation. F1 score and ROC-AUC are used as performance metrics. The mean of each parameter across the k sets is displayed."
   ]
  },
  {
   "cell_type": "code",
   "execution_count": 27,
   "metadata": {},
   "outputs": [],
   "source": [
    "from sklearn.metrics import average_precision_score, precision_recall_curve\n",
    "from sklearn.metrics import auc, plot_precision_recall_curve"
   ]
  },
  {
   "cell_type": "code",
   "execution_count": 65,
   "metadata": {},
   "outputs": [
    {
     "data": {
      "text/plain": [
       "{'divide': 'warn', 'over': 'warn', 'under': 'ignore', 'invalid': 'warn'}"
      ]
     },
     "execution_count": 65,
     "metadata": {},
     "output_type": "execute_result"
    }
   ],
   "source": [
    "np.seterr(divide='ignore', invalid='ignore')"
   ]
  },
  {
   "cell_type": "markdown",
   "metadata": {},
   "source": [
    "## what i have updated:\n",
    "### 1) designed a function to calculte the AUPRC\n",
    "### 2) since the cross_val_score had no AUPRC feature, I added a loop to derived the AUPRC for each fold\n",
    "### 3) updated the plots with the AUPRC measure"
   ]
  },
  {
   "cell_type": "code",
   "execution_count": 19,
   "metadata": {},
   "outputs": [],
   "source": [
    "def AUPRC_calculation (X_train, y_train,X_test,y_test,model):\n",
    "    model.fit(X_train, y_train)\n",
    "    # Get the predicited probability of testing data\n",
    "    y_score = model.predict_proba(X_test)[:, 1]\n",
    "    # Average precision score\n",
    "    average_precision = average_precision_score(y_test, y_score)\n",
    "    precision, recall, thresholds = precision_recall_curve(y_test, y_score)\n",
    "    auc_precision_recall = auc(recall, precision)\n",
    "    return auc_precision_recall"
   ]
  },
  {
   "cell_type": "code",
   "execution_count": 46,
   "metadata": {
    "scrolled": true
   },
   "outputs": [
    {
     "name": "stdout",
     "output_type": "stream",
     "text": [
      "Logistic Regression:\n",
      "\n",
      "F1 Score: 0.9255887882413998\n",
      "ROC-AUC: 0.9732017101995798\n",
      "PR-AUC: 0.9723266285219447\n",
      "\n",
      "\n",
      "Support Vector Machine:\n",
      "\n",
      "F1 Score: 0.9422735029447115\n",
      "ROC-AUC: 0.97391445559619\n",
      "PR-AUC: 0.9748342610524935\n",
      "\n",
      "\n",
      "Random Forest:\n",
      "\n",
      "F1 Score: 0.9189453551614235\n",
      "ROC-AUC: 0.9666265446123573\n",
      "PR-AUC: 0.9681867327534531\n",
      "\n",
      "\n"
     ]
    }
   ],
   "source": [
    "models = []\n",
    "\n",
    "models.append(('Logistic Regression', LogisticRegression()))\n",
    "models.append(('Support Vector Machine', SVC(kernel='rbf',C = best_params_svm['C'],gamma=best_params_svm['gamma'],probability=True)))\n",
    "models.append(('Random Forest', RandomForestClassifier(n_estimators=best_params['n_estimators'],\n",
    "        min_samples_split=best_params['min_samples_split'],min_samples_leaf\n",
    "     =best_params['min_samples_leaf'],max_features=best_params['max_features'],max_depth = best_params['max_depth'],\n",
    "                                    criterion='gini')))\n",
    "#testing models\n",
    "\n",
    "results = []\n",
    "names = []\n",
    "\n",
    "for name, model in models:\n",
    "    kfold = KFold(n_splits=10)\n",
    "    cv_results_roc = cross_val_score(model, X_under_train, y_under_train, cv=kfold, scoring='roc_auc')\n",
    "    cv_results_f = cross_val_score(model, X_under_train, y_under_train, cv=kfold, scoring='f1_macro')\n",
    "    #results.append(cv_results_roc)\n",
    "    names.append(name)\n",
    "    msg = '%s:\\n' % (name)\n",
    "    print(msg)\n",
    "    print('F1 Score:',cv_results_f.mean())\n",
    "    print('ROC-AUC:',cv_results_roc.mean())\n",
    "    PR_auc=[]\n",
    "    for train_index, test_index in kfold.split(X_under_train):\n",
    "        X_train, X_test = X_under_train.iloc[train_index], X_under_train.iloc[test_index]\n",
    "        y_train, y_test = y_under_train.iloc[train_index], y_under_train.iloc[test_index]\n",
    "        if AUPRC_calculation (X_train, y_train,X_test,y_test,model) > 0.0:\n",
    "            PR_auc.append(AUPRC_calculation (X_train, y_train,X_test,y_test,model) )\n",
    "        #y_test \n",
    "        #print(train_index, test_index)\n",
    "    print('PR-AUC:',np.array(PR_auc).mean())\n",
    "    results.append(np.array(PR_auc))\n",
    "    \n",
    "    \n",
    "    print('\\n')"
   ]
  },
  {
   "cell_type": "code",
   "execution_count": 121,
   "metadata": {},
   "outputs": [
    {
     "data": {
      "text/plain": [
       "[0.9741952580490191,\n",
       " 0.9875168234543235,\n",
       " 0.9385898806696807,\n",
       " 0.9769433837494452,\n",
       " 0.9839939490596197,\n",
       " 0.9420942169422538,\n",
       " 0.9852467427201628,\n",
       " 0.9082960441224179,\n",
       " 0.9936418789762149,\n",
       " 0.9799176242083079]"
      ]
     },
     "execution_count": 121,
     "metadata": {},
     "output_type": "execute_result"
    }
   ],
   "source": [
    "PR_auc"
   ]
  },
  {
   "cell_type": "code",
   "execution_count": 40,
   "metadata": {},
   "outputs": [
    {
     "data": {
      "text/plain": [
       "[('Logistic Regression', LogisticRegression()),\n",
       " ('Support Vector Machine', SVC(C=10, gamma=0.01)),\n",
       " ('Random Forest',\n",
       "  RandomForestClassifier(max_depth=90, max_features=3, min_samples_leaf=3,\n",
       "                         min_samples_split=12))]"
      ]
     },
     "execution_count": 40,
     "metadata": {},
     "output_type": "execute_result"
    }
   ],
   "source": [
    "models"
   ]
  },
  {
   "cell_type": "code",
   "execution_count": 159,
   "metadata": {},
   "outputs": [
    {
     "data": {
      "image/png": "[encoded data removed]",
      "text/plain": [
       "<Figure size 864x720 with 1 Axes>"
      ]
     },
     "metadata": {},
     "output_type": "display_data"
    }
   ],
   "source": [
    "# Comparing the different algorithms\n",
    "\n",
    "\n",
    "fig = plt.figure(figsize=(12,10))\n",
    "plt.title('Comparison of Classification Algorithms')\n",
    "plt.xlabel('Algorithm')\n",
    "plt.ylabel('PR-AUC Score')\n",
    "plt.boxplot(results)\n",
    "ax = fig.add_subplot(111)\n",
    "ax.set_xticklabels(names)\n",
    "plt.show()"
   ]
  },
  {
   "cell_type": "markdown",
   "metadata": {},
   "source": [
    "### Using different Undersampling Ratios for evaluating performance"
   ]
  },
  {
   "cell_type": "markdown",
   "metadata": {},
   "source": [
    "The technique of undersampling is used for handling the problem of imbalanced dataset. We previously evaluated the algorithms on 1:1 undersampling ratio dataset. Now we model the dataset with the real-world scenario, where the percentage of fraud is usually small. We now observe the performance of each algorithm with different undersampling ratios - 15%, 10%, 5% and 2%. Each time we remove the extreme outliers as before and then evaluate the performance with K-fold cross validation."
   ]
  },
  {
   "cell_type": "markdown",
   "metadata": {},
   "source": [
    "### 15% Undersampling Ratio"
   ]
  },
  {
   "cell_type": "code",
   "execution_count": 47,
   "metadata": {},
   "outputs": [
    {
     "data": {
      "text/plain": [
       "Text(0.5, 0, 'Class (0:Non-Fraudulent, 1:Fraudulent)')"
      ]
     },
     "execution_count": 47,
     "metadata": {},
     "output_type": "execute_result"
    },
    {
     "data": {
      "image/png": "[encoded data removed]",
      "text/plain": [
       "<Figure size 576x432 with 1 Axes>"
      ]
     },
     "metadata": {},
     "output_type": "display_data"
    }
   ],
   "source": [
    "# 15% undersampling ratio\n",
    "\n",
    "no_frauds = len(df[df['Class'] == 1])\n",
    "non_fraud_indices = df[df.Class == 0].index\n",
    "random_indices = np.random.choice(non_fraud_indices,(int)(no_frauds/0.1), replace=False)\n",
    "fraud_indices = df[df.Class == 1].index\n",
    "under_sample_indices = np.concatenate([fraud_indices,random_indices])\n",
    "under_sample = df.loc[under_sample_indices]\n",
    "\n",
    "new_counts = under_sample.Class.value_counts()\n",
    "plt.figure(figsize=(8,6))\n",
    "sns.barplot(x=new_counts.index, y=new_counts,palette=\"rocket\")\n",
    "plt.title('Count of Frauds vs. Non-Frauds Transactions In the Subsample')\n",
    "plt.ylabel('Count')\n",
    "plt.xlabel('Class (0:Non-Fraudulent, 1:Fraudulent)')\n",
    "\n",
    "\n"
   ]
  },
  {
   "cell_type": "markdown",
   "metadata": {},
   "source": [
    "#### Comparison of the various algorithms"
   ]
  },
  {
   "cell_type": "code",
   "execution_count": 48,
   "metadata": {},
   "outputs": [],
   "source": [
    "# removing extreme outliers\n",
    "\n",
    "df2 = under_sample[~((under_sample < (Q1 - 4 * IQR)) |(under_sample > (Q3 + 4 * IQR))).any(axis=1)]\n",
    "\n",
    "X = df2.drop('Class', axis=1)\n",
    "y = df2['Class']\n",
    "\n",
    "# splitting into train and test data\n",
    "\n",
    "X_under_train, X_under_test, y_under_train, y_under_test = train_test_split(X,y,test_size = 0.2, random_state = 42)"
   ]
  },
  {
   "cell_type": "code",
   "execution_count": 49,
   "metadata": {},
   "outputs": [
    {
     "data": {
      "text/html": [
       "<div>\n",
       "<style scoped>\n",
       "    .dataframe tbody tr th:only-of-type {\n",
       "        vertical-align: middle;\n",
       "    }\n",
       "\n",
       "    .dataframe tbody tr th {\n",
       "        vertical-align: top;\n",
       "    }\n",
       "\n",
       "    .dataframe thead th {\n",
       "        text-align: right;\n",
       "    }\n",
       "</style>\n",
       "<table border=\"1\" class=\"dataframe\">\n",
       "  <thead>\n",
       "    <tr style=\"text-align: right;\">\n",
       "      <th></th>\n",
       "      <th>V1</th>\n",
       "      <th>V2</th>\n",
       "      <th>V3</th>\n",
       "      <th>V4</th>\n",
       "      <th>V5</th>\n",
       "      <th>V6</th>\n",
       "      <th>V7</th>\n",
       "      <th>V8</th>\n",
       "      <th>V9</th>\n",
       "      <th>V10</th>\n",
       "      <th>...</th>\n",
       "      <th>V21</th>\n",
       "      <th>V22</th>\n",
       "      <th>V23</th>\n",
       "      <th>V24</th>\n",
       "      <th>V25</th>\n",
       "      <th>V26</th>\n",
       "      <th>V27</th>\n",
       "      <th>V28</th>\n",
       "      <th>Log10_Time</th>\n",
       "      <th>Log10_Amount</th>\n",
       "    </tr>\n",
       "  </thead>\n",
       "  <tbody>\n",
       "    <tr>\n",
       "      <th>258195</th>\n",
       "      <td>0.038996</td>\n",
       "      <td>0.897136</td>\n",
       "      <td>0.302642</td>\n",
       "      <td>-0.598355</td>\n",
       "      <td>0.478863</td>\n",
       "      <td>-1.028382</td>\n",
       "      <td>1.030363</td>\n",
       "      <td>-0.208862</td>\n",
       "      <td>-0.117990</td>\n",
       "      <td>-0.433150</td>\n",
       "      <td>...</td>\n",
       "      <td>-0.249800</td>\n",
       "      <td>-0.508514</td>\n",
       "      <td>0.068662</td>\n",
       "      <td>-0.007015</td>\n",
       "      <td>-0.488606</td>\n",
       "      <td>0.141839</td>\n",
       "      <td>0.253785</td>\n",
       "      <td>0.097770</td>\n",
       "      <td>5.200136</td>\n",
       "      <td>0.411620</td>\n",
       "    </tr>\n",
       "    <tr>\n",
       "      <th>147634</th>\n",
       "      <td>-0.563441</td>\n",
       "      <td>0.895764</td>\n",
       "      <td>1.668067</td>\n",
       "      <td>0.912393</td>\n",
       "      <td>-0.168227</td>\n",
       "      <td>0.048543</td>\n",
       "      <td>0.447442</td>\n",
       "      <td>-0.780655</td>\n",
       "      <td>1.324519</td>\n",
       "      <td>1.546482</td>\n",
       "      <td>...</td>\n",
       "      <td>0.198324</td>\n",
       "      <td>1.422555</td>\n",
       "      <td>-0.315424</td>\n",
       "      <td>0.120376</td>\n",
       "      <td>-0.602396</td>\n",
       "      <td>0.112200</td>\n",
       "      <td>-0.556882</td>\n",
       "      <td>-0.285881</td>\n",
       "      <td>4.948281</td>\n",
       "      <td>0.661813</td>\n",
       "    </tr>\n",
       "    <tr>\n",
       "      <th>69758</th>\n",
       "      <td>1.467573</td>\n",
       "      <td>-0.409918</td>\n",
       "      <td>-0.445880</td>\n",
       "      <td>-0.694890</td>\n",
       "      <td>-0.561202</td>\n",
       "      <td>-1.095598</td>\n",
       "      <td>-0.092158</td>\n",
       "      <td>-0.291011</td>\n",
       "      <td>-0.930984</td>\n",
       "      <td>0.772629</td>\n",
       "      <td>...</td>\n",
       "      <td>-0.462320</td>\n",
       "      <td>-0.913033</td>\n",
       "      <td>-0.052365</td>\n",
       "      <td>-0.143276</td>\n",
       "      <td>0.459583</td>\n",
       "      <td>1.110043</td>\n",
       "      <td>-0.098669</td>\n",
       "      <td>-0.012696</td>\n",
       "      <td>4.728930</td>\n",
       "      <td>0.954243</td>\n",
       "    </tr>\n",
       "    <tr>\n",
       "      <th>269266</th>\n",
       "      <td>2.204249</td>\n",
       "      <td>-1.527496</td>\n",
       "      <td>-0.915959</td>\n",
       "      <td>-1.766346</td>\n",
       "      <td>-0.995807</td>\n",
       "      <td>0.201936</td>\n",
       "      <td>-1.323871</td>\n",
       "      <td>0.020257</td>\n",
       "      <td>-1.404363</td>\n",
       "      <td>1.668616</td>\n",
       "      <td>...</td>\n",
       "      <td>-0.092242</td>\n",
       "      <td>0.167969</td>\n",
       "      <td>0.194359</td>\n",
       "      <td>0.223927</td>\n",
       "      <td>-0.233208</td>\n",
       "      <td>-0.202759</td>\n",
       "      <td>0.019612</td>\n",
       "      <td>-0.045096</td>\n",
       "      <td>5.213812</td>\n",
       "      <td>1.690196</td>\n",
       "    </tr>\n",
       "    <tr>\n",
       "      <th>102484</th>\n",
       "      <td>1.161249</td>\n",
       "      <td>0.136713</td>\n",
       "      <td>0.347882</td>\n",
       "      <td>1.080040</td>\n",
       "      <td>-0.501079</td>\n",
       "      <td>-0.802002</td>\n",
       "      <td>0.002257</td>\n",
       "      <td>0.009913</td>\n",
       "      <td>0.007228</td>\n",
       "      <td>0.235836</td>\n",
       "      <td>...</td>\n",
       "      <td>0.077470</td>\n",
       "      <td>0.107910</td>\n",
       "      <td>-0.073587</td>\n",
       "      <td>0.494469</td>\n",
       "      <td>0.558718</td>\n",
       "      <td>-0.353205</td>\n",
       "      <td>-0.005135</td>\n",
       "      <td>0.010198</td>\n",
       "      <td>4.833950</td>\n",
       "      <td>1.229938</td>\n",
       "    </tr>\n",
       "    <tr>\n",
       "      <th>...</th>\n",
       "      <td>...</td>\n",
       "      <td>...</td>\n",
       "      <td>...</td>\n",
       "      <td>...</td>\n",
       "      <td>...</td>\n",
       "      <td>...</td>\n",
       "      <td>...</td>\n",
       "      <td>...</td>\n",
       "      <td>...</td>\n",
       "      <td>...</td>\n",
       "      <td>...</td>\n",
       "      <td>...</td>\n",
       "      <td>...</td>\n",
       "      <td>...</td>\n",
       "      <td>...</td>\n",
       "      <td>...</td>\n",
       "      <td>...</td>\n",
       "      <td>...</td>\n",
       "      <td>...</td>\n",
       "      <td>...</td>\n",
       "      <td>...</td>\n",
       "    </tr>\n",
       "    <tr>\n",
       "      <th>197008</th>\n",
       "      <td>-0.349926</td>\n",
       "      <td>0.203435</td>\n",
       "      <td>-2.202406</td>\n",
       "      <td>-3.954771</td>\n",
       "      <td>2.623100</td>\n",
       "      <td>2.572615</td>\n",
       "      <td>0.179774</td>\n",
       "      <td>0.971193</td>\n",
       "      <td>-1.450349</td>\n",
       "      <td>-0.638877</td>\n",
       "      <td>...</td>\n",
       "      <td>-0.128561</td>\n",
       "      <td>-0.070898</td>\n",
       "      <td>-0.183469</td>\n",
       "      <td>0.735003</td>\n",
       "      <td>-0.025042</td>\n",
       "      <td>0.347750</td>\n",
       "      <td>-0.002181</td>\n",
       "      <td>0.069857</td>\n",
       "      <td>5.119915</td>\n",
       "      <td>0.089905</td>\n",
       "    </tr>\n",
       "    <tr>\n",
       "      <th>202234</th>\n",
       "      <td>1.891791</td>\n",
       "      <td>-1.503085</td>\n",
       "      <td>-0.491290</td>\n",
       "      <td>-0.679490</td>\n",
       "      <td>-1.580169</td>\n",
       "      <td>-0.842999</td>\n",
       "      <td>-0.984041</td>\n",
       "      <td>-0.107069</td>\n",
       "      <td>0.297659</td>\n",
       "      <td>0.742507</td>\n",
       "      <td>...</td>\n",
       "      <td>0.468191</td>\n",
       "      <td>1.032788</td>\n",
       "      <td>0.029336</td>\n",
       "      <td>0.058461</td>\n",
       "      <td>-0.295344</td>\n",
       "      <td>-0.079380</td>\n",
       "      <td>-0.017766</td>\n",
       "      <td>-0.022913</td>\n",
       "      <td>5.127856</td>\n",
       "      <td>2.176091</td>\n",
       "    </tr>\n",
       "    <tr>\n",
       "      <th>241255</th>\n",
       "      <td>-0.831535</td>\n",
       "      <td>1.156090</td>\n",
       "      <td>-0.667533</td>\n",
       "      <td>-0.624898</td>\n",
       "      <td>0.937622</td>\n",
       "      <td>-1.739739</td>\n",
       "      <td>1.381195</td>\n",
       "      <td>-0.185524</td>\n",
       "      <td>-0.778073</td>\n",
       "      <td>-0.927221</td>\n",
       "      <td>...</td>\n",
       "      <td>0.309479</td>\n",
       "      <td>0.924602</td>\n",
       "      <td>-0.183878</td>\n",
       "      <td>0.102373</td>\n",
       "      <td>0.489743</td>\n",
       "      <td>-0.306037</td>\n",
       "      <td>-0.099435</td>\n",
       "      <td>0.047090</td>\n",
       "      <td>5.178833</td>\n",
       "      <td>1.071882</td>\n",
       "    </tr>\n",
       "    <tr>\n",
       "      <th>242210</th>\n",
       "      <td>-1.050742</td>\n",
       "      <td>0.326024</td>\n",
       "      <td>0.116671</td>\n",
       "      <td>-0.265197</td>\n",
       "      <td>0.784429</td>\n",
       "      <td>-1.360195</td>\n",
       "      <td>0.442044</td>\n",
       "      <td>0.261377</td>\n",
       "      <td>-0.327086</td>\n",
       "      <td>-0.896240</td>\n",
       "      <td>...</td>\n",
       "      <td>-0.047029</td>\n",
       "      <td>-0.467551</td>\n",
       "      <td>-0.029641</td>\n",
       "      <td>-0.117152</td>\n",
       "      <td>-0.446042</td>\n",
       "      <td>0.021054</td>\n",
       "      <td>-0.005806</td>\n",
       "      <td>-0.012407</td>\n",
       "      <td>5.180109</td>\n",
       "      <td>0.930440</td>\n",
       "    </tr>\n",
       "    <tr>\n",
       "      <th>2069</th>\n",
       "      <td>-1.430886</td>\n",
       "      <td>1.313483</td>\n",
       "      <td>0.944380</td>\n",
       "      <td>-0.860024</td>\n",
       "      <td>-0.344865</td>\n",
       "      <td>-0.447314</td>\n",
       "      <td>0.194015</td>\n",
       "      <td>0.566988</td>\n",
       "      <td>0.101569</td>\n",
       "      <td>-0.178823</td>\n",
       "      <td>...</td>\n",
       "      <td>-0.144301</td>\n",
       "      <td>-0.530457</td>\n",
       "      <td>-0.096466</td>\n",
       "      <td>-0.016299</td>\n",
       "      <td>-0.051009</td>\n",
       "      <td>0.308431</td>\n",
       "      <td>-0.027140</td>\n",
       "      <td>0.143774</td>\n",
       "      <td>3.203848</td>\n",
       "      <td>0.698970</td>\n",
       "    </tr>\n",
       "  </tbody>\n",
       "</table>\n",
       "<p>4084 rows × 30 columns</p>\n",
       "</div>"
      ],
      "text/plain": [
       "              V1        V2        V3        V4        V5        V6        V7  \\\n",
       "258195  0.038996  0.897136  0.302642 -0.598355  0.478863 -1.028382  1.030363   \n",
       "147634 -0.563441  0.895764  1.668067  0.912393 -0.168227  0.048543  0.447442   \n",
       "69758   1.467573 -0.409918 -0.445880 -0.694890 -0.561202 -1.095598 -0.092158   \n",
       "269266  2.204249 -1.527496 -0.915959 -1.766346 -0.995807  0.201936 -1.323871   \n",
       "102484  1.161249  0.136713  0.347882  1.080040 -0.501079 -0.802002  0.002257   \n",
       "...          ...       ...       ...       ...       ...       ...       ...   \n",
       "197008 -0.349926  0.203435 -2.202406 -3.954771  2.623100  2.572615  0.179774   \n",
       "202234  1.891791 -1.503085 -0.491290 -0.679490 -1.580169 -0.842999 -0.984041   \n",
       "241255 -0.831535  1.156090 -0.667533 -0.624898  0.937622 -1.739739  1.381195   \n",
       "242210 -1.050742  0.326024  0.116671 -0.265197  0.784429 -1.360195  0.442044   \n",
       "2069   -1.430886  1.313483  0.944380 -0.860024 -0.344865 -0.447314  0.194015   \n",
       "\n",
       "              V8        V9       V10  ...       V21       V22       V23  \\\n",
       "258195 -0.208862 -0.117990 -0.433150  ... -0.249800 -0.508514  0.068662   \n",
       "147634 -0.780655  1.324519  1.546482  ...  0.198324  1.422555 -0.315424   \n",
       "69758  -0.291011 -0.930984  0.772629  ... -0.462320 -0.913033 -0.052365   \n",
       "269266  0.020257 -1.404363  1.668616  ... -0.092242  0.167969  0.194359   \n",
       "102484  0.009913  0.007228  0.235836  ...  0.077470  0.107910 -0.073587   \n",
       "...          ...       ...       ...  ...       ...       ...       ...   \n",
       "197008  0.971193 -1.450349 -0.638877  ... -0.128561 -0.070898 -0.183469   \n",
       "202234 -0.107069  0.297659  0.742507  ...  0.468191  1.032788  0.029336   \n",
       "241255 -0.185524 -0.778073 -0.927221  ...  0.309479  0.924602 -0.183878   \n",
       "242210  0.261377 -0.327086 -0.896240  ... -0.047029 -0.467551 -0.029641   \n",
       "2069    0.566988  0.101569 -0.178823  ... -0.144301 -0.530457 -0.096466   \n",
       "\n",
       "             V24       V25       V26       V27       V28  Log10_Time  \\\n",
       "258195 -0.007015 -0.488606  0.141839  0.253785  0.097770    5.200136   \n",
       "147634  0.120376 -0.602396  0.112200 -0.556882 -0.285881    4.948281   \n",
       "69758  -0.143276  0.459583  1.110043 -0.098669 -0.012696    4.728930   \n",
       "269266  0.223927 -0.233208 -0.202759  0.019612 -0.045096    5.213812   \n",
       "102484  0.494469  0.558718 -0.353205 -0.005135  0.010198    4.833950   \n",
       "...          ...       ...       ...       ...       ...         ...   \n",
       "197008  0.735003 -0.025042  0.347750 -0.002181  0.069857    5.119915   \n",
       "202234  0.058461 -0.295344 -0.079380 -0.017766 -0.022913    5.127856   \n",
       "241255  0.102373  0.489743 -0.306037 -0.099435  0.047090    5.178833   \n",
       "242210 -0.117152 -0.446042  0.021054 -0.005806 -0.012407    5.180109   \n",
       "2069   -0.016299 -0.051009  0.308431 -0.027140  0.143774    3.203848   \n",
       "\n",
       "        Log10_Amount  \n",
       "258195      0.411620  \n",
       "147634      0.661813  \n",
       "69758       0.954243  \n",
       "269266      1.690196  \n",
       "102484      1.229938  \n",
       "...              ...  \n",
       "197008      0.089905  \n",
       "202234      2.176091  \n",
       "241255      1.071882  \n",
       "242210      0.930440  \n",
       "2069        0.698970  \n",
       "\n",
       "[4084 rows x 30 columns]"
      ]
     },
     "execution_count": 49,
     "metadata": {},
     "output_type": "execute_result"
    }
   ],
   "source": [
    "X_under_train"
   ]
  },
  {
   "cell_type": "code",
   "execution_count": 50,
   "metadata": {},
   "outputs": [
    {
     "data": {
      "text/html": [
       "<div>\n",
       "<style scoped>\n",
       "    .dataframe tbody tr th:only-of-type {\n",
       "        vertical-align: middle;\n",
       "    }\n",
       "\n",
       "    .dataframe tbody tr th {\n",
       "        vertical-align: top;\n",
       "    }\n",
       "\n",
       "    .dataframe thead th {\n",
       "        text-align: right;\n",
       "    }\n",
       "</style>\n",
       "<table border=\"1\" class=\"dataframe\">\n",
       "  <thead>\n",
       "    <tr style=\"text-align: right;\">\n",
       "      <th></th>\n",
       "      <th>V1</th>\n",
       "      <th>V2</th>\n",
       "      <th>V3</th>\n",
       "      <th>V4</th>\n",
       "      <th>V5</th>\n",
       "      <th>V6</th>\n",
       "      <th>V7</th>\n",
       "      <th>V8</th>\n",
       "      <th>V9</th>\n",
       "      <th>V10</th>\n",
       "      <th>...</th>\n",
       "      <th>V21</th>\n",
       "      <th>V22</th>\n",
       "      <th>V23</th>\n",
       "      <th>V24</th>\n",
       "      <th>V25</th>\n",
       "      <th>V26</th>\n",
       "      <th>V27</th>\n",
       "      <th>V28</th>\n",
       "      <th>Log10_Time</th>\n",
       "      <th>Log10_Amount</th>\n",
       "    </tr>\n",
       "  </thead>\n",
       "  <tbody>\n",
       "    <tr>\n",
       "      <th>4920</th>\n",
       "      <td>-2.303350</td>\n",
       "      <td>1.759247</td>\n",
       "      <td>-0.359745</td>\n",
       "      <td>2.330243</td>\n",
       "      <td>-0.821628</td>\n",
       "      <td>-0.075788</td>\n",
       "      <td>0.562320</td>\n",
       "      <td>-0.399147</td>\n",
       "      <td>-0.238253</td>\n",
       "      <td>-1.525412</td>\n",
       "      <td>...</td>\n",
       "      <td>-0.294166</td>\n",
       "      <td>-0.932391</td>\n",
       "      <td>0.172726</td>\n",
       "      <td>-0.087330</td>\n",
       "      <td>-0.156114</td>\n",
       "      <td>-0.542628</td>\n",
       "      <td>0.039566</td>\n",
       "      <td>-0.153029</td>\n",
       "      <td>3.649530</td>\n",
       "      <td>2.380085</td>\n",
       "    </tr>\n",
       "    <tr>\n",
       "      <th>6108</th>\n",
       "      <td>-4.397974</td>\n",
       "      <td>1.358367</td>\n",
       "      <td>-2.592844</td>\n",
       "      <td>2.679787</td>\n",
       "      <td>-1.128131</td>\n",
       "      <td>-1.706536</td>\n",
       "      <td>-3.496197</td>\n",
       "      <td>-0.248778</td>\n",
       "      <td>-0.247768</td>\n",
       "      <td>-4.801637</td>\n",
       "      <td>...</td>\n",
       "      <td>0.573574</td>\n",
       "      <td>0.176968</td>\n",
       "      <td>-0.436207</td>\n",
       "      <td>-0.053502</td>\n",
       "      <td>0.252405</td>\n",
       "      <td>-0.657488</td>\n",
       "      <td>-0.827136</td>\n",
       "      <td>0.849573</td>\n",
       "      <td>3.844229</td>\n",
       "      <td>1.770852</td>\n",
       "    </tr>\n",
       "    <tr>\n",
       "      <th>6329</th>\n",
       "      <td>1.234235</td>\n",
       "      <td>3.019740</td>\n",
       "      <td>-4.304597</td>\n",
       "      <td>4.732795</td>\n",
       "      <td>3.624201</td>\n",
       "      <td>-1.357746</td>\n",
       "      <td>1.713445</td>\n",
       "      <td>-0.496358</td>\n",
       "      <td>-1.282858</td>\n",
       "      <td>-2.447469</td>\n",
       "      <td>...</td>\n",
       "      <td>-0.379068</td>\n",
       "      <td>-0.704181</td>\n",
       "      <td>-0.656805</td>\n",
       "      <td>-1.632653</td>\n",
       "      <td>1.488901</td>\n",
       "      <td>0.566797</td>\n",
       "      <td>-0.010016</td>\n",
       "      <td>0.146793</td>\n",
       "      <td>3.876160</td>\n",
       "      <td>0.000000</td>\n",
       "    </tr>\n",
       "    <tr>\n",
       "      <th>6331</th>\n",
       "      <td>0.008430</td>\n",
       "      <td>4.137837</td>\n",
       "      <td>-6.240697</td>\n",
       "      <td>6.675732</td>\n",
       "      <td>0.768307</td>\n",
       "      <td>-3.353060</td>\n",
       "      <td>-1.631735</td>\n",
       "      <td>0.154612</td>\n",
       "      <td>-2.795892</td>\n",
       "      <td>-6.187891</td>\n",
       "      <td>...</td>\n",
       "      <td>0.364514</td>\n",
       "      <td>-0.608057</td>\n",
       "      <td>-0.539528</td>\n",
       "      <td>0.128940</td>\n",
       "      <td>1.488481</td>\n",
       "      <td>0.507963</td>\n",
       "      <td>0.735822</td>\n",
       "      <td>0.513574</td>\n",
       "      <td>3.876564</td>\n",
       "      <td>0.000000</td>\n",
       "    </tr>\n",
       "    <tr>\n",
       "      <th>6334</th>\n",
       "      <td>0.026779</td>\n",
       "      <td>4.132464</td>\n",
       "      <td>-6.560600</td>\n",
       "      <td>6.348557</td>\n",
       "      <td>1.329666</td>\n",
       "      <td>-2.513479</td>\n",
       "      <td>-1.689102</td>\n",
       "      <td>0.303253</td>\n",
       "      <td>-3.139409</td>\n",
       "      <td>-6.045468</td>\n",
       "      <td>...</td>\n",
       "      <td>0.370509</td>\n",
       "      <td>-0.576752</td>\n",
       "      <td>-0.669605</td>\n",
       "      <td>-0.759908</td>\n",
       "      <td>1.605056</td>\n",
       "      <td>0.540675</td>\n",
       "      <td>0.737040</td>\n",
       "      <td>0.496699</td>\n",
       "      <td>3.877083</td>\n",
       "      <td>0.000000</td>\n",
       "    </tr>\n",
       "    <tr>\n",
       "      <th>...</th>\n",
       "      <td>...</td>\n",
       "      <td>...</td>\n",
       "      <td>...</td>\n",
       "      <td>...</td>\n",
       "      <td>...</td>\n",
       "      <td>...</td>\n",
       "      <td>...</td>\n",
       "      <td>...</td>\n",
       "      <td>...</td>\n",
       "      <td>...</td>\n",
       "      <td>...</td>\n",
       "      <td>...</td>\n",
       "      <td>...</td>\n",
       "      <td>...</td>\n",
       "      <td>...</td>\n",
       "      <td>...</td>\n",
       "      <td>...</td>\n",
       "      <td>...</td>\n",
       "      <td>...</td>\n",
       "      <td>...</td>\n",
       "      <td>...</td>\n",
       "    </tr>\n",
       "    <tr>\n",
       "      <th>98963</th>\n",
       "      <td>0.911434</td>\n",
       "      <td>-0.095955</td>\n",
       "      <td>-0.417096</td>\n",
       "      <td>1.111959</td>\n",
       "      <td>0.280069</td>\n",
       "      <td>-0.131790</td>\n",
       "      <td>0.552772</td>\n",
       "      <td>-0.067160</td>\n",
       "      <td>-0.559378</td>\n",
       "      <td>0.163169</td>\n",
       "      <td>...</td>\n",
       "      <td>0.150115</td>\n",
       "      <td>0.120485</td>\n",
       "      <td>-0.298802</td>\n",
       "      <td>-0.288300</td>\n",
       "      <td>0.720738</td>\n",
       "      <td>-0.263533</td>\n",
       "      <td>-0.028167</td>\n",
       "      <td>0.020453</td>\n",
       "      <td>4.825407</td>\n",
       "      <td>2.193125</td>\n",
       "    </tr>\n",
       "    <tr>\n",
       "      <th>144638</th>\n",
       "      <td>1.178515</td>\n",
       "      <td>0.407378</td>\n",
       "      <td>0.666197</td>\n",
       "      <td>2.063906</td>\n",
       "      <td>0.254806</td>\n",
       "      <td>0.858825</td>\n",
       "      <td>-0.293667</td>\n",
       "      <td>0.186477</td>\n",
       "      <td>-0.786339</td>\n",
       "      <td>0.776132</td>\n",
       "      <td>...</td>\n",
       "      <td>-0.091593</td>\n",
       "      <td>-0.322161</td>\n",
       "      <td>-0.108061</td>\n",
       "      <td>-1.037604</td>\n",
       "      <td>0.386171</td>\n",
       "      <td>-0.085696</td>\n",
       "      <td>0.017437</td>\n",
       "      <td>0.017385</td>\n",
       "      <td>4.935940</td>\n",
       "      <td>1.299943</td>\n",
       "    </tr>\n",
       "    <tr>\n",
       "      <th>236508</th>\n",
       "      <td>-1.157815</td>\n",
       "      <td>0.731577</td>\n",
       "      <td>1.521384</td>\n",
       "      <td>-0.944872</td>\n",
       "      <td>0.141823</td>\n",
       "      <td>0.827827</td>\n",
       "      <td>0.217251</td>\n",
       "      <td>0.498365</td>\n",
       "      <td>0.111262</td>\n",
       "      <td>-0.939209</td>\n",
       "      <td>...</td>\n",
       "      <td>0.276910</td>\n",
       "      <td>0.877768</td>\n",
       "      <td>-0.529471</td>\n",
       "      <td>0.262238</td>\n",
       "      <td>0.782294</td>\n",
       "      <td>-0.082563</td>\n",
       "      <td>-0.343995</td>\n",
       "      <td>-0.244692</td>\n",
       "      <td>5.172723</td>\n",
       "      <td>1.643551</td>\n",
       "    </tr>\n",
       "    <tr>\n",
       "      <th>280112</th>\n",
       "      <td>-0.694553</td>\n",
       "      <td>-0.121232</td>\n",
       "      <td>1.250017</td>\n",
       "      <td>-2.567893</td>\n",
       "      <td>0.535551</td>\n",
       "      <td>-0.699039</td>\n",
       "      <td>0.982177</td>\n",
       "      <td>-0.543787</td>\n",
       "      <td>-1.263973</td>\n",
       "      <td>0.443649</td>\n",
       "      <td>...</td>\n",
       "      <td>0.369095</td>\n",
       "      <td>1.159787</td>\n",
       "      <td>-0.668687</td>\n",
       "      <td>-0.309051</td>\n",
       "      <td>1.000464</td>\n",
       "      <td>0.053084</td>\n",
       "      <td>-0.491860</td>\n",
       "      <td>-0.416989</td>\n",
       "      <td>5.228724</td>\n",
       "      <td>1.554489</td>\n",
       "    </tr>\n",
       "    <tr>\n",
       "      <th>100871</th>\n",
       "      <td>1.191021</td>\n",
       "      <td>0.106665</td>\n",
       "      <td>0.031567</td>\n",
       "      <td>1.215060</td>\n",
       "      <td>0.208690</td>\n",
       "      <td>0.289537</td>\n",
       "      <td>0.049618</td>\n",
       "      <td>0.052476</td>\n",
       "      <td>0.399974</td>\n",
       "      <td>-0.120775</td>\n",
       "      <td>...</td>\n",
       "      <td>-0.150732</td>\n",
       "      <td>-0.247408</td>\n",
       "      <td>-0.176762</td>\n",
       "      <td>-0.767263</td>\n",
       "      <td>0.756668</td>\n",
       "      <td>-0.260797</td>\n",
       "      <td>0.033405</td>\n",
       "      <td>0.009567</td>\n",
       "      <td>4.830281</td>\n",
       "      <td>1.400192</td>\n",
       "    </tr>\n",
       "  </tbody>\n",
       "</table>\n",
       "<p>5105 rows × 30 columns</p>\n",
       "</div>"
      ],
      "text/plain": [
       "              V1        V2        V3        V4        V5        V6        V7  \\\n",
       "4920   -2.303350  1.759247 -0.359745  2.330243 -0.821628 -0.075788  0.562320   \n",
       "6108   -4.397974  1.358367 -2.592844  2.679787 -1.128131 -1.706536 -3.496197   \n",
       "6329    1.234235  3.019740 -4.304597  4.732795  3.624201 -1.357746  1.713445   \n",
       "6331    0.008430  4.137837 -6.240697  6.675732  0.768307 -3.353060 -1.631735   \n",
       "6334    0.026779  4.132464 -6.560600  6.348557  1.329666 -2.513479 -1.689102   \n",
       "...          ...       ...       ...       ...       ...       ...       ...   \n",
       "98963   0.911434 -0.095955 -0.417096  1.111959  0.280069 -0.131790  0.552772   \n",
       "144638  1.178515  0.407378  0.666197  2.063906  0.254806  0.858825 -0.293667   \n",
       "236508 -1.157815  0.731577  1.521384 -0.944872  0.141823  0.827827  0.217251   \n",
       "280112 -0.694553 -0.121232  1.250017 -2.567893  0.535551 -0.699039  0.982177   \n",
       "100871  1.191021  0.106665  0.031567  1.215060  0.208690  0.289537  0.049618   \n",
       "\n",
       "              V8        V9       V10  ...       V21       V22       V23  \\\n",
       "4920   -0.399147 -0.238253 -1.525412  ... -0.294166 -0.932391  0.172726   \n",
       "6108   -0.248778 -0.247768 -4.801637  ...  0.573574  0.176968 -0.436207   \n",
       "6329   -0.496358 -1.282858 -2.447469  ... -0.379068 -0.704181 -0.656805   \n",
       "6331    0.154612 -2.795892 -6.187891  ...  0.364514 -0.608057 -0.539528   \n",
       "6334    0.303253 -3.139409 -6.045468  ...  0.370509 -0.576752 -0.669605   \n",
       "...          ...       ...       ...  ...       ...       ...       ...   \n",
       "98963  -0.067160 -0.559378  0.163169  ...  0.150115  0.120485 -0.298802   \n",
       "144638  0.186477 -0.786339  0.776132  ... -0.091593 -0.322161 -0.108061   \n",
       "236508  0.498365  0.111262 -0.939209  ...  0.276910  0.877768 -0.529471   \n",
       "280112 -0.543787 -1.263973  0.443649  ...  0.369095  1.159787 -0.668687   \n",
       "100871  0.052476  0.399974 -0.120775  ... -0.150732 -0.247408 -0.176762   \n",
       "\n",
       "             V24       V25       V26       V27       V28  Log10_Time  \\\n",
       "4920   -0.087330 -0.156114 -0.542628  0.039566 -0.153029    3.649530   \n",
       "6108   -0.053502  0.252405 -0.657488 -0.827136  0.849573    3.844229   \n",
       "6329   -1.632653  1.488901  0.566797 -0.010016  0.146793    3.876160   \n",
       "6331    0.128940  1.488481  0.507963  0.735822  0.513574    3.876564   \n",
       "6334   -0.759908  1.605056  0.540675  0.737040  0.496699    3.877083   \n",
       "...          ...       ...       ...       ...       ...         ...   \n",
       "98963  -0.288300  0.720738 -0.263533 -0.028167  0.020453    4.825407   \n",
       "144638 -1.037604  0.386171 -0.085696  0.017437  0.017385    4.935940   \n",
       "236508  0.262238  0.782294 -0.082563 -0.343995 -0.244692    5.172723   \n",
       "280112 -0.309051  1.000464  0.053084 -0.491860 -0.416989    5.228724   \n",
       "100871 -0.767263  0.756668 -0.260797  0.033405  0.009567    4.830281   \n",
       "\n",
       "        Log10_Amount  \n",
       "4920        2.380085  \n",
       "6108        1.770852  \n",
       "6329        0.000000  \n",
       "6331        0.000000  \n",
       "6334        0.000000  \n",
       "...              ...  \n",
       "98963       2.193125  \n",
       "144638      1.299943  \n",
       "236508      1.643551  \n",
       "280112      1.554489  \n",
       "100871      1.400192  \n",
       "\n",
       "[5105 rows x 30 columns]"
      ]
     },
     "execution_count": 50,
     "metadata": {},
     "output_type": "execute_result"
    }
   ],
   "source": [
    "X"
   ]
  },
  {
   "cell_type": "code",
   "execution_count": 51,
   "metadata": {},
   "outputs": [
    {
     "name": "stdout",
     "output_type": "stream",
     "text": [
      "Logistic Regression:\n",
      "\n",
      "F1 Score: 0.9405746437143184\n",
      "ROC-AUC: 0.9733924635285911\n",
      "PR-AUC: 0.919701830140639\n",
      "\n",
      "\n",
      "Support Vector Machine:\n",
      "\n",
      "F1 Score: 0.94457305768783\n",
      "ROC-AUC: 0.9644506188758223\n",
      "PR-AUC: 0.9075738422907648\n",
      "\n",
      "\n",
      "Random Forest:\n",
      "\n",
      "F1 Score: 0.9454391852965104\n",
      "ROC-AUC: 0.9696831746623905\n",
      "PR-AUC: 0.9094619240444587\n",
      "\n",
      "\n"
     ]
    }
   ],
   "source": [
    "models = []\n",
    "\n",
    "models.append(('Logistic Regression', LogisticRegression()))\n",
    "models.append(('Support Vector Machine', SVC(kernel='rbf',C = best_params_svm['C'],gamma=best_params_svm['gamma'],probability=True)))\n",
    "models.append(('Random Forest', RandomForestClassifier(n_estimators=best_params['n_estimators'],\n",
    "        min_samples_split=best_params['min_samples_split'],min_samples_leaf\n",
    "     =best_params['min_samples_leaf'],max_features=best_params['max_features'],max_depth = best_params['max_depth'],\n",
    "                                    criterion='gini')))\n",
    "#testing models\n",
    "\n",
    "results = []\n",
    "names = []\n",
    "\n",
    "for name, model in models:\n",
    "    kfold = KFold(n_splits=10)\n",
    "    cv_results_roc = cross_val_score(model, X_under_train, y_under_train, cv=kfold, scoring='roc_auc')\n",
    "    cv_results_f = cross_val_score(model, X_under_train, y_under_train, cv=kfold, scoring='f1_macro')\n",
    "    #results.append(cv_results_roc)\n",
    "    names.append(name)\n",
    "    msg = '%s:\\n' % (name)\n",
    "    print(msg)\n",
    "    print('F1 Score:',cv_results_f.mean())\n",
    "    print('ROC-AUC:',cv_results_roc.mean())\n",
    "    PR_auc=[]\n",
    "    for train_index, test_index in kfold.split(X_under_train):\n",
    "        X_train, X_test = X_under_train.iloc[train_index], X_under_train.iloc[test_index]\n",
    "        y_train, y_test = y_under_train.iloc[train_index], y_under_train.iloc[test_index]\n",
    "        if AUPRC_calculation (X_train, y_train,X_test,y_test,model) > 0.0:\n",
    "            PR_auc.append(AUPRC_calculation (X_train, y_train,X_test,y_test,model) )\n",
    "        #y_test \n",
    "        #print(train_index, test_index)\n",
    "    print('PR-AUC:',np.array(PR_auc).mean())\n",
    "    results.append(np.array(PR_auc))\n",
    "    \n",
    "    \n",
    "    print('\\n')"
   ]
  },
  {
   "cell_type": "code",
   "execution_count": 165,
   "metadata": {},
   "outputs": [
    {
     "data": {
      "image/png": "[encoded data removed]",
      "text/plain": [
       "<Figure size 864x720 with 1 Axes>"
      ]
     },
     "metadata": {},
     "output_type": "display_data"
    }
   ],
   "source": [
    "# Comparing the different algorithms\n",
    "\n",
    "\n",
    "fig = plt.figure(figsize=(12,10))\n",
    "plt.title('Comparison of Classification Algorithms')\n",
    "plt.xlabel('Algorithm')\n",
    "plt.ylabel('PR-AUC Score')\n",
    "plt.boxplot(results)\n",
    "ax = fig.add_subplot(111)\n",
    "ax.set_xticklabels(names)\n",
    "plt.show()"
   ]
  },
  {
   "cell_type": "markdown",
   "metadata": {},
   "source": [
    "### 10% Undersampling Ratio"
   ]
  },
  {
   "cell_type": "code",
   "execution_count": 52,
   "metadata": {},
   "outputs": [
    {
     "data": {
      "text/plain": [
       "Text(0.5, 0, 'Class (0:Non-Fraudulent, 1:Fraudulent)')"
      ]
     },
     "execution_count": 52,
     "metadata": {},
     "output_type": "execute_result"
    },
    {
     "data": {
      "image/png": "[encoded data removed]",
      "text/plain": [
       "<Figure size 576x432 with 1 Axes>"
      ]
     },
     "metadata": {},
     "output_type": "display_data"
    }
   ],
   "source": [
    "# 10% undersampling ratio\n",
    "\n",
    "no_frauds = len(df[df['Class'] == 1])\n",
    "non_fraud_indices = df[df.Class == 0].index\n",
    "random_indices = np.random.choice(non_fraud_indices,(int)(no_frauds/0.1), replace=False)\n",
    "fraud_indices = df[df.Class == 1].index\n",
    "under_sample_indices = np.concatenate([fraud_indices,random_indices])\n",
    "under_sample = df.loc[under_sample_indices]\n",
    "\n",
    "\n",
    "new_counts = under_sample.Class.value_counts()\n",
    "plt.figure(figsize=(8,6))\n",
    "sns.barplot(x=new_counts.index, y=new_counts,palette=\"rocket\")\n",
    "plt.title('Count of Fraudulent vs. Non-Fraudulent Transactions In Subsample')\n",
    "plt.ylabel('Count')\n",
    "plt.xlabel('Class (0:Non-Fraudulent, 1:Fraudulent)')\n",
    "\n"
   ]
  },
  {
   "cell_type": "markdown",
   "metadata": {},
   "source": [
    "#### Comparison of various algorithms"
   ]
  },
  {
   "cell_type": "code",
   "execution_count": 53,
   "metadata": {},
   "outputs": [],
   "source": [
    "# removing extreme outliers\n",
    "\n",
    "df2 = under_sample[~((under_sample < (Q1 - 4 * IQR)) |(under_sample > (Q3 + 4 * IQR))).any(axis=1)]\n",
    "\n",
    "X = df2.drop('Class', axis=1)\n",
    "y = df2['Class']\n",
    "\n",
    "# splitting into train and test data\n",
    "\n",
    "X_under_train, X_under_test, y_under_train, y_under_test = train_test_split(X,y,test_size = 0.2, random_state = 42)"
   ]
  },
  {
   "cell_type": "code",
   "execution_count": 54,
   "metadata": {},
   "outputs": [
    {
     "name": "stdout",
     "output_type": "stream",
     "text": [
      "Logistic Regression:\n",
      "\n",
      "F1 Score: 0.9429616491155178\n",
      "ROC-AUC: 0.9713003504307245\n",
      "PR-AUC: 0.9210817834910034\n",
      "\n",
      "\n",
      "Support Vector Machine:\n",
      "\n",
      "F1 Score: 0.9488221998787774\n",
      "ROC-AUC: 0.9611242975177078\n",
      "PR-AUC: 0.9040017049259609\n",
      "\n",
      "\n",
      "Random Forest:\n",
      "\n",
      "F1 Score: 0.9496962127621501\n",
      "ROC-AUC: 0.9674396736904795\n",
      "PR-AUC: 0.9123582594257872\n",
      "\n",
      "\n"
     ]
    }
   ],
   "source": [
    "models = []\n",
    "\n",
    "models.append(('Logistic Regression', LogisticRegression()))\n",
    "models.append(('Support Vector Machine', SVC(kernel='rbf',C = best_params_svm['C'],gamma=best_params_svm['gamma'],probability=True)))\n",
    "models.append(('Random Forest', RandomForestClassifier(n_estimators=best_params['n_estimators'],\n",
    "        min_samples_split=best_params['min_samples_split'],min_samples_leaf\n",
    "     =best_params['min_samples_leaf'],max_features=best_params['max_features'],max_depth = best_params['max_depth'],\n",
    "                                    criterion='gini')))\n",
    "#testing models\n",
    "\n",
    "results = []\n",
    "names = []\n",
    "\n",
    "for name, model in models:\n",
    "    kfold = KFold(n_splits=10)\n",
    "    cv_results_roc = cross_val_score(model, X_under_train, y_under_train, cv=kfold, scoring='roc_auc')\n",
    "    cv_results_f = cross_val_score(model, X_under_train, y_under_train, cv=kfold, scoring='f1_macro')\n",
    "    #results.append(cv_results_roc)\n",
    "    names.append(name)\n",
    "    msg = '%s:\\n' % (name)\n",
    "    print(msg)\n",
    "    print('F1 Score:',cv_results_f.mean())\n",
    "    print('ROC-AUC:',cv_results_roc.mean())\n",
    "    PR_auc=[]\n",
    "    for train_index, test_index in kfold.split(X_under_train):\n",
    "        X_train, X_test = X_under_train.iloc[train_index], X_under_train.iloc[test_index]\n",
    "        y_train, y_test = y_under_train.iloc[train_index], y_under_train.iloc[test_index]\n",
    "        if AUPRC_calculation (X_train, y_train,X_test,y_test,model) > 0.0:\n",
    "            PR_auc.append(AUPRC_calculation (X_train, y_train,X_test,y_test,model) )\n",
    "        #y_test \n",
    "        #print(train_index, test_index)\n",
    "    print('PR-AUC:',np.array(PR_auc).mean())\n",
    "    results.append(np.array(PR_auc))\n",
    "    \n",
    "    \n",
    "    print('\\n')"
   ]
  },
  {
   "cell_type": "code",
   "execution_count": 136,
   "metadata": {},
   "outputs": [
    {
     "data": {
      "image/png": "[encoded data removed]",
      "text/plain": [
       "<Figure size 864x720 with 1 Axes>"
      ]
     },
     "metadata": {},
     "output_type": "display_data"
    }
   ],
   "source": [
    "# Comparing the different algorithms\n",
    "\n",
    "\n",
    "fig = plt.figure(figsize=(12,10))\n",
    "plt.title('Comparison of Classification Algorithms')\n",
    "plt.xlabel('Algorithm')\n",
    "plt.ylabel('PR-AUC Score')\n",
    "plt.boxplot(results)\n",
    "ax = fig.add_subplot(111)\n",
    "ax.set_xticklabels(names)\n",
    "plt.show()"
   ]
  },
  {
   "cell_type": "markdown",
   "metadata": {},
   "source": [
    "### 5% Undersampling Ratio"
   ]
  },
  {
   "cell_type": "code",
   "execution_count": 55,
   "metadata": {},
   "outputs": [
    {
     "data": {
      "text/plain": [
       "Text(0.5, 0, 'Class (0:Non-Fraudulent, 1:Fraudulent)')"
      ]
     },
     "execution_count": 55,
     "metadata": {},
     "output_type": "execute_result"
    },
    {
     "data": {
      "image/png": "[encoded data removed]",
      "text/plain": [
       "<Figure size 576x432 with 1 Axes>"
      ]
     },
     "metadata": {},
     "output_type": "display_data"
    }
   ],
   "source": [
    "# 5% undersampling ratio\n",
    "\n",
    "no_frauds = len(df[df['Class'] == 1])\n",
    "non_fraud_indices = df[df.Class == 0].index\n",
    "random_indices = np.random.choice(non_fraud_indices,(int)(no_frauds/0.05), replace=False)\n",
    "fraud_indices = df[df.Class == 1].index\n",
    "under_sample_indices = np.concatenate([fraud_indices,random_indices])\n",
    "under_sample = df.loc[under_sample_indices]\n",
    "\n",
    "\n",
    "new_counts = under_sample.Class.value_counts()\n",
    "plt.figure(figsize=(8,6))\n",
    "sns.barplot(x=new_counts.index, y=new_counts,palette=\"rocket\")\n",
    "plt.title('Count of Fraudulent vs. Non-Fraudulent Transactions In Subsample')\n",
    "plt.ylabel('Count')\n",
    "plt.xlabel('Class (0:Non-Fraudulent, 1:Fraudulent)')\n",
    "\n"
   ]
  },
  {
   "cell_type": "markdown",
   "metadata": {},
   "source": [
    "#### Comparison of various algorithms"
   ]
  },
  {
   "cell_type": "code",
   "execution_count": 56,
   "metadata": {},
   "outputs": [],
   "source": [
    "# removing extreme outliers\n",
    "\n",
    "df2 = under_sample[~((under_sample < (Q1 - 4 * IQR)) |(under_sample > (Q3 + 4 * IQR))).any(axis=1)]\n",
    "\n",
    "X = df2.drop('Class', axis=1)\n",
    "y = df2['Class']\n",
    "\n",
    "# splitting into train and test data\n",
    "\n",
    "X_under_train, X_under_test, y_under_train, y_under_test = train_test_split(X,y,test_size = 0.2, random_state = 42)"
   ]
  },
  {
   "cell_type": "code",
   "execution_count": 57,
   "metadata": {},
   "outputs": [
    {
     "name": "stdout",
     "output_type": "stream",
     "text": [
      "Logistic Regression:\n",
      "\n",
      "F1 Score: 0.9391874747096729\n",
      "ROC-AUC: 0.9807696872110728\n",
      "PR-AUC: 0.894069424360165\n",
      "\n",
      "\n",
      "Support Vector Machine:\n",
      "\n",
      "F1 Score: 0.9451837999446193\n",
      "ROC-AUC: 0.9689132288725067\n",
      "PR-AUC: 0.9046273749435603\n",
      "\n",
      "\n",
      "Random Forest:\n",
      "\n",
      "F1 Score: 0.9445767636717243\n",
      "ROC-AUC: 0.9680827980043427\n",
      "PR-AUC: 0.8877968406905932\n",
      "\n",
      "\n"
     ]
    }
   ],
   "source": [
    "models = []\n",
    "\n",
    "models.append(('Logistic Regression', LogisticRegression()))\n",
    "models.append(('Support Vector Machine', SVC(kernel='rbf',C = best_params_svm['C'],gamma=best_params_svm['gamma'],probability=True)))\n",
    "models.append(('Random Forest', RandomForestClassifier(n_estimators=best_params['n_estimators'],\n",
    "        min_samples_split=best_params['min_samples_split'],min_samples_leaf\n",
    "     =best_params['min_samples_leaf'],max_features=best_params['max_features'],max_depth = best_params['max_depth'],\n",
    "                                    criterion='gini')))\n",
    "#testing models\n",
    "\n",
    "results = []\n",
    "names = []\n",
    "\n",
    "for name, model in models:\n",
    "    kfold = KFold(n_splits=10)\n",
    "    cv_results_roc = cross_val_score(model, X_under_train, y_under_train, cv=kfold, scoring='roc_auc')\n",
    "    cv_results_f = cross_val_score(model, X_under_train, y_under_train, cv=kfold, scoring='f1_macro')\n",
    "    #results.append(cv_results_roc)\n",
    "    names.append(name)\n",
    "    msg = '%s:\\n' % (name)\n",
    "    print(msg)\n",
    "    print('F1 Score:',cv_results_f.mean())\n",
    "    print('ROC-AUC:',cv_results_roc.mean())\n",
    "    PR_auc=[]\n",
    "    for train_index, test_index in kfold.split(X_under_train):\n",
    "        X_train, X_test = X_under_train.iloc[train_index], X_under_train.iloc[test_index]\n",
    "        y_train, y_test = y_under_train.iloc[train_index], y_under_train.iloc[test_index]\n",
    "        if AUPRC_calculation (X_train, y_train,X_test,y_test,model) > 0.0:\n",
    "            PR_auc.append(AUPRC_calculation (X_train, y_train,X_test,y_test,model) )\n",
    "        #y_test \n",
    "        #print(train_index, test_index)\n",
    "    print('PR-AUC:',np.array(PR_auc).mean())\n",
    "    results.append(np.array(PR_auc))\n",
    "    \n",
    "    \n",
    "    print('\\n')"
   ]
  },
  {
   "cell_type": "code",
   "execution_count": 140,
   "metadata": {
    "scrolled": true
   },
   "outputs": [
    {
     "data": {
      "image/png": "[encoded data removed]",
      "text/plain": [
       "<Figure size 864x720 with 1 Axes>"
      ]
     },
     "metadata": {},
     "output_type": "display_data"
    }
   ],
   "source": [
    "# Comparing the different algorithms\n",
    "\n",
    "\n",
    "fig = plt.figure(figsize=(12,10))\n",
    "plt.title('Comparison of Classification Algorithms')\n",
    "plt.xlabel('Algorithm')\n",
    "plt.ylabel('PR-AUC Score')\n",
    "plt.boxplot(results)\n",
    "ax = fig.add_subplot(111)\n",
    "ax.set_xticklabels(names)\n",
    "plt.show()"
   ]
  },
  {
   "cell_type": "markdown",
   "metadata": {},
   "source": [
    "## 2% Undersampling Ratio"
   ]
  },
  {
   "cell_type": "code",
   "execution_count": 58,
   "metadata": {
    "scrolled": true
   },
   "outputs": [
    {
     "data": {
      "text/plain": [
       "Text(0.5, 0, 'Class (0:Non-Fraudulent, 1:Fraudulent)')"
      ]
     },
     "execution_count": 58,
     "metadata": {},
     "output_type": "execute_result"
    },
    {
     "data": {
      "image/png": "[encoded data removed]",
      "text/plain": [
       "<Figure size 576x432 with 1 Axes>"
      ]
     },
     "metadata": {},
     "output_type": "display_data"
    }
   ],
   "source": [
    "# 5% undersampling ratio\n",
    "\n",
    "no_frauds = len(df[df['Class'] == 1])\n",
    "non_fraud_indices = df[df.Class == 0].index\n",
    "random_indices = np.random.choice(non_fraud_indices,(int)(no_frauds/0.02), replace=False)\n",
    "fraud_indices = df[df.Class == 1].index\n",
    "under_sample_indices = np.concatenate([fraud_indices,random_indices])\n",
    "under_sample = df.loc[under_sample_indices]\n",
    "\n",
    "\n",
    "new_counts = under_sample.Class.value_counts()\n",
    "plt.figure(figsize=(8,6))\n",
    "sns.barplot(x=new_counts.index, y=new_counts,palette=\"rocket\")\n",
    "plt.title('Count of Fraudulent vs. Non-Fraudulent Transactions In Subsample')\n",
    "plt.ylabel('Count')\n",
    "plt.xlabel('Class (0:Non-Fraudulent, 1:Fraudulent)')\n",
    "\n"
   ]
  },
  {
   "cell_type": "markdown",
   "metadata": {},
   "source": [
    "#### Comparison of various algorithms"
   ]
  },
  {
   "cell_type": "code",
   "execution_count": 59,
   "metadata": {},
   "outputs": [],
   "source": [
    "# removing extreme outliers\n",
    "#Q1 = under_sample.quantile(0.25)\n",
    "#Q3 = under_sample.quantile(0.75)\n",
    "#IQR = Q3 - Q1\n",
    "\n",
    "df2 = under_sample[~((under_sample < (Q1 - 4 * IQR)) |(under_sample > (Q3 + 4 * IQR))).any(axis=1)]\n",
    "\n",
    "X = df2.drop('Class', axis=1)\n",
    "y = df2['Class']\n",
    "\n",
    "\n",
    "from sklearn.model_selection import train_test_split\n",
    "# splitting into train and test data\n",
    "\n",
    "X_under_train, X_under_test, y_under_train, y_under_test = train_test_split(X,y,test_size = 0.2, random_state = 42)"
   ]
  },
  {
   "cell_type": "code",
   "execution_count": 60,
   "metadata": {},
   "outputs": [],
   "source": [
    "from sklearn.model_selection import KFold\n",
    "from sklearn.model_selection import cross_val_score"
   ]
  },
  {
   "cell_type": "code",
   "execution_count": 61,
   "metadata": {},
   "outputs": [
    {
     "name": "stdout",
     "output_type": "stream",
     "text": [
      "Logistic Regression:\n",
      "\n",
      "F1 Score: 0.9411110761142669\n",
      "ROC-AUC: 0.9746566359737047\n",
      "PR-AUC: 0.8823696978976544\n",
      "\n",
      "\n",
      "Support Vector Machine:\n",
      "\n",
      "F1 Score: 0.9478381881338624\n",
      "ROC-AUC: 0.9482196077343861\n",
      "PR-AUC: 0.8771454438764709\n",
      "\n",
      "\n",
      "Random Forest:\n",
      "\n",
      "F1 Score: 0.9480481850268079\n",
      "ROC-AUC: 0.9604560188670513\n",
      "PR-AUC: 0.8758703056820225\n",
      "\n",
      "\n"
     ]
    }
   ],
   "source": [
    "models = []\n",
    "\n",
    "models.append(('Logistic Regression', LogisticRegression()))\n",
    "models.append(('Support Vector Machine', SVC(kernel='rbf',C = best_params_svm['C'],gamma=best_params_svm['gamma'],probability=True)))\n",
    "models.append(('Random Forest', RandomForestClassifier(n_estimators=best_params['n_estimators'],\n",
    "        min_samples_split=best_params['min_samples_split'],min_samples_leaf\n",
    "     =best_params['min_samples_leaf'],max_features=best_params['max_features'],max_depth = best_params['max_depth'],\n",
    "                                    criterion='gini')))\n",
    "#testing models\n",
    "\n",
    "results = []\n",
    "names = []\n",
    "\n",
    "for name, model in models:\n",
    "    kfold = KFold(n_splits=10)\n",
    "    cv_results_roc = cross_val_score(model, X_under_train, y_under_train, cv=kfold, scoring='roc_auc')\n",
    "    cv_results_f = cross_val_score(model, X_under_train, y_under_train, cv=kfold, scoring='f1_macro')\n",
    "    #results.append(cv_results_roc)\n",
    "    names.append(name)\n",
    "    msg = '%s:\\n' % (name)\n",
    "    print(msg)\n",
    "    print('F1 Score:',cv_results_f.mean())\n",
    "    print('ROC-AUC:',cv_results_roc.mean())\n",
    "    PR_auc=[]\n",
    "    for train_index, test_index in kfold.split(X_under_train):\n",
    "        X_train, X_test = X_under_train.iloc[train_index], X_under_train.iloc[test_index]\n",
    "        y_train, y_test = y_under_train.iloc[train_index], y_under_train.iloc[test_index]\n",
    "        if AUPRC_calculation (X_train, y_train,X_test,y_test,model) > 0.0:\n",
    "            PR_auc.append(AUPRC_calculation (X_train, y_train,X_test,y_test,model) )\n",
    "        #y_test \n",
    "        #print(train_index, test_index)\n",
    "    print('PR-AUC:',np.array(PR_auc).mean())\n",
    "    results.append(np.array(PR_auc))\n",
    "    \n",
    "    \n",
    "    print('\\n')"
   ]
  },
  {
   "cell_type": "code",
   "execution_count": 148,
   "metadata": {
    "scrolled": false
   },
   "outputs": [
    {
     "data": {
      "image/png": "[encoded data removed]",
      "text/plain": [
       "<Figure size 864x720 with 1 Axes>"
      ]
     },
     "metadata": {},
     "output_type": "display_data"
    }
   ],
   "source": [
    "# Comparing the different algorithms\n",
    "\n",
    "\n",
    "fig = plt.figure(figsize=(12,10))\n",
    "plt.title('Comparison of Classification Algorithms')\n",
    "plt.xlabel('Algorithm')\n",
    "plt.ylabel('PR-AUC Score')\n",
    "plt.boxplot(results)\n",
    "ax = fig.add_subplot(111)\n",
    "ax.set_xticklabels(names)\n",
    "plt.show()"
   ]
  },
  {
   "cell_type": "markdown",
   "metadata": {},
   "source": [
    "## Conclusion\n",
    "\n",
    "\n",
    "All the method performed relatively well, but Logistic Regression and Random Forest performed better on scenarios where under-sampling ratio resemble actual realities. "
   ]
  },
  {
   "cell_type": "code",
   "execution_count": 62,
   "metadata": {},
   "outputs": [],
   "source": [
    "from imblearn.under_sampling import RandomUnderSampler\n",
    "from imblearn.pipeline import Pipeline\n",
    "from sklearn.model_selection import RepeatedStratifiedKFold"
   ]
  },
  {
   "cell_type": "code",
   "execution_count": 63,
   "metadata": {},
   "outputs": [],
   "source": [
    "models = []\n",
    "\n",
    "models.append(('Logistic Regression', LogisticRegression()))\n",
    "models.append(('Support Vector Machine', SVC(kernel='rbf',C = best_params_svm['C'],gamma=best_params_svm['gamma'],probability=True)))\n",
    "models.append(('Random Forest', RandomForestClassifier(n_estimators=best_params['n_estimators'],\n",
    "        min_samples_split=best_params['min_samples_split'],min_samples_leaf\n",
    "     =best_params['min_samples_leaf'],max_features=best_params['max_features'],max_depth = best_params['max_depth'],\n",
    "                                    criterion='gini')))"
   ]
  },
  {
   "cell_type": "code",
   "execution_count": 172,
   "metadata": {},
   "outputs": [
    {
     "data": {
      "text/plain": [
       "('Support Vector Machine', SVC(C=10, gamma=0.01, probability=True))"
      ]
     },
     "execution_count": 172,
     "metadata": {},
     "output_type": "execute_result"
    }
   ],
   "source": [
    "models[:][1]"
   ]
  },
  {
   "cell_type": "code",
   "execution_count": 173,
   "metadata": {},
   "outputs": [
    {
     "data": {
      "text/plain": [
       "[('Logistic Regression', LogisticRegression()),\n",
       " ('Support Vector Machine', SVC(C=10, gamma=0.01, probability=True)),\n",
       " ('Random Forest',\n",
       "  RandomForestClassifier(max_depth=90, max_features=3, min_samples_leaf=3,\n",
       "                         min_samples_split=12))]"
      ]
     },
     "execution_count": 173,
     "metadata": {},
     "output_type": "execute_result"
    }
   ],
   "source": [
    "models"
   ]
  },
  {
   "cell_type": "code",
   "execution_count": 71,
   "metadata": {},
   "outputs": [
    {
     "name": "stdout",
     "output_type": "stream",
     "text": [
      "F-measure: 0.997\n"
     ]
    }
   ],
   "source": [
    "steps = [('under', RandomUnderSampler(sampling_strategy=0.02)), ('model', SVC(kernel='rbf',C = best_params_svm['C'],gamma=best_params_svm['gamma'],probability=True))]\n",
    "pipeline = Pipeline(steps=steps)\n",
    "# evaluate pipeline\n",
    "cv = RepeatedStratifiedKFold(n_splits=10, n_repeats=3, random_state=1)\n",
    "scores = cross_val_score(pipeline, X, y, scoring='f1_micro', cv=cv, n_jobs=-1)\n",
    "score = np.mean(scores)\n",
    "print('F-measure: %.3f' % score)"
   ]
  },
  {
   "cell_type": "code",
   "execution_count": 65,
   "metadata": {},
   "outputs": [
    {
     "name": "stdout",
     "output_type": "stream",
     "text": [
      "F-measure: 0.416\n"
     ]
    }
   ],
   "source": [
    "steps = [('under', RandomUnderSampler()), ('model', SVC(kernel='rbf',C = best_params_svm['C'],gamma=best_params_svm['gamma'],probability=True))]\n",
    "pipeline = Pipeline(steps=steps)\n",
    "# evaluate pipeline\n",
    "cv = RepeatedStratifiedKFold(n_splits=10, n_repeats=3, random_state=1)\n",
    "scores = cross_val_score(pipeline, X, y, scoring='f1', cv=cv, n_jobs=-1)\n",
    "score = np.mean(scores)\n",
    "print('F-measure: %.3f' % score)"
   ]
  },
  {
   "cell_type": "code",
   "execution_count": 68,
   "metadata": {},
   "outputs": [
    {
     "name": "stdout",
     "output_type": "stream",
     "text": [
      "F-measure: 0.814\n"
     ]
    }
   ],
   "source": [
    "steps = [('under', RandomUnderSampler(sampling_strategy=0.02)), ('model', SVC(kernel='rbf',C = best_params_svm['C'],gamma=best_params_svm['gamma'],probability=True))]\n",
    "pipeline = Pipeline(steps=steps)\n",
    "# evaluate pipeline\n",
    "cv = RepeatedStratifiedKFold(n_splits=10, n_repeats=3, random_state=1)\n",
    "scores = cross_val_score(pipeline, X, y, scoring='recall', cv=cv, n_jobs=-1)\n",
    "score = np.mean(scores)\n",
    "print('F-measure: %.3f' % score)"
   ]
  },
  {
   "cell_type": "code",
   "execution_count": 74,
   "metadata": {},
   "outputs": [
    {
     "name": "stdout",
     "output_type": "stream",
     "text": [
      "F-measure: 0.759\n"
     ]
    }
   ],
   "source": [
    "steps = [('under', RandomUnderSampler(sampling_strategy=0.2)), ('model', SVC(kernel='rbf',C = best_params_svm['C'],gamma=best_params_svm['gamma'],probability=True))]\n",
    "pipeline = Pipeline(steps=steps)\n",
    "# evaluate pipeline\n",
    "cv = RepeatedStratifiedKFold(n_splits=10, n_repeats=3, random_state=1)\n",
    "scores = cross_val_score(pipeline, X, y, scoring='precision', cv=cv, n_jobs=-1)\n",
    "score = np.mean(scores)\n",
    "print('F-measure: %.3f' % score)"
   ]
  },
  {
   "cell_type": "code",
   "execution_count": 75,
   "metadata": {},
   "outputs": [
    {
     "name": "stdout",
     "output_type": "stream",
     "text": [
      "F-measure: 0.629\n"
     ]
    }
   ],
   "source": [
    "steps = [('under', RandomUnderSampler(0.2)), ('model', LogisticRegression())]\n",
    "pipeline = Pipeline(steps=steps)\n",
    "# evaluate pipeline\n",
    "cv = RepeatedStratifiedKFold(n_splits=10, n_repeats=3, random_state=1)\n",
    "scores = cross_val_score(pipeline, X, y, scoring='precision', cv=cv, n_jobs=-1)\n",
    "score = np.mean(scores)\n",
    "print('F-measure: %.3f' % score)"
   ]
  },
  {
   "cell_type": "code",
   "execution_count": 190,
   "metadata": {},
   "outputs": [
    {
     "name": "stdout",
     "output_type": "stream",
     "text": [
      "Logistic Regression:\n",
      "\n",
      "F1 Score: 0.9367985167904289\n",
      "ROC-AUC: 0.9731299248952231\n",
      "\n",
      "\n",
      "Support Vector Machine:\n",
      "\n",
      "F1 Score: 0.9460087938463265\n",
      "ROC-AUC: 0.9601836074301068\n",
      "\n",
      "\n",
      "Random Forest:\n",
      "\n",
      "F1 Score: 0.9392649618245634\n",
      "ROC-AUC: 0.9657510693107806\n",
      "\n",
      "\n"
     ]
    }
   ],
   "source": [
    "models = []\n",
    "\n",
    "models.append(('Logistic Regression', LogisticRegression()))\n",
    "models.append(('Support Vector Machine', SVC(kernel='rbf',C = best_params_svm['C'],gamma=best_params_svm['gamma'],probability=True)))\n",
    "models.append(('Random Forest', RandomForestClassifier(n_estimators=best_params['n_estimators'],\n",
    "        min_samples_split=best_params['min_samples_split'],min_samples_leaf\n",
    "     =best_params['min_samples_leaf'],max_features=best_params['max_features'],max_depth = best_params['max_depth'],\n",
    "                                    criterion='gini')))\n",
    "#testing models\n",
    "\n",
    "results = []\n",
    "names = []\n",
    "\n",
    "for name, model in models:\n",
    "    rkfold = RepeatedStratifiedKFold(n_splits=10)\n",
    "    cv = RepeatedStratifiedKFold(n_splits=10, n_repeats=3, random_state=1)\n",
    "    cv_results_roc = cross_val_score(model,  X_under_train, y_under_train, cv=cv, scoring='roc_auc')\n",
    "    cv_results_f = cross_val_score(model,  X_under_train, y_under_train, cv=cv, scoring='f1_macro')\n",
    "    #results.append(cv_results_roc)\n",
    "    names.append(name)\n",
    "    msg = '%s:\\n' % (name)\n",
    "    print(msg)\n",
    "    print('F1 Score:',cv_results_f.mean())\n",
    "    print('ROC-AUC:',cv_results_roc.mean())\n",
    "    PR_auc=[]\n",
    "    '''\n",
    "    for train_index, test_index in rkfold.split(X):\n",
    "        X_train, X_test = X.iloc[train_index], X.iloc[test_index]\n",
    "        y_train, y_test = y.iloc[train_index], y.iloc[test_index]\n",
    "        if AUPRC_calculation (X_train, y_train,X_test,y_test,model) > 0.0:\n",
    "            PR_auc.append(AUPRC_calculation (X_train, y_train,X_test,y_test,model) )\n",
    "        #y_test \n",
    "        #print(train_index, test_index)\n",
    "    print('PR-AUC:',np.array(PR_auc).mean())\n",
    "    results.append(np.array(PR_auc))\n",
    "    '''\n",
    "    \n",
    "    print('\\n')"
   ]
  },
  {
   "cell_type": "code",
   "execution_count": 188,
   "metadata": {},
   "outputs": [
    {
     "data": {
      "text/plain": [
       "<generator object _RepeatedSplits.split at 0x0000024ACF3A53C0>"
      ]
     },
     "execution_count": 188,
     "metadata": {},
     "output_type": "execute_result"
    }
   ],
   "source": [
    "rkfold.split(X)"
   ]
  },
  {
   "cell_type": "code",
   "execution_count": null,
   "metadata": {},
   "outputs": [],
   "source": []
  }
 ],
 "metadata": {
  "kernelspec": {
   "display_name": "Python 3",
   "language": "python",
   "name": "python3"
  },
  "language_info": {
   "codemirror_mode": {
    "name": "ipython",
    "version": 3
   },
   "file_extension": ".py",
   "mimetype": "text/x-python",
   "name": "python",
   "nbconvert_exporter": "python",
   "pygments_lexer": "ipython3",
   "version": "3.8.3"
  }
 },
 "nbformat": 4,
 "nbformat_minor": 2
}
