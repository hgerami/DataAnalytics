{
 "cells": [
  {
   "cell_type": "markdown",
   "metadata": {},
   "source": [
    "# ISYE 6740 - Computational Data Analysis, Spring 2021\n",
    "## Homework 5 \n",
    "## Student: Homayoun Gerami"
   ]
  },
  {
   "cell_type": "code",
   "execution_count": 1,
   "metadata": {},
   "outputs": [],
   "source": [
    "import pandas as pd\n",
    "import numpy as np\n",
    "import matplotlib.pyplot as plt\n",
    "from mpl_toolkits.mplot3d import Axes3D\n",
    "from scipy.sparse import coo_matrix\n",
    "from scipy.spatial.distance import cdist\n",
    "from sklearn.utils.graph import graph_shortest_path\n",
    "from sklearn.neighbors import kneighbors_graph\n",
    "from sklearn.model_selection import train_test_split\n",
    "import networkx as nx\n",
    "from IPython.core.display import display, HTML\n",
    "import warnings\n",
    "import scipy.io\n",
    "warnings.filterwarnings('ignore')\n",
    "import seaborn as sns"
   ]
  },
  {
   "cell_type": "code",
   "execution_count": 93,
   "metadata": {},
   "outputs": [],
   "source": [
    "Marriage_data = pd.read_csv('marriage.csv', header=None)"
   ]
  },
  {
   "cell_type": "markdown",
   "metadata": {},
   "source": [
    "## 1.  Comparing classifiers.  (65 points)\n",
    "### In  lectures,  we  learn  different  classifiers.   This  question  is  compare  them  on  two  datasets.   Python  users,please  feel  free  to  useScikit-learn,  which  is  a  commonly-used  and  powerfulPythonlibrary  with  variousmachine  learning  tools.   But  you  can  also  use  other  similar  libraries  in  other  languages  of  your  choice  toperform the tasks.\n",
    "\n",
    "### 1.  Part One (Divorce classification/prediction).  (30 points)\n",
    "#### This dataset is about participants who completed the personal information form and a divorce predictors scale.  The data is a modified version of the publicly available at https://archive.ics.uci.edu/ml/datasets/Divorce+Predictors+data+set (by injecting noise so you will not get the exactly same  results  as  on  UCI  website). The dataset marriage.csv is  contained  in  the  homework  folder. There are 170 participants and 54 attributes (or predictor variables) that are all real-valued.  The last column of the CSV file is labely(1 means “divorce”, 0 means “no divorce”).  Each column is for one eature (predictor variable), and each row is a sample (participant).  A detailed explanation for eachfeature (predictor variable) can be found at the website link above.  Our goal is to build a classifier using training data, such that given a test sample, we can classify (or essentially predict) whether its label is 0 (“no divorce”) or 1 (“divorce”).\n",
    "#### We are going to compare the following classifiers (Naive Bayes, Logistic Regression, and KNN).Use the first 80% data for training and the remaining 20% for testing.  If you use scikit-learn you can use train_test_split to split the dataset. Remark: Please note that, here, for Naive Bayes, this means that we have to estimate the variance foreach individual feature from training data. When estimating the variance, if the variance is zero toclose to zero (meaning that there is very little variability in the feature), you can set the variance to be a small number, e.g., $\\epsilon=10^{-3}$ . We do not want to have include zero or nearly variance in Naive Bayes. This tip holds for both Part One and Part Two of this question.\n",
    "\n",
    "#### (a)  (15 points) Report testing accuracy for each of the three classifiers.  Comment on their performance:  which performs the best and make a guess why they perform the best in this setting.\n",
    "#### (b)  (15 points) Now perform PCA to project the data into two-dimensional space.  Build the classifiers(Naive Bayes, Logistic Regression, and KNN) using the two-dimensional PCA results.  Plot the data points and decision boundary of each classifier in the two-dimensional space.  Comment on the difference between the decision boundary for the three classifiers.  Please clearly representthe data points with different labels using different colors."
   ]
  },
  {
   "cell_type": "code",
   "execution_count": 11,
   "metadata": {},
   "outputs": [
    {
     "data": {
      "text/html": [
       "<div>\n",
       "<style scoped>\n",
       "    .dataframe tbody tr th:only-of-type {\n",
       "        vertical-align: middle;\n",
       "    }\n",
       "\n",
       "    .dataframe tbody tr th {\n",
       "        vertical-align: top;\n",
       "    }\n",
       "\n",
       "    .dataframe thead th {\n",
       "        text-align: right;\n",
       "    }\n",
       "</style>\n",
       "<table border=\"1\" class=\"dataframe\">\n",
       "  <thead>\n",
       "    <tr style=\"text-align: right;\">\n",
       "      <th></th>\n",
       "      <th>0</th>\n",
       "      <th>1</th>\n",
       "      <th>2</th>\n",
       "      <th>3</th>\n",
       "      <th>4</th>\n",
       "      <th>5</th>\n",
       "      <th>6</th>\n",
       "      <th>7</th>\n",
       "      <th>8</th>\n",
       "      <th>9</th>\n",
       "      <th>...</th>\n",
       "      <th>45</th>\n",
       "      <th>46</th>\n",
       "      <th>47</th>\n",
       "      <th>48</th>\n",
       "      <th>49</th>\n",
       "      <th>50</th>\n",
       "      <th>51</th>\n",
       "      <th>52</th>\n",
       "      <th>53</th>\n",
       "      <th>54</th>\n",
       "    </tr>\n",
       "  </thead>\n",
       "  <tbody>\n",
       "    <tr>\n",
       "      <th>0</th>\n",
       "      <td>1.560903</td>\n",
       "      <td>3.681587</td>\n",
       "      <td>3.450467</td>\n",
       "      <td>3.211998</td>\n",
       "      <td>-1.203045</td>\n",
       "      <td>0.597706</td>\n",
       "      <td>-0.970093</td>\n",
       "      <td>-0.750970</td>\n",
       "      <td>-0.511495</td>\n",
       "      <td>-0.133660</td>\n",
       "      <td>...</td>\n",
       "      <td>2.077401</td>\n",
       "      <td>1.184182</td>\n",
       "      <td>3.955069</td>\n",
       "      <td>2.608046</td>\n",
       "      <td>2.303629</td>\n",
       "      <td>1.721660</td>\n",
       "      <td>3.275018</td>\n",
       "      <td>1.761019</td>\n",
       "      <td>1.215237</td>\n",
       "      <td>1.0</td>\n",
       "    </tr>\n",
       "    <tr>\n",
       "      <th>1</th>\n",
       "      <td>4.153272</td>\n",
       "      <td>5.173858</td>\n",
       "      <td>4.100690</td>\n",
       "      <td>2.580173</td>\n",
       "      <td>3.305788</td>\n",
       "      <td>-1.505512</td>\n",
       "      <td>-0.029398</td>\n",
       "      <td>5.702657</td>\n",
       "      <td>2.230281</td>\n",
       "      <td>4.975496</td>\n",
       "      <td>...</td>\n",
       "      <td>3.467076</td>\n",
       "      <td>2.451984</td>\n",
       "      <td>3.504294</td>\n",
       "      <td>5.324240</td>\n",
       "      <td>4.480607</td>\n",
       "      <td>5.375248</td>\n",
       "      <td>2.270379</td>\n",
       "      <td>2.167944</td>\n",
       "      <td>2.191214</td>\n",
       "      <td>1.0</td>\n",
       "    </tr>\n",
       "    <tr>\n",
       "      <th>2</th>\n",
       "      <td>2.226241</td>\n",
       "      <td>1.575322</td>\n",
       "      <td>2.389117</td>\n",
       "      <td>2.725405</td>\n",
       "      <td>-0.304562</td>\n",
       "      <td>2.832803</td>\n",
       "      <td>1.787779</td>\n",
       "      <td>0.565755</td>\n",
       "      <td>1.328212</td>\n",
       "      <td>2.335353</td>\n",
       "      <td>...</td>\n",
       "      <td>1.200917</td>\n",
       "      <td>1.241794</td>\n",
       "      <td>2.207492</td>\n",
       "      <td>1.228034</td>\n",
       "      <td>0.870052</td>\n",
       "      <td>1.685040</td>\n",
       "      <td>2.341985</td>\n",
       "      <td>-0.444320</td>\n",
       "      <td>2.527452</td>\n",
       "      <td>1.0</td>\n",
       "    </tr>\n",
       "    <tr>\n",
       "      <th>3</th>\n",
       "      <td>3.553458</td>\n",
       "      <td>2.859042</td>\n",
       "      <td>2.928414</td>\n",
       "      <td>1.833241</td>\n",
       "      <td>1.271119</td>\n",
       "      <td>4.165213</td>\n",
       "      <td>2.078597</td>\n",
       "      <td>4.506175</td>\n",
       "      <td>2.521628</td>\n",
       "      <td>2.747315</td>\n",
       "      <td>...</td>\n",
       "      <td>3.196291</td>\n",
       "      <td>2.204824</td>\n",
       "      <td>3.664982</td>\n",
       "      <td>3.689508</td>\n",
       "      <td>2.577677</td>\n",
       "      <td>3.171884</td>\n",
       "      <td>2.164660</td>\n",
       "      <td>1.813024</td>\n",
       "      <td>1.376033</td>\n",
       "      <td>1.0</td>\n",
       "    </tr>\n",
       "    <tr>\n",
       "      <th>4</th>\n",
       "      <td>0.506547</td>\n",
       "      <td>1.419223</td>\n",
       "      <td>1.716153</td>\n",
       "      <td>1.319274</td>\n",
       "      <td>2.853840</td>\n",
       "      <td>0.047412</td>\n",
       "      <td>-0.016515</td>\n",
       "      <td>0.620795</td>\n",
       "      <td>1.202992</td>\n",
       "      <td>0.078347</td>\n",
       "      <td>...</td>\n",
       "      <td>1.806657</td>\n",
       "      <td>2.085539</td>\n",
       "      <td>2.012551</td>\n",
       "      <td>1.899477</td>\n",
       "      <td>1.510134</td>\n",
       "      <td>1.373350</td>\n",
       "      <td>2.551119</td>\n",
       "      <td>0.846321</td>\n",
       "      <td>-0.066858</td>\n",
       "      <td>1.0</td>\n",
       "    </tr>\n",
       "    <tr>\n",
       "      <th>...</th>\n",
       "      <td>...</td>\n",
       "      <td>...</td>\n",
       "      <td>...</td>\n",
       "      <td>...</td>\n",
       "      <td>...</td>\n",
       "      <td>...</td>\n",
       "      <td>...</td>\n",
       "      <td>...</td>\n",
       "      <td>...</td>\n",
       "      <td>...</td>\n",
       "      <td>...</td>\n",
       "      <td>...</td>\n",
       "      <td>...</td>\n",
       "      <td>...</td>\n",
       "      <td>...</td>\n",
       "      <td>...</td>\n",
       "      <td>...</td>\n",
       "      <td>...</td>\n",
       "      <td>...</td>\n",
       "      <td>...</td>\n",
       "      <td>...</td>\n",
       "    </tr>\n",
       "    <tr>\n",
       "      <th>165</th>\n",
       "      <td>-1.845462</td>\n",
       "      <td>-0.808531</td>\n",
       "      <td>0.309481</td>\n",
       "      <td>-0.979520</td>\n",
       "      <td>-0.556496</td>\n",
       "      <td>-0.395338</td>\n",
       "      <td>-0.502979</td>\n",
       "      <td>-0.798474</td>\n",
       "      <td>-1.473114</td>\n",
       "      <td>2.428689</td>\n",
       "      <td>...</td>\n",
       "      <td>1.021530</td>\n",
       "      <td>-0.108714</td>\n",
       "      <td>2.308311</td>\n",
       "      <td>-0.287032</td>\n",
       "      <td>0.046402</td>\n",
       "      <td>4.702990</td>\n",
       "      <td>4.814076</td>\n",
       "      <td>2.510736</td>\n",
       "      <td>2.225078</td>\n",
       "      <td>0.0</td>\n",
       "    </tr>\n",
       "    <tr>\n",
       "      <th>166</th>\n",
       "      <td>0.337077</td>\n",
       "      <td>-0.483750</td>\n",
       "      <td>0.823365</td>\n",
       "      <td>0.563178</td>\n",
       "      <td>-1.270118</td>\n",
       "      <td>0.978814</td>\n",
       "      <td>-1.027141</td>\n",
       "      <td>-0.581733</td>\n",
       "      <td>-1.338374</td>\n",
       "      <td>0.463138</td>\n",
       "      <td>...</td>\n",
       "      <td>3.182008</td>\n",
       "      <td>3.265522</td>\n",
       "      <td>2.005206</td>\n",
       "      <td>1.943546</td>\n",
       "      <td>4.070406</td>\n",
       "      <td>2.555771</td>\n",
       "      <td>4.383673</td>\n",
       "      <td>1.294633</td>\n",
       "      <td>2.477147</td>\n",
       "      <td>0.0</td>\n",
       "    </tr>\n",
       "    <tr>\n",
       "      <th>167</th>\n",
       "      <td>2.304462</td>\n",
       "      <td>1.844857</td>\n",
       "      <td>-0.095230</td>\n",
       "      <td>-0.405619</td>\n",
       "      <td>1.179862</td>\n",
       "      <td>1.226855</td>\n",
       "      <td>1.384235</td>\n",
       "      <td>-0.206427</td>\n",
       "      <td>1.973713</td>\n",
       "      <td>1.940605</td>\n",
       "      <td>...</td>\n",
       "      <td>1.907090</td>\n",
       "      <td>0.239489</td>\n",
       "      <td>1.249397</td>\n",
       "      <td>-0.077476</td>\n",
       "      <td>1.429052</td>\n",
       "      <td>-0.067223</td>\n",
       "      <td>5.132404</td>\n",
       "      <td>-0.871550</td>\n",
       "      <td>-0.637281</td>\n",
       "      <td>0.0</td>\n",
       "    </tr>\n",
       "    <tr>\n",
       "      <th>168</th>\n",
       "      <td>0.369439</td>\n",
       "      <td>0.063279</td>\n",
       "      <td>-0.466090</td>\n",
       "      <td>0.017346</td>\n",
       "      <td>-1.197056</td>\n",
       "      <td>0.038995</td>\n",
       "      <td>1.735441</td>\n",
       "      <td>1.037408</td>\n",
       "      <td>0.183137</td>\n",
       "      <td>0.333348</td>\n",
       "      <td>...</td>\n",
       "      <td>2.893040</td>\n",
       "      <td>4.305077</td>\n",
       "      <td>4.685423</td>\n",
       "      <td>1.695163</td>\n",
       "      <td>1.297874</td>\n",
       "      <td>2.588636</td>\n",
       "      <td>4.544230</td>\n",
       "      <td>3.209139</td>\n",
       "      <td>0.094538</td>\n",
       "      <td>0.0</td>\n",
       "    </tr>\n",
       "    <tr>\n",
       "      <th>169</th>\n",
       "      <td>-1.353336</td>\n",
       "      <td>-0.209975</td>\n",
       "      <td>1.165342</td>\n",
       "      <td>1.371027</td>\n",
       "      <td>0.269725</td>\n",
       "      <td>-0.756154</td>\n",
       "      <td>0.312946</td>\n",
       "      <td>1.649918</td>\n",
       "      <td>1.547073</td>\n",
       "      <td>-0.156679</td>\n",
       "      <td>...</td>\n",
       "      <td>4.479049</td>\n",
       "      <td>4.143191</td>\n",
       "      <td>2.865900</td>\n",
       "      <td>-0.716917</td>\n",
       "      <td>0.867769</td>\n",
       "      <td>3.794449</td>\n",
       "      <td>2.318532</td>\n",
       "      <td>1.358642</td>\n",
       "      <td>-0.406850</td>\n",
       "      <td>0.0</td>\n",
       "    </tr>\n",
       "  </tbody>\n",
       "</table>\n",
       "<p>170 rows × 55 columns</p>\n",
       "</div>"
      ],
      "text/plain": [
       "           0         1         2         3         4         5         6   \\\n",
       "0    1.560903  3.681587  3.450467  3.211998 -1.203045  0.597706 -0.970093   \n",
       "1    4.153272  5.173858  4.100690  2.580173  3.305788 -1.505512 -0.029398   \n",
       "2    2.226241  1.575322  2.389117  2.725405 -0.304562  2.832803  1.787779   \n",
       "3    3.553458  2.859042  2.928414  1.833241  1.271119  4.165213  2.078597   \n",
       "4    0.506547  1.419223  1.716153  1.319274  2.853840  0.047412 -0.016515   \n",
       "..        ...       ...       ...       ...       ...       ...       ...   \n",
       "165 -1.845462 -0.808531  0.309481 -0.979520 -0.556496 -0.395338 -0.502979   \n",
       "166  0.337077 -0.483750  0.823365  0.563178 -1.270118  0.978814 -1.027141   \n",
       "167  2.304462  1.844857 -0.095230 -0.405619  1.179862  1.226855  1.384235   \n",
       "168  0.369439  0.063279 -0.466090  0.017346 -1.197056  0.038995  1.735441   \n",
       "169 -1.353336 -0.209975  1.165342  1.371027  0.269725 -0.756154  0.312946   \n",
       "\n",
       "           7         8         9   ...        45        46        47  \\\n",
       "0   -0.750970 -0.511495 -0.133660  ...  2.077401  1.184182  3.955069   \n",
       "1    5.702657  2.230281  4.975496  ...  3.467076  2.451984  3.504294   \n",
       "2    0.565755  1.328212  2.335353  ...  1.200917  1.241794  2.207492   \n",
       "3    4.506175  2.521628  2.747315  ...  3.196291  2.204824  3.664982   \n",
       "4    0.620795  1.202992  0.078347  ...  1.806657  2.085539  2.012551   \n",
       "..        ...       ...       ...  ...       ...       ...       ...   \n",
       "165 -0.798474 -1.473114  2.428689  ...  1.021530 -0.108714  2.308311   \n",
       "166 -0.581733 -1.338374  0.463138  ...  3.182008  3.265522  2.005206   \n",
       "167 -0.206427  1.973713  1.940605  ...  1.907090  0.239489  1.249397   \n",
       "168  1.037408  0.183137  0.333348  ...  2.893040  4.305077  4.685423   \n",
       "169  1.649918  1.547073 -0.156679  ...  4.479049  4.143191  2.865900   \n",
       "\n",
       "           48        49        50        51        52        53   54  \n",
       "0    2.608046  2.303629  1.721660  3.275018  1.761019  1.215237  1.0  \n",
       "1    5.324240  4.480607  5.375248  2.270379  2.167944  2.191214  1.0  \n",
       "2    1.228034  0.870052  1.685040  2.341985 -0.444320  2.527452  1.0  \n",
       "3    3.689508  2.577677  3.171884  2.164660  1.813024  1.376033  1.0  \n",
       "4    1.899477  1.510134  1.373350  2.551119  0.846321 -0.066858  1.0  \n",
       "..        ...       ...       ...       ...       ...       ...  ...  \n",
       "165 -0.287032  0.046402  4.702990  4.814076  2.510736  2.225078  0.0  \n",
       "166  1.943546  4.070406  2.555771  4.383673  1.294633  2.477147  0.0  \n",
       "167 -0.077476  1.429052 -0.067223  5.132404 -0.871550 -0.637281  0.0  \n",
       "168  1.695163  1.297874  2.588636  4.544230  3.209139  0.094538  0.0  \n",
       "169 -0.716917  0.867769  3.794449  2.318532  1.358642 -0.406850  0.0  \n",
       "\n",
       "[170 rows x 55 columns]"
      ]
     },
     "metadata": {},
     "output_type": "display_data"
    }
   ],
   "source": [
    "display(Marriage_data)"
   ]
  },
  {
   "cell_type": "code",
   "execution_count": 12,
   "metadata": {},
   "outputs": [],
   "source": [
    "X = Marriage_data.iloc[:,:-1]\n",
    "y = Marriage_data.iloc[:,-1]"
   ]
  },
  {
   "cell_type": "code",
   "execution_count": 13,
   "metadata": {},
   "outputs": [],
   "source": [
    "from sklearn.linear_model import LogisticRegression\n",
    "from sklearn.naive_bayes import GaussianNB, MultinomialNB, BernoulliNB\n",
    "from sklearn.neighbors import KNeighborsClassifier\n",
    "from sklearn.model_selection import GridSearchCV\n",
    "from sklearn.metrics import confusion_matrix, accuracy_score, precision_score, recall_score, roc_auc_score"
   ]
  },
  {
   "cell_type": "markdown",
   "metadata": {},
   "source": [
    "### Naive Bayes Classifier"
   ]
  },
  {
   "cell_type": "code",
   "execution_count": 14,
   "metadata": {},
   "outputs": [],
   "source": [
    "X_train, X_test, y_train, y_test = train_test_split(X, y, test_size=0.2, random_state=2)"
   ]
  },
  {
   "cell_type": "code",
   "execution_count": 15,
   "metadata": {},
   "outputs": [],
   "source": [
    "nb_model = GaussianNB(var_smoothing=1e-03)"
   ]
  },
  {
   "cell_type": "code",
   "execution_count": 16,
   "metadata": {},
   "outputs": [
    {
     "data": {
      "text/plain": [
       "GaussianNB(var_smoothing=0.001)"
      ]
     },
     "execution_count": 16,
     "metadata": {},
     "output_type": "execute_result"
    }
   ],
   "source": [
    "nb_model.fit(X_train,y_train)"
   ]
  },
  {
   "cell_type": "code",
   "execution_count": 17,
   "metadata": {},
   "outputs": [],
   "source": [
    "nb_accuracy = accuracy_score(y_test, nb_model.predict(X_test))"
   ]
  },
  {
   "cell_type": "code",
   "execution_count": 18,
   "metadata": {},
   "outputs": [
    {
     "data": {
      "text/plain": [
       "array([[16,  0],\n",
       "       [ 1, 17]], dtype=int64)"
      ]
     },
     "execution_count": 18,
     "metadata": {},
     "output_type": "execute_result"
    }
   ],
   "source": [
    "confusion_matrix(y_test, nb_model.predict(X_test))"
   ]
  },
  {
   "cell_type": "markdown",
   "metadata": {},
   "source": [
    "### Logistic Regression"
   ]
  },
  {
   "cell_type": "code",
   "execution_count": 19,
   "metadata": {},
   "outputs": [],
   "source": [
    "lr_model = LogisticRegression(penalty='none')"
   ]
  },
  {
   "cell_type": "code",
   "execution_count": 20,
   "metadata": {},
   "outputs": [
    {
     "data": {
      "text/plain": [
       "LogisticRegression(penalty='none')"
      ]
     },
     "execution_count": 20,
     "metadata": {},
     "output_type": "execute_result"
    }
   ],
   "source": [
    "lr_model.fit(X_train,y_train)"
   ]
  },
  {
   "cell_type": "code",
   "execution_count": 21,
   "metadata": {},
   "outputs": [],
   "source": [
    "lr_accuracy = accuracy_score(y_test, lr_model.predict(X_test))"
   ]
  },
  {
   "cell_type": "code",
   "execution_count": 22,
   "metadata": {},
   "outputs": [
    {
     "data": {
      "text/plain": [
       "array([[15,  1],\n",
       "       [ 1, 17]], dtype=int64)"
      ]
     },
     "execution_count": 22,
     "metadata": {},
     "output_type": "execute_result"
    }
   ],
   "source": [
    "confusion_matrix(y_test, lr_model.predict(X_test))"
   ]
  },
  {
   "cell_type": "markdown",
   "metadata": {},
   "source": [
    "### K-Nearest Neighbors"
   ]
  },
  {
   "cell_type": "code",
   "execution_count": 23,
   "metadata": {},
   "outputs": [],
   "source": [
    "knn_model = KNeighborsClassifier()"
   ]
  },
  {
   "cell_type": "code",
   "execution_count": 24,
   "metadata": {},
   "outputs": [
    {
     "data": {
      "text/plain": [
       "KNeighborsClassifier()"
      ]
     },
     "execution_count": 24,
     "metadata": {},
     "output_type": "execute_result"
    }
   ],
   "source": [
    "knn_model.fit(X_train,y_train)"
   ]
  },
  {
   "cell_type": "code",
   "execution_count": 25,
   "metadata": {},
   "outputs": [],
   "source": [
    "knn_accuracy = accuracy_score(y_test, knn_model.predict(X_test))"
   ]
  },
  {
   "cell_type": "code",
   "execution_count": 26,
   "metadata": {},
   "outputs": [
    {
     "data": {
      "text/plain": [
       "array([[16,  0],\n",
       "       [ 1, 17]], dtype=int64)"
      ]
     },
     "execution_count": 26,
     "metadata": {},
     "output_type": "execute_result"
    }
   ],
   "source": [
    "confusion_matrix(y_test, knn_model.predict(X_test))"
   ]
  },
  {
   "cell_type": "code",
   "execution_count": 27,
   "metadata": {
    "scrolled": true
   },
   "outputs": [
    {
     "data": {
      "image/png": "[encoded data removed]",
      "text/plain": [
       "<Figure size 576x288 with 1 Axes>"
      ]
     },
     "metadata": {
      "needs_background": "light"
     },
     "output_type": "display_data"
    }
   ],
   "source": [
    "accuracies = {'Naive Bayes':nb_accuracy, 'Logistic Regression':lr_accuracy, 'K-Nearest Neighbors':knn_accuracy}\n",
    "plt.figure(figsize=(8,4))\n",
    "plt.bar(accuracies.keys(),accuracies.values())\n",
    "for i, v in enumerate(accuracies.values()):\n",
    "    plt.text(i-0.06, v-0.05, str(np.round(v,5)*100)+'%', color='w')\n",
    "plt.title('Classification Accuracy for different algorithms', size=10);"
   ]
  },
  {
   "cell_type": "markdown",
   "metadata": {},
   "source": [
    "#### I used random split number, using all the features for classifications. Naive Base and KNN models outperformed the Logistic Regression, maybe becasue I didn't define any penalty for the Logistic model."
   ]
  },
  {
   "cell_type": "markdown",
   "metadata": {},
   "source": [
    "### PCA applied, Naive Bayes Classifier"
   ]
  },
  {
   "cell_type": "code",
   "execution_count": 28,
   "metadata": {},
   "outputs": [],
   "source": [
    "from sklearn.decomposition import PCA"
   ]
  },
  {
   "cell_type": "code",
   "execution_count": 29,
   "metadata": {},
   "outputs": [],
   "source": [
    "pca = PCA(n_components=2)\n",
    "X_train_pca = pca.fit_transform(X_train)"
   ]
  },
  {
   "cell_type": "code",
   "execution_count": 30,
   "metadata": {},
   "outputs": [],
   "source": [
    "X_test_pca = pca.transform(X_test)"
   ]
  },
  {
   "cell_type": "code",
   "execution_count": 31,
   "metadata": {},
   "outputs": [
    {
     "data": {
      "text/plain": [
       "GaussianNB(var_smoothing=0.001)"
      ]
     },
     "execution_count": 31,
     "metadata": {},
     "output_type": "execute_result"
    }
   ],
   "source": [
    "nb_pca = GaussianNB(var_smoothing=1e-03)\n",
    "nb_pca.fit(X_train_pca, y_train)"
   ]
  },
  {
   "cell_type": "code",
   "execution_count": 32,
   "metadata": {},
   "outputs": [],
   "source": [
    "nb_pca_accuracy = accuracy_score(y_test, nb_pca.predict(X_test_pca))"
   ]
  },
  {
   "cell_type": "code",
   "execution_count": 33,
   "metadata": {
    "scrolled": true
   },
   "outputs": [
    {
     "data": {
      "text/plain": [
       "array([[16,  0],\n",
       "       [ 1, 17]], dtype=int64)"
      ]
     },
     "execution_count": 33,
     "metadata": {},
     "output_type": "execute_result"
    }
   ],
   "source": [
    "confusion_matrix(y_test, nb_pca.predict(X_test_pca))"
   ]
  },
  {
   "cell_type": "markdown",
   "metadata": {},
   "source": [
    "### PCA applied, Logistic Regression"
   ]
  },
  {
   "cell_type": "code",
   "execution_count": 34,
   "metadata": {},
   "outputs": [
    {
     "data": {
      "text/plain": [
       "LogisticRegression(penalty='none')"
      ]
     },
     "execution_count": 34,
     "metadata": {},
     "output_type": "execute_result"
    }
   ],
   "source": [
    "lr_pca = LogisticRegression(penalty='none')\n",
    "lr_pca.fit(X_train_pca, y_train)"
   ]
  },
  {
   "cell_type": "code",
   "execution_count": 35,
   "metadata": {},
   "outputs": [],
   "source": [
    "lr_pca_accuracy = accuracy_score(y_test, lr_pca.predict(X_test_pca))"
   ]
  },
  {
   "cell_type": "code",
   "execution_count": 36,
   "metadata": {},
   "outputs": [
    {
     "data": {
      "text/plain": [
       "array([[16,  0],\n",
       "       [ 0, 18]], dtype=int64)"
      ]
     },
     "execution_count": 36,
     "metadata": {},
     "output_type": "execute_result"
    }
   ],
   "source": [
    "confusion_matrix(y_test, lr_pca.predict(X_test_pca))"
   ]
  },
  {
   "cell_type": "markdown",
   "metadata": {},
   "source": [
    "### PCA applied, K-Nearest Neighbors"
   ]
  },
  {
   "cell_type": "code",
   "execution_count": 37,
   "metadata": {},
   "outputs": [],
   "source": [
    "knn_pca = KNeighborsClassifier()"
   ]
  },
  {
   "cell_type": "code",
   "execution_count": 38,
   "metadata": {},
   "outputs": [
    {
     "data": {
      "text/plain": [
       "KNeighborsClassifier()"
      ]
     },
     "execution_count": 38,
     "metadata": {},
     "output_type": "execute_result"
    }
   ],
   "source": [
    "knn_pca.fit(X_train_pca,y_train)"
   ]
  },
  {
   "cell_type": "code",
   "execution_count": 39,
   "metadata": {},
   "outputs": [],
   "source": [
    "knn_pca_accuracy = accuracy_score(y_test, knn_pca.predict(X_test_pca))"
   ]
  },
  {
   "cell_type": "code",
   "execution_count": 40,
   "metadata": {},
   "outputs": [
    {
     "data": {
      "text/plain": [
       "array([[16,  0],\n",
       "       [ 1, 17]], dtype=int64)"
      ]
     },
     "execution_count": 40,
     "metadata": {},
     "output_type": "execute_result"
    }
   ],
   "source": [
    "confusion_matrix(y_test, knn_pca.predict(X_test_pca))"
   ]
  },
  {
   "cell_type": "code",
   "execution_count": 41,
   "metadata": {
    "scrolled": true
   },
   "outputs": [
    {
     "data": {
      "image/png": "[encoded data removed]",
      "text/plain": [
       "<Figure size 576x288 with 1 Axes>"
      ]
     },
     "metadata": {
      "needs_background": "light"
     },
     "output_type": "display_data"
    }
   ],
   "source": [
    "accuracies = {'Naive Bayes':nb_pca_accuracy, 'Logistic Regression':lr_pca_accuracy, 'K-Nearest Neighbors':knn_pca_accuracy}\n",
    "plt.figure(figsize=(8,4))\n",
    "plt.bar(accuracies.keys(),accuracies.values())\n",
    "for i, v in enumerate(accuracies.values()):\n",
    "    plt.text(i-0.06, v-0.05, str(np.round(v,5)*100)+'%', color='w')\n",
    "plt.title('Classification Accuracy for different algorithms', size=10);"
   ]
  },
  {
   "cell_type": "markdown",
   "metadata": {},
   "source": [
    "#### After applying PCA, and using two attributes only, Logistic regression outperformed the other two, while the accuracy of Naive Bayes and KNN remained the same.   "
   ]
  },
  {
   "cell_type": "code",
   "execution_count": 42,
   "metadata": {},
   "outputs": [
    {
     "data": {
      "image/png": "[encoded data removed]",
      "text/plain": [
       "<Figure size 720x720 with 3 Axes>"
      ]
     },
     "metadata": {
      "needs_background": "light"
     },
     "output_type": "display_data"
    }
   ],
   "source": [
    "import matplotlib.pyplot as plt\n",
    "from matplotlib.colors import ListedColormap\n",
    "\n",
    "h = .02  # step size in the mesh\n",
    "\n",
    "# Create color maps\n",
    "cmap_light = ListedColormap(['#FFAAAA', '#AAFFAA'])\n",
    "cmap_bold = ListedColormap(['#FF0000', '#00FF00'])\n",
    "\n",
    "x_min, x_max = X_train_pca[:, 0].min() - 1, X_train_pca[:, 0].max() + 1\n",
    "y_min, y_max = X_train_pca[:, 1].min() - 1, X_train_pca[:, 1].max() + 1\n",
    "xx, yy = np.meshgrid(np.arange(x_min, x_max, h),\n",
    "                     np.arange(y_min, y_max, h))\n",
    "\n",
    "chart_names = ['Naive Bayes', 'Logistic Regression', 'K Nearest Neighbor']\n",
    "fig, axs = plt.subplots(nrows=3, ncols=1, gridspec_kw={'wspace':0.2, 'hspace':0.2},\n",
    "                        figsize=(10, 10))\n",
    "for i, clf in enumerate([nb_pca, lr_pca, knn_pca]):\n",
    "    Z = clf.predict(np.c_[xx.ravel(), yy.ravel()])\n",
    "    # Put the result into a color plot\n",
    "    Z = Z.reshape(xx.shape)\n",
    "    axs[i].pcolormesh(xx, yy, Z, cmap=cmap_light)\n",
    "\n",
    "    # Plot also the training points\n",
    "    axs[i].scatter(X_train_pca[:, 0], X_train_pca[:, 1], c=y_train, cmap=cmap_bold)\n",
    "    axs[i].axis(xmin=xx.min() ,xmax=xx.max(), ymin=yy.min(), ymax=yy.max())\n",
    "#     axs[i].xlim(xx.min(), xx.max())\n",
    "#     axs[i].ylim(yy.min(), yy.max())\n",
    "    axs[i].set_title(\"{} classification decision boundary\".format(chart_names[i]))\n",
    "\n",
    "plt.show() "
   ]
  },
  {
   "cell_type": "markdown",
   "metadata": {},
   "source": [
    "### 2.  Part Two (Handwritten digits classification).  (35 points)\n",
    "#### This  question  is  to  compare  different  classifiers  and  their  performance  for  multi-class  classificationson  the  complete  MNIST  dataset  at http://yann.lecun.com/exdb/mnist/.   You  can  find  the  data file mnist_10digits.mat in the homework folder.  The MNIST database of handwritten digits has a training set of 60,000 examples, and a test set of 10,000 examples.  We will compare KNN, logistic regression, SVM, kernel SVM, and neural networks. \n",
    "#### • We suggest you to “standardize” the features before training the classifiers, by dividing the values of the features by 255 (thus map the range of the features from [0, 255] to [0, 1]).\n",
    "#### • You may adjust the number of neighbors K used in KNN to have a reasonable result (you may use cross validation but it is not required; any reasonable tuning to get good result is acceptable).\n",
    "#### • You may use a neural networks function sklearn.neural_network with hidden_layer_sizes = (20, 10).\n",
    "#### • For kernel SVM, you may use radial basis function kernel, and a heuristic called “median trick”:choose the parameter of the kernel $K(x, x') = \\exp\\{-\\|x-x'\\|^2/(2\\sigma^2)\\}$  Choose the bandwidth as $\\sigma=\\sqrt{M/2}$ where $M =$ the median of $\\{\\|x^i-x^j\\|^2, 1\\leq i, j \\leq m', i\\neq j \\}$ for pairs of training samples.  Here you can randomly choose $m'=1000$  samples from training data to use for the “median trick”.\n",
    "#### • For KNN and SVM, you can randomly downsample the training data to size $m= 5000$, to improve computation efficiency.Train the classifiers on training dataset and evaluate on the test dataset.\n",
    "#### (a)  (25 points) Report confusion matrix, precision, recall, and F-1 score for each of the classifiers.  For precision, recall, and F-1 score of each classifier, we will need to report these for each of the digits. So  you  can  create  a  table  for  this.   For  this  question,  each  of  the  5  classifier, KNN, logistic regression, SVM, kernel SVM, and neural networks, accounts for 10 points.\n"
   ]
  },
  {
   "cell_type": "code",
   "execution_count": 43,
   "metadata": {},
   "outputs": [],
   "source": [
    "import scipy.io as sio"
   ]
  },
  {
   "cell_type": "code",
   "execution_count": 44,
   "metadata": {},
   "outputs": [
    {
     "data": {
      "text/plain": [
       "{'__header__': b'MATLAB 5.0 MAT-file Platform: posix, Created on: Tue Oct 13 20:00:03 2020',\n",
       " '__version__': '1.0',\n",
       " '__globals__': [],\n",
       " 'xtrain': array([[0, 0, 0, ..., 0, 0, 0],\n",
       "        [0, 0, 0, ..., 0, 0, 0],\n",
       "        [0, 0, 0, ..., 0, 0, 0],\n",
       "        ...,\n",
       "        [0, 0, 0, ..., 0, 0, 0],\n",
       "        [0, 0, 0, ..., 0, 0, 0],\n",
       "        [0, 0, 0, ..., 0, 0, 0]], dtype=uint8),\n",
       " 'ytrain': array([[5, 0, 4, ..., 5, 6, 8]], dtype=int64),\n",
       " 'xtest': array([[0, 0, 0, ..., 0, 0, 0],\n",
       "        [0, 0, 0, ..., 0, 0, 0],\n",
       "        [0, 0, 0, ..., 0, 0, 0],\n",
       "        ...,\n",
       "        [0, 0, 0, ..., 0, 0, 0],\n",
       "        [0, 0, 0, ..., 0, 0, 0],\n",
       "        [0, 0, 0, ..., 0, 0, 0]], dtype=uint8),\n",
       " 'ytest': array([[7, 2, 1, ..., 4, 5, 6]], dtype=int64)}"
      ]
     },
     "execution_count": 44,
     "metadata": {},
     "output_type": "execute_result"
    }
   ],
   "source": [
    "df  = sio.loadmat('mnist_10digits.mat')\n",
    "df"
   ]
  },
  {
   "cell_type": "code",
   "execution_count": 45,
   "metadata": {},
   "outputs": [
    {
     "data": {
      "text/plain": [
       "60000"
      ]
     },
     "execution_count": 45,
     "metadata": {},
     "output_type": "execute_result"
    }
   ],
   "source": [
    "x_train=df['xtrain']\n",
    "len(x_train)"
   ]
  },
  {
   "cell_type": "markdown",
   "metadata": {},
   "source": [
    "x_train[0]"
   ]
  },
  {
   "cell_type": "code",
   "execution_count": 46,
   "metadata": {},
   "outputs": [],
   "source": [
    "y_train=df['ytrain'].reshape(-1,)\n",
    "x_test=df['xtest']\n",
    "y_test=df['ytest'].reshape(-1,)"
   ]
  },
  {
   "cell_type": "code",
   "execution_count": 47,
   "metadata": {},
   "outputs": [],
   "source": [
    "x_train = x_train/255;\n",
    "x_test  = x_test/255;"
   ]
  },
  {
   "cell_type": "code",
   "execution_count": 48,
   "metadata": {},
   "outputs": [
    {
     "data": {
      "text/plain": [
       "10000"
      ]
     },
     "execution_count": 48,
     "metadata": {},
     "output_type": "execute_result"
    }
   ],
   "source": [
    "len(y_test)"
   ]
  },
  {
   "cell_type": "markdown",
   "metadata": {},
   "source": [
    "#### LogisticRegression"
   ]
  },
  {
   "cell_type": "code",
   "execution_count": 50,
   "metadata": {},
   "outputs": [],
   "source": [
    "LR = LogisticRegression(random_state=0).fit(x_train, y_train)\n",
    "y_pred_LR = LR.predict(x_test)\n",
    "acc_LR = sum(y_pred_LR==y_test)/len(y_test)"
   ]
  },
  {
   "cell_type": "code",
   "execution_count": 51,
   "metadata": {},
   "outputs": [
    {
     "data": {
      "text/plain": [
       "0.9258"
      ]
     },
     "execution_count": 51,
     "metadata": {},
     "output_type": "execute_result"
    }
   ],
   "source": [
    "acc_LR"
   ]
  },
  {
   "cell_type": "markdown",
   "metadata": {},
   "source": [
    "#### kernel svm"
   ]
  },
  {
   "cell_type": "code",
   "execution_count": 52,
   "metadata": {},
   "outputs": [],
   "source": [
    "import sklearn.metrics\n",
    "import sklearn.svm\n",
    "import sklearn.neural_network"
   ]
  },
  {
   "cell_type": "code",
   "execution_count": 53,
   "metadata": {},
   "outputs": [],
   "source": [
    "Pair_Dist = sklearn.metrics.pairwise_distances(x_train[0:5000], x_train[0:5000])\n"
   ]
  },
  {
   "cell_type": "code",
   "execution_count": 54,
   "metadata": {},
   "outputs": [
    {
     "data": {
      "text/plain": [
       "(24995000,)"
      ]
     },
     "execution_count": 54,
     "metadata": {},
     "output_type": "execute_result"
    }
   ],
   "source": [
    "### removing the zero diagonal distances from the A: \n",
    "Pair_Dist_Updated = Pair_Dist[~np.eye(Pair_Dist.shape[0],dtype=bool)]\n",
    "Pair_Dist_Updated.shape"
   ]
  },
  {
   "cell_type": "code",
   "execution_count": 55,
   "metadata": {},
   "outputs": [
    {
     "data": {
      "text/plain": [
       "0.00956638915923993"
      ]
     },
     "execution_count": 55,
     "metadata": {},
     "output_type": "execute_result"
    }
   ],
   "source": [
    "M = 1/(np.median(Pair_Dist_Updated.ravel()) **2)\n",
    "M"
   ]
  },
  {
   "cell_type": "code",
   "execution_count": 56,
   "metadata": {},
   "outputs": [],
   "source": [
    "svm_ker=sklearn.svm.SVC(kernel='rbf', random_state=0, gamma=M).fit(x_train[0:5000],y_train[0:5000])"
   ]
  },
  {
   "cell_type": "code",
   "execution_count": 57,
   "metadata": {},
   "outputs": [],
   "source": [
    "y_pred_svm_ker = svm_ker.predict(x_test)"
   ]
  },
  {
   "cell_type": "code",
   "execution_count": 58,
   "metadata": {},
   "outputs": [
    {
     "data": {
      "text/plain": [
       "array([[ 966,    0,    1,    0,    2,    4,    5,    1,    1,    0],\n",
       "       [   0, 1119,    3,    2,    0,    1,    4,    1,    5,    0],\n",
       "       [   8,    2,  964,    8,   12,    0,    9,   11,   18,    0],\n",
       "       [   1,    1,   13,  946,    0,   24,    1,   12,    9,    3],\n",
       "       [   1,    1,    4,    0,  939,    0,    8,    3,    1,   25],\n",
       "       [   6,    3,    3,   20,    8,  829,   12,    1,    6,    4],\n",
       "       [   9,    3,    3,    0,    8,    5,  928,    0,    2,    0],\n",
       "       [   0,   16,   19,    3,    8,    0,    0,  948,    2,   32],\n",
       "       [   6,    1,    7,   16,    9,   15,    6,    5,  902,    7],\n",
       "       [   6,    7,    2,   12,   35,    4,    0,   11,    7,  925]],\n",
       "      dtype=int64)"
      ]
     },
     "execution_count": 58,
     "metadata": {},
     "output_type": "execute_result"
    }
   ],
   "source": [
    "conf_svm_ker = confusion_matrix(y_test, y_pred_svm_ker)\n",
    "conf_svm_ker"
   ]
  },
  {
   "cell_type": "code",
   "execution_count": 59,
   "metadata": {},
   "outputs": [
    {
     "data": {
      "text/plain": [
       "Text(0.5, 1.0, 'Kernel SVM')"
      ]
     },
     "execution_count": 59,
     "metadata": {},
     "output_type": "execute_result"
    },
    {
     "data": {
      "image/png": "[encoded data removed]",
      "text/plain": [
       "<Figure size 432x288 with 2 Axes>"
      ]
     },
     "metadata": {
      "needs_background": "light"
     },
     "output_type": "display_data"
    }
   ],
   "source": [
    "plt.imshow(conf_svm_ker, cmap=\"hot\")\n",
    "plt.colorbar()\n",
    "plt.title('Kernel SVM') "
   ]
  },
  {
   "cell_type": "code",
   "execution_count": 60,
   "metadata": {
    "scrolled": true
   },
   "outputs": [
    {
     "name": "stdout",
     "output_type": "stream",
     "text": [
      "report the test score for Kernel SVM\n",
      "              precision    recall  f1-score   support\n",
      "\n",
      "           0       0.96      0.99      0.97       980\n",
      "           1       0.97      0.99      0.98      1135\n",
      "           2       0.95      0.93      0.94      1032\n",
      "           3       0.94      0.94      0.94      1010\n",
      "           4       0.92      0.96      0.94       982\n",
      "           5       0.94      0.93      0.93       892\n",
      "           6       0.95      0.97      0.96       958\n",
      "           7       0.95      0.92      0.94      1028\n",
      "           8       0.95      0.93      0.94       974\n",
      "           9       0.93      0.92      0.92      1009\n",
      "\n",
      "    accuracy                           0.95     10000\n",
      "   macro avg       0.95      0.95      0.95     10000\n",
      "weighted avg       0.95      0.95      0.95     10000\n",
      "\n"
     ]
    }
   ],
   "source": [
    "print('report the test score for Kernel SVM')\n",
    "print(sklearn.metrics.classification_report(y_test, y_pred_svm_ker))"
   ]
  },
  {
   "cell_type": "markdown",
   "metadata": {},
   "source": [
    "### linear SVM"
   ]
  },
  {
   "cell_type": "code",
   "execution_count": 61,
   "metadata": {},
   "outputs": [],
   "source": [
    "svm_ker_lin=sklearn.svm.SVC(kernel='linear', random_state=0, gamma=M).fit(x_train[0:5000],y_train[0:5000])"
   ]
  },
  {
   "cell_type": "code",
   "execution_count": 62,
   "metadata": {},
   "outputs": [],
   "source": [
    "y_pred_svm_ker_lin = svm_ker_lin.predict(x_test)"
   ]
  },
  {
   "cell_type": "code",
   "execution_count": 63,
   "metadata": {},
   "outputs": [
    {
     "data": {
      "text/plain": [
       "array([[ 955,    0,    3,    1,    1,    6,    6,    2,    3,    3],\n",
       "       [   0, 1118,    1,    3,    1,    3,    3,    0,    6,    0],\n",
       "       [  11,   10,  927,   20,   15,    3,    9,   11,   24,    2],\n",
       "       [   3,    3,   20,  910,    3,   32,    2,   12,   15,   10],\n",
       "       [   1,    1,    9,    0,  933,    0,    5,    4,    1,   28],\n",
       "       [  12,    3,    5,   42,   15,  772,   11,    2,   22,    8],\n",
       "       [  13,    2,   18,    2,   17,   16,  886,    1,    3,    0],\n",
       "       [   1,   15,   32,    5,   11,    3,    0,  922,    4,   35],\n",
       "       [  12,    7,   21,   46,   14,   37,    8,   15,  804,   10],\n",
       "       [   4,    9,    4,    8,   57,   10,    0,   36,    7,  874]],\n",
       "      dtype=int64)"
      ]
     },
     "execution_count": 63,
     "metadata": {},
     "output_type": "execute_result"
    }
   ],
   "source": [
    "conf_svm_ker_lin = confusion_matrix(y_test, y_pred_svm_ker_lin)\n",
    "conf_svm_ker_lin"
   ]
  },
  {
   "cell_type": "code",
   "execution_count": 64,
   "metadata": {
    "scrolled": true
   },
   "outputs": [
    {
     "data": {
      "text/plain": [
       "<matplotlib.image.AxesImage at 0x218c8bf8a30>"
      ]
     },
     "execution_count": 64,
     "metadata": {},
     "output_type": "execute_result"
    },
    {
     "data": {
      "image/png": "[encoded data removed]",
      "text/plain": [
       "<Figure size 432x288 with 1 Axes>"
      ]
     },
     "metadata": {
      "needs_background": "light"
     },
     "output_type": "display_data"
    }
   ],
   "source": [
    "plt.imshow(conf_svm_ker_lin, cmap=\"hot\")"
   ]
  },
  {
   "cell_type": "code",
   "execution_count": 65,
   "metadata": {},
   "outputs": [
    {
     "name": "stdout",
     "output_type": "stream",
     "text": [
      "report the test score for Linear SVM\n",
      "              precision    recall  f1-score   support\n",
      "\n",
      "           0       0.94      0.97      0.96       980\n",
      "           1       0.96      0.99      0.97      1135\n",
      "           2       0.89      0.90      0.89      1032\n",
      "           3       0.88      0.90      0.89      1010\n",
      "           4       0.87      0.95      0.91       982\n",
      "           5       0.88      0.87      0.87       892\n",
      "           6       0.95      0.92      0.94       958\n",
      "           7       0.92      0.90      0.91      1028\n",
      "           8       0.90      0.83      0.86       974\n",
      "           9       0.90      0.87      0.88      1009\n",
      "\n",
      "    accuracy                           0.91     10000\n",
      "   macro avg       0.91      0.91      0.91     10000\n",
      "weighted avg       0.91      0.91      0.91     10000\n",
      "\n"
     ]
    }
   ],
   "source": [
    "print('report the test score for Linear SVM')\n",
    "print(sklearn.metrics.classification_report(y_test, y_pred_svm_ker_lin))"
   ]
  },
  {
   "cell_type": "markdown",
   "metadata": {},
   "source": [
    "### Neural network"
   ]
  },
  {
   "cell_type": "code",
   "execution_count": 66,
   "metadata": {},
   "outputs": [],
   "source": [
    "NN = sklearn.neural_network.MLPClassifier(hidden_layer_sizes=(20, 10), max_iter=500, random_state=0).fit(x_train,y_train)\n",
    "y_pred_NN = NN.predict(x_test)"
   ]
  },
  {
   "cell_type": "code",
   "execution_count": 233,
   "metadata": {},
   "outputs": [
    {
     "data": {
      "text/plain": [
       "array([[ 945,    0,    8,    3,    2,    4,    9,    2,    3,    4],\n",
       "       [   0, 1117,    5,    2,    1,    0,    1,    3,    4,    2],\n",
       "       [   3,   11,  970,    9,    8,    1,    3,   10,   14,    3],\n",
       "       [   1,    3,   20,  940,    2,   21,    1,   14,    6,    2],\n",
       "       [   1,    0,    4,    0,  946,    2,    8,    6,    4,   11],\n",
       "       [   5,    3,    1,   16,    5,  834,    9,    9,    6,    4],\n",
       "       [   8,    3,    5,    1,   10,   13,  914,    0,    3,    1],\n",
       "       [   0,   11,   17,    8,    2,    3,    0,  974,    3,   10],\n",
       "       [   6,    8,   12,   18,    5,   21,    2,    7,  888,    7],\n",
       "       [   4,    8,    3,    4,   26,    2,    1,   14,   10,  937]],\n",
       "      dtype=int64)"
      ]
     },
     "execution_count": 233,
     "metadata": {},
     "output_type": "execute_result"
    }
   ],
   "source": [
    "conf_NN = confusion_matrix(y_test, y_pred_NN)\n",
    "conf_NN"
   ]
  },
  {
   "cell_type": "code",
   "execution_count": 234,
   "metadata": {},
   "outputs": [
    {
     "data": {
      "text/plain": [
       "<matplotlib.image.AxesImage at 0x1e44198dcd0>"
      ]
     },
     "execution_count": 234,
     "metadata": {},
     "output_type": "execute_result"
    },
    {
     "data": {
      "image/png": "[encoded data removed]",
      "text/plain": [
       "<Figure size 432x288 with 1 Axes>"
      ]
     },
     "metadata": {
      "needs_background": "light"
     },
     "output_type": "display_data"
    }
   ],
   "source": [
    "plt.imshow(conf_NN, cmap=\"hot\")"
   ]
  },
  {
   "cell_type": "code",
   "execution_count": 236,
   "metadata": {
    "scrolled": true
   },
   "outputs": [
    {
     "name": "stdout",
     "output_type": "stream",
     "text": [
      "report the test score for Neural Network\n",
      "              precision    recall  f1-score   support\n",
      "\n",
      "           0       0.97      0.96      0.97       980\n",
      "           1       0.96      0.98      0.97      1135\n",
      "           2       0.93      0.94      0.93      1032\n",
      "           3       0.94      0.93      0.93      1010\n",
      "           4       0.94      0.96      0.95       982\n",
      "           5       0.93      0.93      0.93       892\n",
      "           6       0.96      0.95      0.96       958\n",
      "           7       0.94      0.95      0.94      1028\n",
      "           8       0.94      0.91      0.93       974\n",
      "           9       0.96      0.93      0.94      1009\n",
      "\n",
      "    accuracy                           0.95     10000\n",
      "   macro avg       0.95      0.95      0.95     10000\n",
      "weighted avg       0.95      0.95      0.95     10000\n",
      "\n"
     ]
    }
   ],
   "source": [
    "print('report the test score for Neural Network')\n",
    "print(sklearn.metrics.classification_report(y_test, y_pred_NN)) "
   ]
  },
  {
   "cell_type": "markdown",
   "metadata": {},
   "source": [
    "### KNN"
   ]
  },
  {
   "cell_type": "code",
   "execution_count": 69,
   "metadata": {},
   "outputs": [],
   "source": [
    "KNN = KNeighborsClassifier(n_neighbors=4).fit(x_train[0:5000], y_train[0:5000])\n",
    "y_pred_KNN = KNN.predict(x_test)"
   ]
  },
  {
   "cell_type": "code",
   "execution_count": 71,
   "metadata": {},
   "outputs": [
    {
     "data": {
      "text/plain": [
       "array([[ 969,    1,    1,    0,    0,    2,    5,    1,    1,    0],\n",
       "       [   0, 1130,    1,    2,    1,    0,    1,    0,    0,    0],\n",
       "       [  23,   41,  931,    7,    2,    0,    7,   17,    4,    0],\n",
       "       [   4,   10,    6,  943,    1,   18,    1,   10,   11,    6],\n",
       "       [   1,   24,    2,    0,  915,    0,    6,    3,    0,   31],\n",
       "       [   9,    8,    0,   33,    6,  812,    9,    1,    6,    8],\n",
       "       [  18,    8,    0,    0,    5,    7,  920,    0,    0,    0],\n",
       "       [   1,   44,    6,    1,    7,    1,    0,  952,    0,   16],\n",
       "       [  20,   10,   12,   23,   11,   27,    9,    9,  830,   23],\n",
       "       [   5,    8,    2,    9,   30,    5,    2,   33,    5,  910]],\n",
       "      dtype=int64)"
      ]
     },
     "execution_count": 71,
     "metadata": {},
     "output_type": "execute_result"
    }
   ],
   "source": [
    "conf_KNN = confusion_matrix(y_test, y_pred_KNN)\n",
    "conf_KNN"
   ]
  },
  {
   "cell_type": "code",
   "execution_count": 72,
   "metadata": {
    "scrolled": true
   },
   "outputs": [
    {
     "data": {
      "text/plain": [
       "<matplotlib.image.AxesImage at 0x218c8c37bb0>"
      ]
     },
     "execution_count": 72,
     "metadata": {},
     "output_type": "execute_result"
    },
    {
     "data": {
      "image/png": "[encoded data removed]",
      "text/plain": [
       "<Figure size 432x288 with 1 Axes>"
      ]
     },
     "metadata": {
      "needs_background": "light"
     },
     "output_type": "display_data"
    }
   ],
   "source": [
    "plt.imshow(conf_KNN, cmap=\"hot\")"
   ]
  },
  {
   "cell_type": "code",
   "execution_count": 73,
   "metadata": {},
   "outputs": [
    {
     "name": "stdout",
     "output_type": "stream",
     "text": [
      "report the test score for KNN\n",
      "              precision    recall  f1-score   support\n",
      "\n",
      "           0       0.92      0.99      0.95       980\n",
      "           1       0.88      1.00      0.93      1135\n",
      "           2       0.97      0.90      0.93      1032\n",
      "           3       0.93      0.93      0.93      1010\n",
      "           4       0.94      0.93      0.93       982\n",
      "           5       0.93      0.91      0.92       892\n",
      "           6       0.96      0.96      0.96       958\n",
      "           7       0.93      0.93      0.93      1028\n",
      "           8       0.97      0.85      0.91       974\n",
      "           9       0.92      0.90      0.91      1009\n",
      "\n",
      "    accuracy                           0.93     10000\n",
      "   macro avg       0.93      0.93      0.93     10000\n",
      "weighted avg       0.93      0.93      0.93     10000\n",
      "\n"
     ]
    }
   ],
   "source": [
    "print('report the test score for KNN')\n",
    "print(sklearn.metrics.classification_report(y_test, y_pred_KNN))"
   ]
  },
  {
   "cell_type": "markdown",
   "metadata": {},
   "source": [
    "### (b)  (10 points) Comment on the performance of the classifier and give your explanation why some of them perform better than the others."
   ]
  },
  {
   "cell_type": "markdown",
   "metadata": {},
   "source": [
    "####  Overall all the models performed well, above 90% accuracy, Neural Network and kernel SVM outperformed the rest.  "
   ]
  },
  {
   "cell_type": "markdown",
   "metadata": {},
   "source": [
    "## 2. Naive Bayes for spam filtering. (35 points) \n",
    "\n",
    "In this problem, we will use the Naive Bayes algorithm to fit a spam filter by hand. This will enhance your understanding to Bayes classifier and build intuition. This question does not involve any programming but only derivation and hand calculation. \n",
    "\n",
    "Spam filters are used in all email services to classify received emails as 'Spam' or 'Not Spam'. A simple approach involves maintaining a vocabulary of words that commonly occur in 'Spam' emails and classifying an email as Spam if the number of words from the dictionary that are present in the email is over a certain threshold.\n",
    "We are given the vocabulary consists of 15 words \\[V=\\{\\textsf{secret, offer, low, price, valued, customer, today, dollar, million, sports, is, for, play, healthy, pizza}\\}.\\] We will use $V_i$ to represent the $i$th word in $V$. As our training dataset, we are also given 3 example spam messages,\n",
    "\n",
    "{million dollar offer}\n",
    "{secret offer today}\n",
    "{secret is secret}\n",
    "\n",
    "and 4 example non-spam messages\n",
    "\n",
    "{low price for valued customer}\n",
    "{play secret sports today}\n",
    "{sports is healthy}\n",
    "{low price pizza}\n",
    "\n",
    "\n",
    "Recall that the Naive Bayes classifier assumes the probability of an input depends on its input feature. The feature for each sample is defined as\n",
    "$x^{(i)} = [x_1^{(i)}, x_2^{(i)}, \\ldots, x_d^{(i)}]^T$, $i = 1, \\ldots, m$ and the class of the $i$th sample is $y^{(i)}$. In our case the length of the input vector is $d = 15$, which is equal to the number of words in the vocabulary $V$. Each entry $x_j^{(i)}$ is equal to the number of times word $V_j$ occurs in the $i$-th message. \n",
    "\n",
    "\n",
    "(5 points) Calculate class prior $\\mathbb P(y = 0)$ and $\\mathbb P(y = 1)$ from the training data, where $y = 0$ corresponds to spam messages, and $y = 1$ corresponds to non-spam messages. Note that these class prior essentially corresponds to the frequency of each class in the training sample. Write down the feature vectors for each spam and non-spam messages.\n",
    "\n",
    "(15 points) In the Naive Bayes model, assuming the keywords are independent of each other (this is a simplification), the likelihood of a sentence with its feature vector $x$ given a class $c$ is given by \n",
    "$\n",
    "\\mathbb P (x|y = c) = \\prod_{k=1}^d \\theta_{c, k}^{x_k}, \\quad c = \\{0, 1\\}$\n",
    "\n",
    "where $0 \\leq \\theta_{c,k} \\leq 1$ is the probability of word $k$ appearing in class $c$, which satisfies \n",
    "$\\sum_{k=1}^d \\theta_{c,k} = 1, \\quad c = \\{0, 1\\}.$ Given this, the complete log-likelihood function for our training data is given by\n",
    "$\n",
    "\\ell(\\theta_{0,1}, \\ldots, \\theta_{0, d}, \\theta_{1,1}, \\ldots, \\theta_{1, d}) = \n",
    "\\sum_{i=1}^m \\sum_{k=1}^d x_k^{(i)} \\log \\theta_{y^{(i)}, k}\n",
    "$\n",
    "(In this example, $m = 7$.)\n",
    " Calculate the maximum likelihood estimates of $\\theta_{0,1}$, $\\theta_{0,7}$, $\\theta_{1,1}$, $\\theta_{1,15}$ by maximizing the log-likelihood function above.\\\\\n",
    " (Hint: We are solving a constrained maximization problem and you will need to introduce Lagrangian multipliers and consider the Lagrangian function.)\n",
    "(15 points) Given a test message '{today is secret}', using the Naive Bayes classier that you have trained in Part (a)-(b), to calculate the posterior and decide whether it is spam or not spam.\n",
    "\n"
   ]
  },
  {
   "cell_type": "markdown",
   "metadata": {},
   "source": [
    "**1) (10 points) Calculate P(y = 0) and P(y = 1) from the training data, where y = 0 corresponds to spam messages, and y = 1 corresponds to non-spam messages.**"
   ]
  },
  {
   "cell_type": "markdown",
   "metadata": {},
   "source": [
    "Using the y vector, we derive the above probabilities:"
   ]
  },
  {
   "cell_type": "code",
   "execution_count": 2,
   "metadata": {},
   "outputs": [],
   "source": [
    "V = ['secret', 'offer', 'low', 'price', 'valued', 'customer', 'today', 'dollar', 'million', 'sports', 'is', 'for', 'play', 'healthy', 'pizza']"
   ]
  },
  {
   "cell_type": "code",
   "execution_count": 3,
   "metadata": {},
   "outputs": [],
   "source": [
    "spam = ['million dollar offer','secret offer today','secret is secret']\n",
    "no_spam = ['low price for valued customer','play secret sports today','sports is healthy','low price pizza']"
   ]
  },
  {
   "cell_type": "code",
   "execution_count": 4,
   "metadata": {},
   "outputs": [],
   "source": [
    "spam_vecs = pd.DataFrame(np.zeros((len(V),len(spam))), index=V)\n",
    "no_spam_vecs = pd.DataFrame(np.zeros((len(V),len(no_spam))), index=V)"
   ]
  },
  {
   "cell_type": "code",
   "execution_count": 5,
   "metadata": {},
   "outputs": [
    {
     "data": {
      "text/html": [
       "<div>\n",
       "<style scoped>\n",
       "    .dataframe tbody tr th:only-of-type {\n",
       "        vertical-align: middle;\n",
       "    }\n",
       "\n",
       "    .dataframe tbody tr th {\n",
       "        vertical-align: top;\n",
       "    }\n",
       "\n",
       "    .dataframe thead th {\n",
       "        text-align: right;\n",
       "    }\n",
       "</style>\n",
       "<table border=\"1\" class=\"dataframe\">\n",
       "  <thead>\n",
       "    <tr style=\"text-align: right;\">\n",
       "      <th></th>\n",
       "      <th>0</th>\n",
       "      <th>1</th>\n",
       "      <th>2</th>\n",
       "    </tr>\n",
       "  </thead>\n",
       "  <tbody>\n",
       "    <tr>\n",
       "      <th>secret</th>\n",
       "      <td>0.0</td>\n",
       "      <td>0.0</td>\n",
       "      <td>0.0</td>\n",
       "    </tr>\n",
       "    <tr>\n",
       "      <th>offer</th>\n",
       "      <td>0.0</td>\n",
       "      <td>0.0</td>\n",
       "      <td>0.0</td>\n",
       "    </tr>\n",
       "    <tr>\n",
       "      <th>low</th>\n",
       "      <td>0.0</td>\n",
       "      <td>0.0</td>\n",
       "      <td>0.0</td>\n",
       "    </tr>\n",
       "    <tr>\n",
       "      <th>price</th>\n",
       "      <td>0.0</td>\n",
       "      <td>0.0</td>\n",
       "      <td>0.0</td>\n",
       "    </tr>\n",
       "    <tr>\n",
       "      <th>valued</th>\n",
       "      <td>0.0</td>\n",
       "      <td>0.0</td>\n",
       "      <td>0.0</td>\n",
       "    </tr>\n",
       "    <tr>\n",
       "      <th>customer</th>\n",
       "      <td>0.0</td>\n",
       "      <td>0.0</td>\n",
       "      <td>0.0</td>\n",
       "    </tr>\n",
       "    <tr>\n",
       "      <th>today</th>\n",
       "      <td>0.0</td>\n",
       "      <td>0.0</td>\n",
       "      <td>0.0</td>\n",
       "    </tr>\n",
       "    <tr>\n",
       "      <th>dollar</th>\n",
       "      <td>0.0</td>\n",
       "      <td>0.0</td>\n",
       "      <td>0.0</td>\n",
       "    </tr>\n",
       "    <tr>\n",
       "      <th>million</th>\n",
       "      <td>0.0</td>\n",
       "      <td>0.0</td>\n",
       "      <td>0.0</td>\n",
       "    </tr>\n",
       "    <tr>\n",
       "      <th>sports</th>\n",
       "      <td>0.0</td>\n",
       "      <td>0.0</td>\n",
       "      <td>0.0</td>\n",
       "    </tr>\n",
       "    <tr>\n",
       "      <th>is</th>\n",
       "      <td>0.0</td>\n",
       "      <td>0.0</td>\n",
       "      <td>0.0</td>\n",
       "    </tr>\n",
       "    <tr>\n",
       "      <th>for</th>\n",
       "      <td>0.0</td>\n",
       "      <td>0.0</td>\n",
       "      <td>0.0</td>\n",
       "    </tr>\n",
       "    <tr>\n",
       "      <th>play</th>\n",
       "      <td>0.0</td>\n",
       "      <td>0.0</td>\n",
       "      <td>0.0</td>\n",
       "    </tr>\n",
       "    <tr>\n",
       "      <th>healthy</th>\n",
       "      <td>0.0</td>\n",
       "      <td>0.0</td>\n",
       "      <td>0.0</td>\n",
       "    </tr>\n",
       "    <tr>\n",
       "      <th>pizza</th>\n",
       "      <td>0.0</td>\n",
       "      <td>0.0</td>\n",
       "      <td>0.0</td>\n",
       "    </tr>\n",
       "  </tbody>\n",
       "</table>\n",
       "</div>"
      ],
      "text/plain": [
       "            0    1    2\n",
       "secret    0.0  0.0  0.0\n",
       "offer     0.0  0.0  0.0\n",
       "low       0.0  0.0  0.0\n",
       "price     0.0  0.0  0.0\n",
       "valued    0.0  0.0  0.0\n",
       "customer  0.0  0.0  0.0\n",
       "today     0.0  0.0  0.0\n",
       "dollar    0.0  0.0  0.0\n",
       "million   0.0  0.0  0.0\n",
       "sports    0.0  0.0  0.0\n",
       "is        0.0  0.0  0.0\n",
       "for       0.0  0.0  0.0\n",
       "play      0.0  0.0  0.0\n",
       "healthy   0.0  0.0  0.0\n",
       "pizza     0.0  0.0  0.0"
      ]
     },
     "execution_count": 5,
     "metadata": {},
     "output_type": "execute_result"
    }
   ],
   "source": [
    "spam_vecs"
   ]
  },
  {
   "cell_type": "code",
   "execution_count": 6,
   "metadata": {},
   "outputs": [],
   "source": [
    "for i,s in enumerate(spam):\n",
    "    for word in s.split():\n",
    "        #print(spam_vecs.loc[word,i])\n",
    "        spam_vecs.loc[word,i]+=1\n",
    "for i,s in enumerate(no_spam):\n",
    "    for word in s.split():\n",
    "        no_spam_vecs.loc[word,i]+=1"
   ]
  },
  {
   "cell_type": "code",
   "execution_count": 7,
   "metadata": {
    "scrolled": true
   },
   "outputs": [
    {
     "name": "stdout",
     "output_type": "stream",
     "text": [
      "Spam Vectors\n"
     ]
    },
    {
     "data": {
      "text/html": [
       "<div>\n",
       "<style scoped>\n",
       "    .dataframe tbody tr th:only-of-type {\n",
       "        vertical-align: middle;\n",
       "    }\n",
       "\n",
       "    .dataframe tbody tr th {\n",
       "        vertical-align: top;\n",
       "    }\n",
       "\n",
       "    .dataframe thead th {\n",
       "        text-align: right;\n",
       "    }\n",
       "</style>\n",
       "<table border=\"1\" class=\"dataframe\">\n",
       "  <thead>\n",
       "    <tr style=\"text-align: right;\">\n",
       "      <th></th>\n",
       "      <th>secret</th>\n",
       "      <th>offer</th>\n",
       "      <th>low</th>\n",
       "      <th>price</th>\n",
       "      <th>valued</th>\n",
       "      <th>customer</th>\n",
       "      <th>today</th>\n",
       "      <th>dollar</th>\n",
       "      <th>million</th>\n",
       "      <th>sports</th>\n",
       "      <th>is</th>\n",
       "      <th>for</th>\n",
       "      <th>play</th>\n",
       "      <th>healthy</th>\n",
       "      <th>pizza</th>\n",
       "    </tr>\n",
       "  </thead>\n",
       "  <tbody>\n",
       "    <tr>\n",
       "      <th>0</th>\n",
       "      <td>0.0</td>\n",
       "      <td>1.0</td>\n",
       "      <td>0.0</td>\n",
       "      <td>0.0</td>\n",
       "      <td>0.0</td>\n",
       "      <td>0.0</td>\n",
       "      <td>0.0</td>\n",
       "      <td>1.0</td>\n",
       "      <td>1.0</td>\n",
       "      <td>0.0</td>\n",
       "      <td>0.0</td>\n",
       "      <td>0.0</td>\n",
       "      <td>0.0</td>\n",
       "      <td>0.0</td>\n",
       "      <td>0.0</td>\n",
       "    </tr>\n",
       "    <tr>\n",
       "      <th>1</th>\n",
       "      <td>1.0</td>\n",
       "      <td>1.0</td>\n",
       "      <td>0.0</td>\n",
       "      <td>0.0</td>\n",
       "      <td>0.0</td>\n",
       "      <td>0.0</td>\n",
       "      <td>1.0</td>\n",
       "      <td>0.0</td>\n",
       "      <td>0.0</td>\n",
       "      <td>0.0</td>\n",
       "      <td>0.0</td>\n",
       "      <td>0.0</td>\n",
       "      <td>0.0</td>\n",
       "      <td>0.0</td>\n",
       "      <td>0.0</td>\n",
       "    </tr>\n",
       "    <tr>\n",
       "      <th>2</th>\n",
       "      <td>2.0</td>\n",
       "      <td>0.0</td>\n",
       "      <td>0.0</td>\n",
       "      <td>0.0</td>\n",
       "      <td>0.0</td>\n",
       "      <td>0.0</td>\n",
       "      <td>0.0</td>\n",
       "      <td>0.0</td>\n",
       "      <td>0.0</td>\n",
       "      <td>0.0</td>\n",
       "      <td>1.0</td>\n",
       "      <td>0.0</td>\n",
       "      <td>0.0</td>\n",
       "      <td>0.0</td>\n",
       "      <td>0.0</td>\n",
       "    </tr>\n",
       "  </tbody>\n",
       "</table>\n",
       "</div>"
      ],
      "text/plain": [
       "   secret  offer  low  price  valued  customer  today  dollar  million  \\\n",
       "0     0.0    1.0  0.0    0.0     0.0       0.0    0.0     1.0      1.0   \n",
       "1     1.0    1.0  0.0    0.0     0.0       0.0    1.0     0.0      0.0   \n",
       "2     2.0    0.0  0.0    0.0     0.0       0.0    0.0     0.0      0.0   \n",
       "\n",
       "   sports   is  for  play  healthy  pizza  \n",
       "0     0.0  0.0  0.0   0.0      0.0    0.0  \n",
       "1     0.0  0.0  0.0   0.0      0.0    0.0  \n",
       "2     0.0  1.0  0.0   0.0      0.0    0.0  "
      ]
     },
     "metadata": {},
     "output_type": "display_data"
    },
    {
     "name": "stdout",
     "output_type": "stream",
     "text": [
      "\n",
      " Non-Spam Vectors\n"
     ]
    },
    {
     "data": {
      "text/html": [
       "<div>\n",
       "<style scoped>\n",
       "    .dataframe tbody tr th:only-of-type {\n",
       "        vertical-align: middle;\n",
       "    }\n",
       "\n",
       "    .dataframe tbody tr th {\n",
       "        vertical-align: top;\n",
       "    }\n",
       "\n",
       "    .dataframe thead th {\n",
       "        text-align: right;\n",
       "    }\n",
       "</style>\n",
       "<table border=\"1\" class=\"dataframe\">\n",
       "  <thead>\n",
       "    <tr style=\"text-align: right;\">\n",
       "      <th></th>\n",
       "      <th>secret</th>\n",
       "      <th>offer</th>\n",
       "      <th>low</th>\n",
       "      <th>price</th>\n",
       "      <th>valued</th>\n",
       "      <th>customer</th>\n",
       "      <th>today</th>\n",
       "      <th>dollar</th>\n",
       "      <th>million</th>\n",
       "      <th>sports</th>\n",
       "      <th>is</th>\n",
       "      <th>for</th>\n",
       "      <th>play</th>\n",
       "      <th>healthy</th>\n",
       "      <th>pizza</th>\n",
       "    </tr>\n",
       "  </thead>\n",
       "  <tbody>\n",
       "    <tr>\n",
       "      <th>0</th>\n",
       "      <td>0.0</td>\n",
       "      <td>0.0</td>\n",
       "      <td>1.0</td>\n",
       "      <td>1.0</td>\n",
       "      <td>1.0</td>\n",
       "      <td>1.0</td>\n",
       "      <td>0.0</td>\n",
       "      <td>0.0</td>\n",
       "      <td>0.0</td>\n",
       "      <td>0.0</td>\n",
       "      <td>0.0</td>\n",
       "      <td>1.0</td>\n",
       "      <td>0.0</td>\n",
       "      <td>0.0</td>\n",
       "      <td>0.0</td>\n",
       "    </tr>\n",
       "    <tr>\n",
       "      <th>1</th>\n",
       "      <td>1.0</td>\n",
       "      <td>0.0</td>\n",
       "      <td>0.0</td>\n",
       "      <td>0.0</td>\n",
       "      <td>0.0</td>\n",
       "      <td>0.0</td>\n",
       "      <td>1.0</td>\n",
       "      <td>0.0</td>\n",
       "      <td>0.0</td>\n",
       "      <td>1.0</td>\n",
       "      <td>0.0</td>\n",
       "      <td>0.0</td>\n",
       "      <td>1.0</td>\n",
       "      <td>0.0</td>\n",
       "      <td>0.0</td>\n",
       "    </tr>\n",
       "    <tr>\n",
       "      <th>2</th>\n",
       "      <td>0.0</td>\n",
       "      <td>0.0</td>\n",
       "      <td>0.0</td>\n",
       "      <td>0.0</td>\n",
       "      <td>0.0</td>\n",
       "      <td>0.0</td>\n",
       "      <td>0.0</td>\n",
       "      <td>0.0</td>\n",
       "      <td>0.0</td>\n",
       "      <td>1.0</td>\n",
       "      <td>1.0</td>\n",
       "      <td>0.0</td>\n",
       "      <td>0.0</td>\n",
       "      <td>1.0</td>\n",
       "      <td>0.0</td>\n",
       "    </tr>\n",
       "    <tr>\n",
       "      <th>3</th>\n",
       "      <td>0.0</td>\n",
       "      <td>0.0</td>\n",
       "      <td>1.0</td>\n",
       "      <td>1.0</td>\n",
       "      <td>0.0</td>\n",
       "      <td>0.0</td>\n",
       "      <td>0.0</td>\n",
       "      <td>0.0</td>\n",
       "      <td>0.0</td>\n",
       "      <td>0.0</td>\n",
       "      <td>0.0</td>\n",
       "      <td>0.0</td>\n",
       "      <td>0.0</td>\n",
       "      <td>0.0</td>\n",
       "      <td>1.0</td>\n",
       "    </tr>\n",
       "  </tbody>\n",
       "</table>\n",
       "</div>"
      ],
      "text/plain": [
       "   secret  offer  low  price  valued  customer  today  dollar  million  \\\n",
       "0     0.0    0.0  1.0    1.0     1.0       1.0    0.0     0.0      0.0   \n",
       "1     1.0    0.0  0.0    0.0     0.0       0.0    1.0     0.0      0.0   \n",
       "2     0.0    0.0  0.0    0.0     0.0       0.0    0.0     0.0      0.0   \n",
       "3     0.0    0.0  1.0    1.0     0.0       0.0    0.0     0.0      0.0   \n",
       "\n",
       "   sports   is  for  play  healthy  pizza  \n",
       "0     0.0  0.0  1.0   0.0      0.0    0.0  \n",
       "1     1.0  0.0  0.0   1.0      0.0    0.0  \n",
       "2     1.0  1.0  0.0   0.0      1.0    0.0  \n",
       "3     0.0  0.0  0.0   0.0      0.0    1.0  "
      ]
     },
     "metadata": {},
     "output_type": "display_data"
    },
    {
     "data": {
      "text/plain": [
       "(None, None, None, None)"
      ]
     },
     "execution_count": 7,
     "metadata": {},
     "output_type": "execute_result"
    }
   ],
   "source": [
    "print('Spam Vectors'),display(spam_vecs.T), print('\\n Non-Spam Vectors'),display(no_spam_vecs.T)"
   ]
  },
  {
   "cell_type": "code",
   "execution_count": 8,
   "metadata": {
    "scrolled": true
   },
   "outputs": [
    {
     "data": {
      "text/html": [
       "<div>\n",
       "<style scoped>\n",
       "    .dataframe tbody tr th:only-of-type {\n",
       "        vertical-align: middle;\n",
       "    }\n",
       "\n",
       "    .dataframe tbody tr th {\n",
       "        vertical-align: top;\n",
       "    }\n",
       "\n",
       "    .dataframe thead th {\n",
       "        text-align: right;\n",
       "    }\n",
       "</style>\n",
       "<table border=\"1\" class=\"dataframe\">\n",
       "  <thead>\n",
       "    <tr style=\"text-align: right;\">\n",
       "      <th></th>\n",
       "      <th>secret</th>\n",
       "      <th>offer</th>\n",
       "      <th>low</th>\n",
       "      <th>price</th>\n",
       "      <th>valued</th>\n",
       "      <th>customer</th>\n",
       "      <th>today</th>\n",
       "      <th>dollar</th>\n",
       "      <th>million</th>\n",
       "      <th>sports</th>\n",
       "      <th>is</th>\n",
       "      <th>for</th>\n",
       "      <th>play</th>\n",
       "      <th>healthy</th>\n",
       "      <th>pizza</th>\n",
       "    </tr>\n",
       "  </thead>\n",
       "  <tbody>\n",
       "    <tr>\n",
       "      <th>0</th>\n",
       "      <td>0.0</td>\n",
       "      <td>1.0</td>\n",
       "      <td>0.0</td>\n",
       "      <td>0.0</td>\n",
       "      <td>0.0</td>\n",
       "      <td>0.0</td>\n",
       "      <td>0.0</td>\n",
       "      <td>1.0</td>\n",
       "      <td>1.0</td>\n",
       "      <td>0.0</td>\n",
       "      <td>0.0</td>\n",
       "      <td>0.0</td>\n",
       "      <td>0.0</td>\n",
       "      <td>0.0</td>\n",
       "      <td>0.0</td>\n",
       "    </tr>\n",
       "    <tr>\n",
       "      <th>1</th>\n",
       "      <td>1.0</td>\n",
       "      <td>1.0</td>\n",
       "      <td>0.0</td>\n",
       "      <td>0.0</td>\n",
       "      <td>0.0</td>\n",
       "      <td>0.0</td>\n",
       "      <td>1.0</td>\n",
       "      <td>0.0</td>\n",
       "      <td>0.0</td>\n",
       "      <td>0.0</td>\n",
       "      <td>0.0</td>\n",
       "      <td>0.0</td>\n",
       "      <td>0.0</td>\n",
       "      <td>0.0</td>\n",
       "      <td>0.0</td>\n",
       "    </tr>\n",
       "    <tr>\n",
       "      <th>2</th>\n",
       "      <td>2.0</td>\n",
       "      <td>0.0</td>\n",
       "      <td>0.0</td>\n",
       "      <td>0.0</td>\n",
       "      <td>0.0</td>\n",
       "      <td>0.0</td>\n",
       "      <td>0.0</td>\n",
       "      <td>0.0</td>\n",
       "      <td>0.0</td>\n",
       "      <td>0.0</td>\n",
       "      <td>1.0</td>\n",
       "      <td>0.0</td>\n",
       "      <td>0.0</td>\n",
       "      <td>0.0</td>\n",
       "      <td>0.0</td>\n",
       "    </tr>\n",
       "    <tr>\n",
       "      <th>0</th>\n",
       "      <td>0.0</td>\n",
       "      <td>0.0</td>\n",
       "      <td>1.0</td>\n",
       "      <td>1.0</td>\n",
       "      <td>1.0</td>\n",
       "      <td>1.0</td>\n",
       "      <td>0.0</td>\n",
       "      <td>0.0</td>\n",
       "      <td>0.0</td>\n",
       "      <td>0.0</td>\n",
       "      <td>0.0</td>\n",
       "      <td>1.0</td>\n",
       "      <td>0.0</td>\n",
       "      <td>0.0</td>\n",
       "      <td>0.0</td>\n",
       "    </tr>\n",
       "    <tr>\n",
       "      <th>1</th>\n",
       "      <td>1.0</td>\n",
       "      <td>0.0</td>\n",
       "      <td>0.0</td>\n",
       "      <td>0.0</td>\n",
       "      <td>0.0</td>\n",
       "      <td>0.0</td>\n",
       "      <td>1.0</td>\n",
       "      <td>0.0</td>\n",
       "      <td>0.0</td>\n",
       "      <td>1.0</td>\n",
       "      <td>0.0</td>\n",
       "      <td>0.0</td>\n",
       "      <td>1.0</td>\n",
       "      <td>0.0</td>\n",
       "      <td>0.0</td>\n",
       "    </tr>\n",
       "    <tr>\n",
       "      <th>2</th>\n",
       "      <td>0.0</td>\n",
       "      <td>0.0</td>\n",
       "      <td>0.0</td>\n",
       "      <td>0.0</td>\n",
       "      <td>0.0</td>\n",
       "      <td>0.0</td>\n",
       "      <td>0.0</td>\n",
       "      <td>0.0</td>\n",
       "      <td>0.0</td>\n",
       "      <td>1.0</td>\n",
       "      <td>1.0</td>\n",
       "      <td>0.0</td>\n",
       "      <td>0.0</td>\n",
       "      <td>1.0</td>\n",
       "      <td>0.0</td>\n",
       "    </tr>\n",
       "    <tr>\n",
       "      <th>3</th>\n",
       "      <td>0.0</td>\n",
       "      <td>0.0</td>\n",
       "      <td>1.0</td>\n",
       "      <td>1.0</td>\n",
       "      <td>0.0</td>\n",
       "      <td>0.0</td>\n",
       "      <td>0.0</td>\n",
       "      <td>0.0</td>\n",
       "      <td>0.0</td>\n",
       "      <td>0.0</td>\n",
       "      <td>0.0</td>\n",
       "      <td>0.0</td>\n",
       "      <td>0.0</td>\n",
       "      <td>0.0</td>\n",
       "      <td>1.0</td>\n",
       "    </tr>\n",
       "  </tbody>\n",
       "</table>\n",
       "</div>"
      ],
      "text/plain": [
       "   secret  offer  low  price  valued  customer  today  dollar  million  \\\n",
       "0     0.0    1.0  0.0    0.0     0.0       0.0    0.0     1.0      1.0   \n",
       "1     1.0    1.0  0.0    0.0     0.0       0.0    1.0     0.0      0.0   \n",
       "2     2.0    0.0  0.0    0.0     0.0       0.0    0.0     0.0      0.0   \n",
       "0     0.0    0.0  1.0    1.0     1.0       1.0    0.0     0.0      0.0   \n",
       "1     1.0    0.0  0.0    0.0     0.0       0.0    1.0     0.0      0.0   \n",
       "2     0.0    0.0  0.0    0.0     0.0       0.0    0.0     0.0      0.0   \n",
       "3     0.0    0.0  1.0    1.0     0.0       0.0    0.0     0.0      0.0   \n",
       "\n",
       "   sports   is  for  play  healthy  pizza  \n",
       "0     0.0  0.0  0.0   0.0      0.0    0.0  \n",
       "1     0.0  0.0  0.0   0.0      0.0    0.0  \n",
       "2     0.0  1.0  0.0   0.0      0.0    0.0  \n",
       "0     0.0  0.0  1.0   0.0      0.0    0.0  \n",
       "1     1.0  0.0  0.0   1.0      0.0    0.0  \n",
       "2     1.0  1.0  0.0   0.0      1.0    0.0  \n",
       "3     0.0  0.0  0.0   0.0      0.0    1.0  "
      ]
     },
     "metadata": {},
     "output_type": "display_data"
    }
   ],
   "source": [
    "X_text = pd.concat((spam_vecs.T,no_spam_vecs.T), axis=0)\n",
    "display(X_text)"
   ]
  },
  {
   "cell_type": "code",
   "execution_count": 9,
   "metadata": {},
   "outputs": [],
   "source": [
    "X_text_class = np.concatenate((spam_vecs.values.T,no_spam_vecs.values.T), axis=0)\n",
    "y_text_class = np.concatenate((np.zeros(3),np.ones(4)))"
   ]
  },
  {
   "cell_type": "code",
   "execution_count": 10,
   "metadata": {},
   "outputs": [
    {
     "data": {
      "text/plain": [
       "array([[0., 1., 0., 0., 0., 0., 0., 1., 1., 0., 0., 0., 0., 0., 0.],\n",
       "       [1., 1., 0., 0., 0., 0., 1., 0., 0., 0., 0., 0., 0., 0., 0.],\n",
       "       [2., 0., 0., 0., 0., 0., 0., 0., 0., 0., 1., 0., 0., 0., 0.],\n",
       "       [0., 0., 1., 1., 1., 1., 0., 0., 0., 0., 0., 1., 0., 0., 0.],\n",
       "       [1., 0., 0., 0., 0., 0., 1., 0., 0., 1., 0., 0., 1., 0., 0.],\n",
       "       [0., 0., 0., 0., 0., 0., 0., 0., 0., 1., 1., 0., 0., 1., 0.],\n",
       "       [0., 0., 1., 1., 0., 0., 0., 0., 0., 0., 0., 0., 0., 0., 1.]])"
      ]
     },
     "metadata": {},
     "output_type": "display_data"
    },
    {
     "data": {
      "text/plain": [
       "array([0., 0., 0., 1., 1., 1., 1.])"
      ]
     },
     "metadata": {},
     "output_type": "display_data"
    }
   ],
   "source": [
    "display(X_text_class)\n",
    "display(y_text_class)"
   ]
  },
  {
   "cell_type": "markdown",
   "metadata": {},
   "source": [
    "**1) (10 points) Calculate P(y = 0) and P(y = 1) from the training data, where y = 0 corresponds to spam messages, and y = 1 corresponds to non-spam messages.**"
   ]
  },
  {
   "cell_type": "code",
   "execution_count": 11,
   "metadata": {},
   "outputs": [
    {
     "name": "stdout",
     "output_type": "stream",
     "text": [
      "P(y=1) = 4/7\n",
      "P(y=0) = 3/7\n"
     ]
    }
   ],
   "source": [
    "print(f'P(y=1) = {np.sum(y_text_class==1)}/{y_text_class.shape[0]}')\n",
    "print(f'P(y=0) = {np.sum(y_text_class==0)}/{y_text_class.shape[0]}')"
   ]
  },
  {
   "cell_type": "markdown",
   "metadata": {},
   "source": [
    "**2) (10 points) In the Naive Bayes model, the likelihood of a sentence with feature vector x given a class c is**\n",
    "\n",
    "$$ P(x|y = c) = \\prod^d_{k=1}{θ^{x_k}_{c,k}}$$\n",
    "\n",
    "**where θc,k ∈ (0, 1) is the weight of word k in class c, which satisfies $\\sum^n_{k=1}{θ_{c,k} = 1}, \\forall{c}$. Calculate the maximum likelihood estimates of $θ_{0,1}, θ_{0,7}, θ_{1,1}, θ_{1,15}$ by maximizing $P(x|y = c)$ with respect to $θ_{c,k}$ and given data. (Hint: Consider the Lagrangian function for solving this constrained optimization problem. You only need to introduce one Lagrangian multiplier because you only have one constraint. Consider log-likelihood (i.e., taking log of the cost function). Then solve it from there.)**"
   ]
  },
  {
   "cell_type": "markdown",
   "metadata": {},
   "source": [
    "The maximixation function provided as:\n",
    "\n",
    "$$ \\ell(\\theta_{0,1}, \\ldots, \\theta_{0, d}, \\theta_{1,1}, \\ldots, \\theta_{1, d})= \\sum_{i=1}^m \\sum_{k=1}^d x_k^{(i)} \\log \\theta_{y^{(i)}, k} $$\n",
    "\n",
    "where:\n",
    "* m: total number of datapoints (in our case 7)\n",
    "* d: total number of features of the vector $X^i$ (in our case 15)\n",
    "\n",
    "\n",
    "Subject to: $\\sum^d_{k=1}{θ_{0,k}} = 1$  and also $\\sum^d_{k=1}{θ_{1,k}}= 1$ \n",
    "\n",
    "Using the Lagrangian function tranformation we get the following:\n",
    "\n",
    "$$L(\\ell(\\theta_{y^{(i)},k}),\\lambda_{1},\\lambda_{2}) = \\sum_{i=1}^m \\sum_{k=1}^d x_k^{(i)} \\log \\theta_{y^{(i)}, k} + \\lambda_{1}*\\left(\\sum^d_{k=1}{θ_{0,k}} - 1\\right)+ \\lambda_{2}*\\left(\\sum^d_{k=1}{θ_{1,k}}- 1\\right) $$\n",
    "\n",
    "Next we take the first derivative of the Lagrangian function with respect to $\\theta_{c,k}$ and set it to zero:\n",
    "\n",
    "\n",
    "$$\\frac{\\partial{L}}{\\partial{\\theta_{0,1}}} = 0 \\Leftrightarrow \\frac{\\partial{L}}{\\partial{\\theta_{0,1}}} = \\sum_{i=1}^m \\frac{x_1^{(i)}} {\\theta_{y^{(i)},1}}+ \\lambda_{1} = 0 $$\n",
    "$$\\lambda_{1} = -\\sum_{i=1}^m \\frac{x_1^{(i)}} {\\theta_{y^{(i)},1}}$$\n",
    "for $y^{(i)}=0$, meaning three first messages that are spam : $$\\theta_{0,1} = - \\frac{\\sum_{i=1}^3 x_1^{(i)}} {\\lambda_{1}} $$\n",
    "and similarly: $$\\frac{\\partial{L}}{\\partial{\\theta_{0,7}}} = 0 \\Leftrightarrow \\theta_{0,7} = -\\sum_{i=1}^3 \\frac{x_7^{(i)}} {\\lambda_{1}} $$\n",
    "\n",
    "\n",
    "and following the above derivation for 'not-spam' class, $y^{(i)}=1$:\n",
    "$$\\lambda_{2} = -\\sum_{i=4}^m \\frac{x_1^{(i)}} {\\theta_{y^{(i)},1}}$$\n",
    "$$\\theta_{1,1} = - \\frac{\\sum_{i=4}^m x_1^{(i)}} {\\lambda_{2}} $$\n",
    "$$\\theta_{1,15} = - \\frac{\\sum_{i=4}^m x_{15}^{(i)}} {\\lambda_{2}} $$\n",
    "\n",
    "Since $\\sum^d_{k=1}{θ_{0,k}} = 1$  and also $\\sum^d_{k=1}{θ_{1,k}}= 1$  we get:\n",
    "\n",
    "$$- \\frac{\\sum_{i=1}^3 (x_1^{(i)} + x_2^{(i)} + ... + x_{d=15}^{(i)})} {\\lambda_{1}} = 1 \\Leftrightarrow \\lambda_{1} = -\\sum_{i=1}^3(x_1^{(i)} + x_2^{(i)} + ... + x_{d=15}^{(i)})$$\n",
    "$$- \\frac{\\sum_{i=4}^{m=7} (x_1^{(i)} + x_2^{(i)} + ... + x_{d=15}^{(i)})} {\\lambda_{2}} = 1 \\Leftrightarrow \\lambda_{2} = -\\sum_{i=4}^{m=7} (x_1^{(i)} + x_2^{(i)} + ... + x_{d=15}^{(i)})$$\n",
    "\n",
    "\n",
    "Substituting the above derived equations in the previous ones, and konwing that our three first messages are spam and the four after are not,  we get:\n",
    "\n",
    "$$\\theta_{0,k} = \\frac{\\sum_{i=1}^3{x_k^{(i)} }}{\\sum_{i=1}^3(x_1^{(i)} + x_2^{(i)} + ... + x_{d=15}^{(i)})}$$\n",
    "$$\\theta_{1,k} = \\frac{\\sum_{i=4}^{m=7}{x_k^{(i)} }}{\\sum_{i=4}^{m=7}(x_1^{(i)} + x_2^{(i)} + ... + x_{d=15}^{(i)})}$$"
   ]
  },
  {
   "cell_type": "code",
   "execution_count": 84,
   "metadata": {},
   "outputs": [
    {
     "name": "stdout",
     "output_type": "stream",
     "text": [
      "θ[0,1] = P(secret | spam)\n",
      "θ[0,7] = P(today | spam)\n",
      "θ[1,1] = P(secret | non-spam)\n",
      "θ[1,15] = P(pizza | non-spam)\n"
     ]
    }
   ],
   "source": [
    "print(f'θ[0,1] = P({V[0]} | spam)')\n",
    "print(f'θ[0,7] = P({V[6]} | spam)')\n",
    "print(f'θ[1,1] = P({V[0]} | non-spam)')\n",
    "print(f'θ[1,15] = P({V[14]} | non-spam)')"
   ]
  },
  {
   "cell_type": "markdown",
   "metadata": {},
   "source": [
    "#### following the above deriverd formulas:\n",
    "$\\theta_{0,1} = \\frac {0+1+2}{0+1+2+1+1+1+1+1+1} = \\frac {3}{9} = $ 0.3333333333333333 <br><br>\n",
    "$\\theta_{0,7} = \\frac {1}{0+1+2+1+1+1+1+1+1} = \\frac {1}{9} = $ 0.1111111111111111 <br><br>\n",
    "$\\theta_{1,1} = \\frac {1}{1+1+1+1+1+1+1+1+1+1+1+1+1+1+1} = \\frac {1}{15} = $ 0.06666666666666667 <br> <br>\n",
    "$\\theta_{1,15} = \\frac {1}{1+1+1+1+1+1+1+1+1+1+1+1+1+1+1} = \\frac {1}{15} = $ 0.06666666666666667 <br><br>"
   ]
  },
  {
   "cell_type": "markdown",
   "metadata": {},
   "source": [
    "**3) (10 points) Given a new message “today is secret”, decide whether it is spam or not spam, based on the Naive Bayes classifier, learned from the above data.**"
   ]
  },
  {
   "cell_type": "markdown",
   "metadata": {},
   "source": [
    "#### we already know that :\n",
    "$$ P(x|y = c) = \\prod^n_{k=1}{θ^{x_k}_{c,k}}$$"
   ]
  },
  {
   "cell_type": "markdown",
   "metadata": {},
   "source": [
    "#### we have all the ingredient to calculate the $ P(x|y = c) $ except for $\\theta_{0,11}$ and $\\theta_{1,11}$, but we can simply calculate that as well:"
   ]
  },
  {
   "cell_type": "code",
   "execution_count": 5,
   "metadata": {},
   "outputs": [
    {
     "name": "stdout",
     "output_type": "stream",
     "text": [
      "θ[0,11] = P(is | spam)\n",
      "θ[1,11] = P(is | non-spam)\n"
     ]
    }
   ],
   "source": [
    "print(f'θ[0,11] = P({V[10]} | spam)')\n",
    "print(f'θ[1,11] = P({V[10]} | non-spam)')"
   ]
  },
  {
   "cell_type": "markdown",
   "metadata": {},
   "source": [
    "#### calculation for the $\\theta_{0,11}$ and $\\theta_{1,11}$ as per the earlier deribed formulas:\n",
    "$\\theta_{0,11} = \\frac {1}{0+1+2+1+1+1+1+1+1} = \\frac {1}{9} = $ 0.1111111111111111 <br><br>\n",
    "$\\theta_{1,11} = \\frac {1}{1+1+1+1+1+1+1+1+1+1+1+1+1+1+1} = \\frac {1}{15} = $ 0.06666666666666667 <br> <br>\n"
   ]
  },
  {
   "cell_type": "markdown",
   "metadata": {},
   "source": [
    "### Based on the Classifier that we built in the previous step:"
   ]
  },
  {
   "cell_type": "markdown",
   "metadata": {},
   "source": [
    "#### P(today is secret | Spam) = P(today | Spam) x P(is | Spam) * P(secret | Spam) = 0.1111111111111111  0.1111111111111111 * 0.3333333333333333 = 0.004115\n",
    "#### P(today is secret | No_spam) = P(today | No_spam) * P(is | No_spam) * P(secret | No_spam) = 0.06666666666666667 * 0.06666666666666667 * 0.06666666666666667 = 0.000296"
   ]
  },
  {
   "cell_type": "markdown",
   "metadata": {},
   "source": [
    "#### the probabaility of the new sample being a spam is higher, then we should classify that as a spam"
   ]
  },
  {
   "cell_type": "markdown",
   "metadata": {},
   "source": [
    "## 3. Neural networks. (Bonus: 3 points) \n",
    "\n",
    "\n",
    "Consider a simple two-layer network in the lecture slides. Given the cost function used to training the neural networks:**\n",
    "\n",
    "$$\\ell(w, \\alpha, \\beta) = \\sum_{i=1}^m (y^i - \\sigma(w^T z^i))^2$$\n",
    "\n",
    "**where $\\sigma (x) = 1/(1+e^{-x})$ is the sigmoid function. Show the that the gradient is given by:**\n",
    "\n",
    "$$\\frac{\\partial \\ell(w, \\alpha, \\beta) }{\\partial w} = - \\sum_{i=1}^m 2(y^i - \\sigma(u^i))\\sigma(u^i)(1-\\sigma(u^i)) z^i.$$\n",
    "\n",
    "**where $u^i = w^T z^i$. Also find the gradient of $\\ell$ with respect to $\\alpha$ and $\\beta$.**"
   ]
  },
  {
   "cell_type": "markdown",
   "metadata": {},
   "source": [
    "\n",
    "\n",
    "We take the derivative of the $\\ell(w, \\alpha, \\beta)$ with respect to $w$ and have the following:\n",
    "\n",
    "$$\\frac{\\partial \\ell(w, \\alpha, \\beta) }{\\partial w} = \n",
    " \\frac{\\partial{\\sum_{i=1}^m (y^i - \\sigma(w^T z^i))^2}}{\\partial{w}} = \\sum_{i=1}^m{\\frac{\\partial{((y^i - \\sigma(w^T z^i))^2)}}{\\partial{w}}} = \\sum_{i=1}^m{ \\frac{\\partial{((y^i - \\sigma(w^T z^i))^2)}}{\\partial{(y^i - \\sigma(w^T z^i))}} \\frac{\\partial{(y^i - \\sigma(w^T z^i))}}{\\partial{w}} } =  \\sum_{i=1}^m{2(y^i - \\sigma(w^T z^i))(\\frac{\\partial{y^i}}{\\partial{w}}   -   \\frac{\\partial{\\sigma(w^T z^i)}}{\\partial{w}} )   } = $$\n",
    "\n",
    "$$ = - \\sum_{i=1}^m{2(y^i - \\sigma(w^T z^i))  \\frac{\\partial{\\sigma(w^T z^i)}}{\\partial{w}} } =- \\sum_{i=1}^m{2(y^i - \\sigma(w^T z^i))  \\frac{\\partial{\\sigma(w^T z^i)}}{\\partial{w^T z^i}} \\frac{\\partial{w^T z^i}}{\\partial{w}}} =  - \\sum_{i=1}^m{2(y^i - \\sigma(w^T z^i))  \\frac{\\partial{\\sigma(w^T z^i)}}{\\partial{w^T z^i}} z^i}  =  $$\n",
    "\n",
    "$$ = - \\sum_{i=1}^m{2(y^i - \\sigma(u^i))  \\frac{\\partial{\\sigma(u^i)}}{\\partial{u^i}} z^i}   =  \n",
    "- \\sum_{i=1}^m{2(y^i - \\sigma(u^i))  \\frac{\\partial{(1/(1+e^{-u^i}))}}{\\partial{u^i}} z^i}   = \n",
    "- \\sum_{i=1}^m{2(y^i - \\sigma(u^i))    z^i    \\frac{(\\partial{1}/\\partial{u^i})(1+e^{-u^i}) -  \\partial{(1+e^{-u^i})} / \\partial{u^i}}   {(1+e^{-u^i})^2}} = \n",
    "- \\sum_{i=1}^m{2(y^i - \\sigma(u^i))    z^i    \\frac{e^{-u^i}}   {(1+e^{-u^i})^2}} = \n",
    "$$\n",
    "\n",
    "$$ = - \\sum_{i=1}^m{2(y^i - \\sigma(u^i))      \\frac{1}{1+e^{-u^i}}   (1 -  \\frac{1}{1+e^{-u^i}}) z^i } = - \\sum_{i=1}^m 2(y^i - \\sigma(u^i))\\sigma(u^i)(1-\\sigma(u^i)) z^i $$\n",
    "\n",
    "Now in order to get the derivatve with respect to $\\alpha$ and $\\beta$, we use the chain rule. The calculation is going to be identical for the two:\n",
    "\n",
    "$$\\frac{\\partial \\ell(w, \\alpha, \\beta) }{\\partial \\alpha} = \\frac{\\partial \\ell(w, \\alpha, \\beta) }{\\partial z_1^i} \\frac{\\partial z_1^i}{\\partial \\alpha}$$\n",
    "\n",
    "In a similar way as the proof above, we can show that:\n",
    "\n",
    "$$ \\frac{\\partial \\ell(w, \\alpha, \\beta) }{\\partial z_1^i} = \\sum_{i=1}^m {\\frac{\\partial ((y^i - \\sigma(w^T z^i_1))^2) }{\\partial z_1^i}} = - \\sum_{i=1}^m {2(y^i - \\sigma(u^i))\\sigma(u^i)(1-\\sigma(u^i)) w_1}$$\n",
    "\n",
    "Plugging this back in the equation we get:\n",
    "\n",
    "$$\\frac{\\partial \\ell(w, \\alpha, \\beta) }{\\partial \\alpha} = \\frac{\\partial \\ell(w, \\alpha, \\beta) }{\\partial z_1^i} \\frac{\\partial z_1^i}{\\partial \\alpha} =\n",
    "\\sum_{i=1}^m {\\frac{\\partial ((y^i - \\sigma(w^T z^i_1))^2) }{\\partial z_1^i} \\frac{\\partial (\\sigma(\\alpha^T x^i))}{\\partial \\alpha}} = \n",
    "- \\sum_{i=1}^m {2(y^i - \\sigma(u^i))\\sigma(u^i)(1-\\sigma(u^i)) w_1 \\frac{\\partial (\\sigma(\\alpha^T x^i))}{\\partial \\alpha}} =\n",
    "$$ \n",
    "\n",
    "$$ = - \\sum_{i=1}^m {2(y^i - \\sigma(u^i))\\sigma(u^i)(1-\\sigma(u^i)) w_1 \\frac{\\partial (1/(1+e^{-\\alpha^Tx^i}))}{\\partial \\alpha}} =\n",
    "- \\sum_{i=1}^m {2(y^i - \\sigma(u^i))\\sigma(u^i)(1-\\sigma(u^i)) w_1 \\frac{(\\partial{1}/\\partial{\\alpha})(1+e^{-\\alpha^Tx^i}) -  \\partial{(1+e^{-\\alpha^Tx^i})} / \\partial{\\alpha}} {(1+e^{-\\alpha^Tx^i})^2}} =\n",
    "$$\n",
    "\n",
    "$$ \n",
    "= - \\sum_{i=1}^m {2(y^i - \\sigma(u^i))\\sigma(u^i)(1-\\sigma(u^i)) w_1 \\frac{ e^{-\\alpha^Tx^i}} {(1+e^{-\\alpha^Tx^i})^2}x_i} =\n",
    "- \\sum_{i=1}^m {2(y^i - \\sigma(u^i))\\sigma(u^i)(1-\\sigma(u^i)) w_1 \\frac{1}{1+e^{-\\alpha^Tx^i}} (1 - \\frac{1}{1+e^{-\\alpha^Tx^i}})x_i} =\n",
    "$$\n",
    "\n",
    "$$ = - \\sum_{i=1}^m {2(y^i - \\sigma(u^i))\\sigma(u^i)(1-\\sigma(u^i)) w_1 \\sigma(\\alpha^T x^i) (1 - \\sigma(\\alpha^T x^i))x_i} $$\n",
    "\n",
    "With a similar calculation we can get the derivative with respect to $\\beta$:\n",
    "\n",
    "$$\\frac{\\partial \\ell(w, \\alpha, \\beta) }{\\partial \\beta} = \n",
    "- \\sum_{i=1}^m {2(y^i - \\sigma(u^i))\\sigma(u^i)(1-\\sigma(u^i)) w_1 \\sigma(\\alpha^T x^i) (1 - \\sigma(\\beta^T x^i))x_i} $$"
   ]
  }
 ],
 "metadata": {
  "kernelspec": {
   "display_name": "Python 3",
   "language": "python",
   "name": "python3"
  },
  "language_info": {
   "codemirror_mode": {
    "name": "ipython",
    "version": 3
   },
   "file_extension": ".py",
   "mimetype": "text/x-python",
   "name": "python",
   "nbconvert_exporter": "python",
   "pygments_lexer": "ipython3",
   "version": "3.8.3"
  }
 },
 "nbformat": 4,
 "nbformat_minor": 4
}
